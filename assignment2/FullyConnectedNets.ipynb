{
  "nbformat": 4,
  "nbformat_minor": 0,
  "metadata": {
    "colab": {
      "name": "FullyConnectedNets.ipynb",
      "provenance": [],
      "collapsed_sections": [],
      "include_colab_link": true
    },
    "kernelspec": {
      "name": "python3",
      "display_name": "Python 3"
    },
    "accelerator": "GPU"
  },
  "cells": [
    {
      "cell_type": "markdown",
      "metadata": {
        "id": "view-in-github",
        "colab_type": "text"
      },
      "source": [
        "<a href=\"https://colab.research.google.com/github/musicjae/Algorithms/blob/master/assignment2/FullyConnectedNets.ipynb\" target=\"_parent\"><img src=\"https://colab.research.google.com/assets/colab-badge.svg\" alt=\"Open In Colab\"/></a>"
      ]
    },
    {
      "cell_type": "code",
      "metadata": {
        "id": "jOCpRM1s5ct4",
        "colab_type": "code",
        "colab": {
          "base_uri": "https://localhost:8080/",
          "height": 88
        },
        "outputId": "f3800e09-6acc-401c-8494-2085ee7550c2"
      },
      "source": [
        "# this mounts your Google Drive to the Colab VM.\n",
        "from google.colab import drive\n",
        "drive.mount('/content/drive', force_remount=True)\n",
        "\n",
        "# enter the foldername in your Drive where you have saved the unzipped\n",
        "# assignment folder, e.g. 'cs231n/assignments/assignment3/'\n",
        "FOLDERNAME = 'Colab Notebooks/cs231n/assignments/assignment2'\n",
        "assert FOLDERNAME is not None, \"[!] Enter the foldername.\"\n",
        "\n",
        "# now that we've mounted your Drive, this ensures that\n",
        "# the Python interpreter of the Colab VM can load\n",
        "# python files from within it.\n",
        "import sys\n",
        "sys.path.append('/content/drive/My Drive/{}'.format(FOLDERNAME))\n",
        "\n",
        "# this downloads the CIFAR-10 dataset to your Drive\n",
        "# if it doesn't already exist.\n",
        "%cd drive/My\\ Drive/$FOLDERNAME/cs231n/datasets/\n",
        "!bash get_datasets.sh\n",
        "%cd /content"
      ],
      "execution_count": 39,
      "outputs": [
        {
          "output_type": "stream",
          "text": [
            "Mounted at /content/drive\n",
            "/content/drive/My Drive/Colab Notebooks/cs231n/assignments/assignment2/cs231n/datasets\n",
            "/content\n"
          ],
          "name": "stdout"
        }
      ]
    },
    {
      "cell_type": "markdown",
      "metadata": {
        "tags": [
          "pdf-title"
        ],
        "id": "1JVcymla5ct8",
        "colab_type": "text"
      },
      "source": [
        "# Fully-Connected Neural Nets\n",
        "In the previous homework you implemented a fully-connected two-layer neural network on CIFAR-10. The implementation was simple but not very modular since the loss and gradient were computed in a single monolithic function. This is manageable for a simple two-layer network, but would become impractical as we move to bigger models. Ideally we want to build networks using a more modular design so that we can implement different layer types in isolation and then snap them together into models with different architectures."
      ]
    },
    {
      "cell_type": "markdown",
      "metadata": {
        "tags": [
          "pdf-ignore"
        ],
        "id": "X4b8DJl35ct8",
        "colab_type": "text"
      },
      "source": [
        "In this exercise we will implement fully-connected networks using a more modular approach. For each layer we will implement a `forward` and a `backward` function. The `forward` function will receive inputs, weights, and other parameters and will return both an output and a `cache` object storing data needed for the backward pass, like this:\n",
        "\n",
        "```python \n",
        "def layer_forward(x, w):\n",
        "  \"\"\" Receive inputs x and weights w \"\"\"\n",
        "  # Do some computations ...\n",
        "  z = # ... some intermediate value\n",
        "  # Do some more computations ...\n",
        "  out = # the output\n",
        "   \n",
        "  cache = (x, w, z, out) # Values we need to compute gradients\n",
        "   \n",
        "  return out, cache\n",
        "```\n",
        "\n",
        "The backward pass will receive upstream derivatives and the `cache` object, and will return gradients with respect to the inputs and weights, like this:\n",
        "\n",
        "```python\n",
        "def layer_backward(dout, cache):\n",
        "  \"\"\"\n",
        "  Receive dout (derivative of loss with respect to outputs) and cache,\n",
        "  and compute derivative with respect to inputs.\n",
        "  \"\"\"\n",
        "  # Unpack cache values\n",
        "  x, w, z, out = cache\n",
        "  \n",
        "  # Use values in cache to compute derivatives\n",
        "  dx = # Derivative of loss with respect to x\n",
        "  dw = # Derivative of loss with respect to w\n",
        "  \n",
        "  return dx, dw\n",
        "```\n",
        "\n",
        "After implementing a bunch of layers this way, we will be able to easily combine them to build classifiers with different architectures.\n",
        "\n",
        "In addition to implementing fully-connected networks of arbitrary depth, we will also explore different update rules for optimization, and introduce Dropout as a regularizer and Batch/Layer Normalization as a tool to more efficiently optimize deep networks.\n",
        "  \n",
        "\n",
        "  두 개의 층을 가진 신경망 수행은 단순하지만 매우 모듈적이지 못했다. 왜냐하면 그 손실과 그래디언트가 하나의 거대한monolithic 함수에서 계산되기 때문이다. 이것은 단순한 신경망에 대해서는 적합하지만, 더 큰(복잡한) 모델에 대해서는 비실용적이다. <br><br>\n",
        "\n",
        "&nbsp;&nbsp;이번에 우리는 더 모듈적인 접근을 사용하여 전연결 신경망을 수행해볼 것이다.  우리는 여기서 각각의 함수에 대하여, forward 함수와 bacward 함수를 사용한다.<br><br>\n",
        "\n",
        "&nbsp;&nbsp; 위 방식으로 다량의 층을 계산하면, 우리는 이들을 쉽게 다양한 아키텍처를 가진 분류기를 만들게끔 결합할 수 있다. 임의의 depth의 전연결 신경망을 수행한 뒤에, 우리는 최적화에 대해 다양한 업데이트 규칙도 조사할 것이고, 정규화로서의 dropout과 더 효율적으로 심층 신경망을 최적화하는 도구로서의 Batch/Layer 정규화를 도입한다."
      ]
    },
    {
      "cell_type": "code",
      "metadata": {
        "tags": [
          "pdf-ignore"
        ],
        "id": "t8LqWV1A5ct9",
        "colab_type": "code",
        "colab": {
          "base_uri": "https://localhost:8080/",
          "height": 51
        },
        "outputId": "fcd5217c-760b-4d82-94fa-d0623f08bda8"
      },
      "source": [
        "# As usual, a bit of setup\n",
        "from __future__ import print_function\n",
        "import time\n",
        "import numpy as np\n",
        "import matplotlib.pyplot as plt\n",
        "from cs231n.classifiers.fc_net import *\n",
        "from cs231n.data_utils import get_CIFAR10_data\n",
        "from cs231n.gradient_check import eval_numerical_gradient, eval_numerical_gradient_array\n",
        "from cs231n.solver import Solver\n",
        "\n",
        "%matplotlib inline\n",
        "plt.rcParams['figure.figsize'] = (10.0, 8.0) # set default size of plots\n",
        "plt.rcParams['image.interpolation'] = 'nearest'\n",
        "plt.rcParams['image.cmap'] = 'gray'\n",
        "\n",
        "# for auto-reloading external modules\n",
        "# see http://stackoverflow.com/questions/1907993/autoreload-of-modules-in-ipython\n",
        "%load_ext autoreload\n",
        "%autoreload 2\n",
        "\n",
        "def rel_error(x, y):\n",
        "  \"\"\" returns relative error \"\"\"\n",
        "  return np.max(np.abs(x - y) / (np.maximum(1e-8, np.abs(x) + np.abs(y))))"
      ],
      "execution_count": 24,
      "outputs": [
        {
          "output_type": "stream",
          "text": [
            "The autoreload extension is already loaded. To reload it, use:\n",
            "  %reload_ext autoreload\n"
          ],
          "name": "stdout"
        }
      ]
    },
    {
      "cell_type": "code",
      "metadata": {
        "tags": [
          "pdf-ignore"
        ],
        "id": "ymq9smS05ct_",
        "colab_type": "code",
        "colab": {
          "base_uri": "https://localhost:8080/",
          "height": 119
        },
        "outputId": "467d6a15-6584-4f59-bca7-b9b13722d677"
      },
      "source": [
        "# Load the (preprocessed) CIFAR10 data.\n",
        "\n",
        "data = get_CIFAR10_data()\n",
        "for k, v in list(data.items()):\n",
        "  print(('%s: ' % k, v.shape))"
      ],
      "execution_count": 25,
      "outputs": [
        {
          "output_type": "stream",
          "text": [
            "('X_train: ', (49000, 3, 32, 32))\n",
            "('y_train: ', (49000,))\n",
            "('X_val: ', (1000, 3, 32, 32))\n",
            "('y_val: ', (1000,))\n",
            "('X_test: ', (1000, 3, 32, 32))\n",
            "('y_test: ', (1000,))\n"
          ],
          "name": "stdout"
        }
      ]
    },
    {
      "cell_type": "markdown",
      "metadata": {
        "id": "ETdBDVAj5cuC",
        "colab_type": "text"
      },
      "source": [
        "# Affine layer: forward\n",
        "Open the file `cs231n/layers.py` and implement the `affine_forward` function.\n",
        "\n",
        "Once you are done you can test your implementaion by running the following:"
      ]
    },
    {
      "cell_type": "code",
      "metadata": {
        "id": "c95qYEpz5cuC",
        "colab_type": "code",
        "colab": {
          "base_uri": "https://localhost:8080/",
          "height": 119
        },
        "outputId": "6f2d1d4b-4a79-47ce-f06d-f4977c0b1721"
      },
      "source": [
        "from builtins import range\n",
        "import numpy as np\n",
        "\n",
        "\n",
        "\n",
        "def affine_forward(x, w, b):\n",
        "    \"\"\"\n",
        "    Computes the forward pass for an affine (fully-connected) layer.\n",
        "\n",
        "    The input x has shape (N, d_1, ..., d_k) and contains a minibatch of N\n",
        "    examples, where each example x[i] has shape (d_1, ..., d_k). We will\n",
        "    reshape each input into a vector of dimension D = d_1 * ... * d_k, and\n",
        "    then transform it to an output vector of dimension M.\n",
        "\n",
        "    Inputs:\n",
        "    - x: A numpy array containing input data, of shape (N, d_1, ..., d_k)\n",
        "    - w: A numpy array of weights, of shape (D, M)\n",
        "    - b: A numpy array of biases, of shape (M,)\n",
        "\n",
        "    Returns a tuple of:\n",
        "    - out: output, of shape (N, M)\n",
        "    - cache: (x, w, b)\n",
        "    \"\"\"\n",
        "    out = None\n",
        "    ###########################################################################\n",
        "    # TODO: Implement the affine forward pass. Store the result in out. You   #\n",
        "    # will need to reshape the input into rows.                               \n",
        " ###########################################################################\n",
        "    # *****START OF YOUR CODE (DO NOT DELETE/MODIFY THIS LINE)*****\n",
        "\n",
        "    N = x.shape[0]\n",
        "    #x = x.reshape(N, -1) \n",
        "    #위와 같이 x를 따로 reshape을 해주면, backward 함수에서 dx의 reshape이 제대로 되지 않는다.\n",
        "    out = x.reshape(N, -1).dot(w)+b\n",
        "    \n",
        "    # *****END OF YOUR CODE (DO NOT DELETE/MODIFY THIS LINE)*****\n",
        "    ###########################################################################\n",
        "    #                             END OF YOUR CODE                            \n",
        "    ###########################################################################\n",
        "    cache = (x, w, b)\n",
        "    \n",
        "    return out, cache\n",
        "\n",
        "# Test the affine_forward function\n",
        "\n",
        "num_inputs = 2\n",
        "input_shape = (4, 5, 6)\n",
        "output_dim = 3\n",
        "\n",
        "input_size = num_inputs * np.prod(input_shape) #flattening process 1\n",
        "weight_size = output_dim * np.prod(input_shape)\n",
        "\n",
        "x = np.linspace(-0.1, 0.5, num=input_size).reshape(num_inputs, *input_shape) # (2,4,5,6)\n",
        "print('x의 shape: ', x.shape) # x(2,4,5,6)\n",
        "w = np.linspace(-0.2, 0.3, num=weight_size).reshape(np.prod(input_shape), output_dim)\n",
        "print('w의 shape: ',w.shape) # w(120, 3)\n",
        "b = np.linspace(-0.3, 0.1, num=output_dim) # flattening process 2\n",
        "print('b의 shape: ',b.shape) # b(3, )\n",
        "out, _ = affine_forward(x, w, b) \n",
        "print('out의 shape: ', affine_forward(x,w,b)[0].shape) # (2,3)\n",
        "correct_out = np.array([[ 1.49834967,  1.70660132,  1.91485297],\n",
        "                        [ 3.25553199,  3.5141327,   3.77273342]])\n",
        "\n",
        "# Compare your output with ours. The error should be around e-9 or less.\n",
        "print('Testing affine_forward function:')\n",
        "print('difference: ', rel_error(out, correct_out))"
      ],
      "execution_count": 26,
      "outputs": [
        {
          "output_type": "stream",
          "text": [
            "x의 shape:  (2, 4, 5, 6)\n",
            "w의 shape:  (120, 3)\n",
            "b의 shape:  (3,)\n",
            "out의 shape:  (2, 3)\n",
            "Testing affine_forward function:\n",
            "difference:  9.769849468192957e-10\n"
          ],
          "name": "stdout"
        }
      ]
    },
    {
      "cell_type": "markdown",
      "metadata": {
        "id": "oKvd_R165cuF",
        "colab_type": "text"
      },
      "source": [
        "# Affine layer: backward\n",
        "Now implement the `affine_backward` function and test your implementation using numeric gradient checking."
      ]
    },
    {
      "cell_type": "code",
      "metadata": {
        "id": "EoYTvl005cuG",
        "colab_type": "code",
        "colab": {
          "base_uri": "https://localhost:8080/",
          "height": 136
        },
        "outputId": "35dcd067-bbee-44d5-c87a-9c277cfb9dd0"
      },
      "source": [
        "def affine_backward(dout, cache):\n",
        "    \"\"\"\n",
        "    Computes the backward pass for an affine layer.\n",
        "\n",
        "    Inputs:\n",
        "    - dout: Upstream derivative, of shape (N, M)\n",
        "    - cache: Tuple of:\n",
        "      - x: Input data, of shape (N, d_1, ... d_k)\n",
        "      - w: Weights, of shape (D, M)\n",
        "      - b: Biases, of shape (M,)\n",
        "\n",
        "    Returns a tuple of:\n",
        "    - dx: Gradient with respect to x, of shape (N, d1, ..., d_k)\n",
        "    - dw: Gradient with respect to w, of shape (D, M)\n",
        "    - db: Gradient with respect to b, of shape (M,)\n",
        "    \"\"\"\n",
        "    x, w, b = cache\n",
        "    dx, dw, db = None, None, None\n",
        "    ###########################################################################\n",
        "    # TODO: Implement the affine backward pass.                               #\n",
        "    ###########################################################################\n",
        "    # *****START OF YOUR CODE (DO NOT DELETE/MODIFY THIS LINE)*****\n",
        "\n",
        "    dx = np.dot(dout, w.T) #size 맞추기 (10,5) x (5, 6) = (10, 6)\n",
        "    dx = dx.reshape(x.shape) # (10, 6) -> (10, 2, 3)\n",
        "    \n",
        "    x = x.reshape(len(x),-1) #flattening 해주기 (10, 6)\n",
        "    \n",
        "    dw = np.dot(x.T, dout) # (6, 10) x (10, 5) = (6, 5)\n",
        "    \n",
        "    db = np.sum(dout, axis=0) #(5, ) // (6,5)인 dout의 각각의 열을 모두 더해줌\n",
        "    \n",
        "\n",
        "    # *****END OF YOUR CODE (DO NOT DELETE/MODIFY THIS LINE)*****\n",
        "    ###########################################################################\n",
        "    #                             END OF YOUR CODE                            #\n",
        "    ###########################################################################\n",
        "    return dx, dw, db\n",
        "\n",
        "# Test the affine_backward function\n",
        "np.random.seed(231)\n",
        "x = np.random.randn(10, 2, 3)\n",
        "w = np.random.randn(6, 5)\n",
        "b = np.random.randn(5)\n",
        "dout = np.random.randn(10, 5)\n",
        "\n",
        "dx_num = eval_numerical_gradient_array(lambda x: affine_forward(x, w, b)[0], x, dout)\n",
        "dw_num = eval_numerical_gradient_array(lambda w: affine_forward(x, w, b)[0], w, dout)\n",
        "db_num = eval_numerical_gradient_array(lambda b: affine_forward(x, w, b)[0], b, dout)\n",
        "\n",
        "_, cache = affine_forward(x, w, b)\n",
        "dx, dw, db = affine_backward(dout, cache)\n",
        "print('dx의 shape: ',dx.shape)\n",
        "print('dw의 shape: ',dw.shape)\n",
        "print('db의 shape: ',db.shape) \n",
        "# The error should be around e-10 or less\n",
        "print('Testing affine_backward function:')\n",
        "print('dx error: ', rel_error(dx_num, dx))\n",
        "print('dw error: ', rel_error(dw_num, dw))\n",
        "print('db error: ', rel_error(db_num, db))"
      ],
      "execution_count": 27,
      "outputs": [
        {
          "output_type": "stream",
          "text": [
            "dx의 shape:  (10, 2, 3)\n",
            "dw의 shape:  (6, 5)\n",
            "db의 shape:  (5,)\n",
            "Testing affine_backward function:\n",
            "dx error:  5.399100368651805e-11\n",
            "dw error:  9.904211865398145e-11\n",
            "db error:  2.4122867568119087e-11\n"
          ],
          "name": "stdout"
        }
      ]
    },
    {
      "cell_type": "code",
      "metadata": {
        "id": "o-1O_fWqTZyN",
        "colab_type": "code",
        "colab": {}
      },
      "source": [
        ""
      ],
      "execution_count": 27,
      "outputs": []
    },
    {
      "cell_type": "markdown",
      "metadata": {
        "id": "tj5Y9iZ65cuI",
        "colab_type": "text"
      },
      "source": [
        "# ReLU activation: forward\n",
        "Implement the forward pass for the ReLU activation function in the `relu_forward` function and test your implementation using the following:"
      ]
    },
    {
      "cell_type": "code",
      "metadata": {
        "id": "vmB-YyIz5cuJ",
        "colab_type": "code",
        "colab": {
          "base_uri": "https://localhost:8080/",
          "height": 51
        },
        "outputId": "41f7ef6d-6fc5-4546-c16b-ba89cdc561b7"
      },
      "source": [
        "def relu_forward(x):\n",
        "    \"\"\"\n",
        "    Computes the forward pass for a layer of rectified linear units (ReLUs).\n",
        "\n",
        "    Input:\n",
        "    - x: Inputs, of any shape\n",
        "\n",
        "    Returns a tuple of:\n",
        "    - out: Output, of the same shape as x\n",
        "    - cache: x\n",
        "    \"\"\"\n",
        "    out = None\n",
        "    ###########################################################################\n",
        "    # TODO: Implement the ReLU forward pass.                                  #\n",
        "    ###########################################################################\n",
        "    # *****START OF YOUR CODE (DO NOT DELETE/MODIFY THIS LINE)*****\n",
        "\n",
        "    out = np.maximum(0,x)\n",
        "\n",
        "    # *****END OF YOUR CODE (DO NOT DELETE/MODIFY THIS LINE)*****\n",
        "    ###########################################################################\n",
        "    #                             END OF YOUR CODE                            #\n",
        "    ###########################################################################\n",
        "    cache = x\n",
        "    return out, cache\n",
        "\n",
        "# Test the relu_forward function\n",
        "\n",
        "x = np.linspace(-0.5, 0.5, num=12).reshape(3, 4)\n",
        "\n",
        "out, _ = relu_forward(x)\n",
        "correct_out = np.array([[ 0.,          0.,          0.,          0.,        ],\n",
        "                        [ 0.,          0.,          0.04545455,  0.13636364,],\n",
        "                        [ 0.22727273,  0.31818182,  0.40909091,  0.5,       ]])\n",
        "\n",
        "# Compare your output with ours. The error should be on the order of e-8\n",
        "print('Testing relu_forward function:')\n",
        "print('difference: ', rel_error(out, correct_out))\n",
        "\n",
        "\n"
      ],
      "execution_count": 28,
      "outputs": [
        {
          "output_type": "stream",
          "text": [
            "Testing relu_forward function:\n",
            "difference:  4.999999798022158e-08\n"
          ],
          "name": "stdout"
        }
      ]
    },
    {
      "cell_type": "markdown",
      "metadata": {
        "id": "48ZLkqLb5cuL",
        "colab_type": "text"
      },
      "source": [
        "# ReLU activation: backward\n",
        "Now implement the backward pass for the ReLU activation function in the `relu_backward` function and test your implementation using numeric gradient checking:"
      ]
    },
    {
      "cell_type": "code",
      "metadata": {
        "id": "H1FkwHQa5cuM",
        "colab_type": "code",
        "colab": {
          "base_uri": "https://localhost:8080/",
          "height": 102
        },
        "outputId": "3d846022-e33e-4b42-cc86-bf3ae631f745"
      },
      "source": [
        "def relu_backward(dout, cache):\n",
        "    \"\"\"\n",
        "    Computes the backward pass for a layer of rectified linear units (ReLUs).\n",
        "\n",
        "    Input:\n",
        "    - dout: Upstream derivatives, of any shape\n",
        "    - cache: Input x, of same shape as dout\n",
        "\n",
        "    Returns:\n",
        "    - dx: Gradient with respect to x\n",
        "    \"\"\"\n",
        "    dx, x = None, cache\n",
        "    ###########################################################################\n",
        "    # TODO: Implement the ReLU backward pass.                                 #\n",
        "    ###########################################################################\n",
        "    # *****START OF YOUR CODE (DO NOT DELETE/MODIFY THIS LINE)*****\n",
        "\n",
        "    dx = dout * (x>0)\n",
        "\n",
        "    # *****END OF YOUR CODE (DO NOT DELETE/MODIFY THIS LINE)*****\n",
        "    ###########################################################################\n",
        "    #                             END OF YOUR CODE                            #\n",
        "    ###########################################################################\n",
        "    return dx\n",
        "\n",
        "np.random.seed(231)\n",
        "x = np.random.randn(10, 10)\n",
        "dout = np.random.randn(*x.shape)\n",
        "\n",
        "dx_num = eval_numerical_gradient_array(lambda x: relu_forward(x)[0], x, dout)\n",
        "\n",
        "_, cache = relu_forward(x)\n",
        "dx = relu_backward(dout, cache)\n",
        "print('dout의 shape: ',dout.shape)\n",
        "print('dx의 shape: ',dx.shape)\n",
        "print('dx_num의 shape: ',dx_num.shape)\n",
        "\n",
        "# The error should be on the order of e-12\n",
        "print('Testing relu_backward function:')\n",
        "print('dx error: ', rel_error(dx_num, dx))\n"
      ],
      "execution_count": 29,
      "outputs": [
        {
          "output_type": "stream",
          "text": [
            "dout의 shape:  (10, 10)\n",
            "dx의 shape:  (10, 10)\n",
            "dx_num의 shape:  (10, 10)\n",
            "Testing relu_backward function:\n",
            "dx error:  3.2756349136310288e-12\n"
          ],
          "name": "stdout"
        }
      ]
    },
    {
      "cell_type": "markdown",
      "metadata": {
        "tags": [
          "pdf-inline"
        ],
        "id": "lNfhNGwR5cuO",
        "colab_type": "text"
      },
      "source": [
        "## Inline Question 1: \n",
        "\n",
        "We've only asked you to implement ReLU, but there are a number of different activation functions that one could use in neural networks, each with its pros and cons. In particular, an issue commonly seen with activation functions is getting zero (or close to zero) gradient flow during backpropagation. Which of the following activation functions have this problem? If you consider these functions in the one dimensional case, what types of input would lead to this behaviour?\n",
        "1. Sigmoid\n",
        "2. ReLU\n",
        "3. Leaky ReLU\n",
        "\n",
        "## Answer:\n",
        "답 (1). 시그모이드 함수를 사용하면, $|x|$가 커질수록, 그것의 미분 값이 0에 수렴하기 때문에, vanishing gradient 현상이 나타난다. 나머지 ReLU 유형의 함수들은 이런 문제를 해결해준다.\n",
        "\n"
      ]
    },
    {
      "cell_type": "markdown",
      "metadata": {
        "id": "JBecHn255cuO",
        "colab_type": "text"
      },
      "source": [
        "# \"Sandwich\" layers\n",
        "There are some common patterns of layers that are frequently used in neural nets. For example, affine layers are frequently followed by a ReLU nonlinearity. To make these common patterns easy, we define several convenience layers in the file `cs231n/layer_utils.py`.\n",
        "\n",
        "For now take a look at the `affine_relu_forward` and `affine_relu_backward` functions, and run the following to numerically gradient check the backward pass:\n",
        "\n",
        "\n",
        "&nbsp;&nbsp; 신경망에서 자주 사용되는 층의 흔한 패턴이 있다. 예를 들자면, 아핀affine층은 보통 ReLU 비선형성에 뒤이어 나온다. 이 흔한 패턴을 쉽게 만들어주기 위해, 우리는 `cs231n/layer_utils.py` 파일에서 몇 가지 편리 층 convenience layers을 정의한다.<br><br>\n",
        "&nbsp;&nbsp;이제, `affine_relu_forward` and `affine_relu_backward` functions를 살펴보자."
      ]
    },
    {
      "cell_type": "code",
      "metadata": {
        "id": "pvdsoNxM5cuP",
        "colab_type": "code",
        "colab": {
          "base_uri": "https://localhost:8080/",
          "height": 85
        },
        "outputId": "20568e20-9919-4dac-fc7e-4438dab4c1da"
      },
      "source": [
        "from cs231n.layer_utils import affine_relu_forward, affine_relu_backward\n",
        "np.random.seed(231)\n",
        "x = np.random.randn(2, 3, 4)\n",
        "w = np.random.randn(12, 10)\n",
        "b = np.random.randn(10)\n",
        "dout = np.random.randn(2, 10)\n",
        "\n",
        "out, cache = affine_relu_forward(x, w, b)\n",
        "dx, dw, db = affine_relu_backward(dout, cache)\n",
        "\n",
        "dx_num = eval_numerical_gradient_array(lambda x: affine_relu_forward(x, w, b)[0], x, dout)\n",
        "dw_num = eval_numerical_gradient_array(lambda w: affine_relu_forward(x, w, b)[0], w, dout)\n",
        "db_num = eval_numerical_gradient_array(lambda b: affine_relu_forward(x, w, b)[0], b, dout)\n",
        "\n",
        "print('Testing affine_relu_forward:')\n",
        "print('dx error: ', rel_error(dx_num, dx))\n",
        "print('dw error: ', rel_error(dw_num, dw))\n",
        "print('db error: ', rel_error(db_num, db))"
      ],
      "execution_count": 30,
      "outputs": [
        {
          "output_type": "stream",
          "text": [
            "Testing affine_relu_forward:\n",
            "dx error:  2.299579177309368e-11\n",
            "dw error:  8.162011105764925e-11\n",
            "db error:  7.826724021458994e-12\n"
          ],
          "name": "stdout"
        }
      ]
    },
    {
      "cell_type": "markdown",
      "metadata": {
        "id": "AgYDQZ7u5cuR",
        "colab_type": "text"
      },
      "source": [
        "# Loss layers: Softmax and SVM\n",
        "You implemented these loss functions in the last assignment, so we'll give them to you for free here. You should still make sure you understand how they work by looking at the implementations in `cs231n/layers.py`.\n",
        "\n",
        "You can make sure that the implementations are correct by running the following:"
      ]
    },
    {
      "cell_type": "code",
      "metadata": {
        "id": "csK7RZC95cuS",
        "colab_type": "code",
        "colab": {
          "base_uri": "https://localhost:8080/",
          "height": 170
        },
        "outputId": "4293b27f-f623-4007-f80a-c2446d6d36bb"
      },
      "source": [
        "np.random.seed(231)\n",
        "num_classes, num_inputs = 10, 50\n",
        "x = 0.001 * np.random.randn(num_inputs, num_classes)\n",
        "y = np.random.randint(num_classes, size=num_inputs)\n",
        "\n",
        "dx_num = eval_numerical_gradient(lambda x: svm_loss(x, y)[0], x, verbose=False)\n",
        "loss, dx = svm_loss(x, y)\n",
        "\n",
        "# Test svm_loss function. Loss should be around 9 and dx error should be around the order of e-9\n",
        "print('Testing svm_loss:')\n",
        "print('loss: ', loss)\n",
        "print('dx error: ', rel_error(dx_num, dx))\n",
        "a = rel_error(dx_num, dx)\n",
        "\n",
        "dx_num = eval_numerical_gradient(lambda x: softmax_loss(x, y)[0], x, verbose=False)\n",
        "loss, dx = softmax_loss(x, y)\n",
        "\n",
        "# Test softmax_loss function. Loss should be close to 2.3 and dx error should be around e-8\n",
        "print('\\nTesting softmax_loss:')\n",
        "print('loss: ', loss)\n",
        "print('dx error: ', rel_error(dx_num, dx))\n",
        "b = rel_error(dx_num, dx)\n",
        "\n",
        "print('>>\\n For loss, svm > softmax, but for dx_error, svm < softmax')"
      ],
      "execution_count": 31,
      "outputs": [
        {
          "output_type": "stream",
          "text": [
            "Testing svm_loss:\n",
            "loss:  8.999602749096233\n",
            "dx error:  1.4021566006651672e-09\n",
            "\n",
            "Testing softmax_loss:\n",
            "loss:  2.302545844500738\n",
            "dx error:  9.384673161989355e-09\n",
            ">>\n",
            " For loss, svm > softmax, but for dx_error, svm < softmax\n"
          ],
          "name": "stdout"
        }
      ]
    },
    {
      "cell_type": "code",
      "metadata": {
        "id": "RM9OSJ73ioDf",
        "colab_type": "code",
        "colab": {
          "base_uri": "https://localhost:8080/",
          "height": 238
        },
        "outputId": "545f5298-ad51-44bd-8638-9592b2cefc45"
      },
      "source": [
        "a = np.array([1,2,3,4,5,6])\n",
        "a = a.reshape(2,3)\n",
        "\n",
        "b=np.array([1,1,1])\n",
        "b = b.reshape(3, )\n",
        "\n",
        "print('a 행렬: ','\\n','\\n', a,'\\n','\\n','bias: ','\\n','\\n', b,'\\n','\\n','브로드 캐스팅 결과: ','\\n','\\n',a+b)"
      ],
      "execution_count": 32,
      "outputs": [
        {
          "output_type": "stream",
          "text": [
            "a 행렬:  \n",
            " \n",
            " [[1 2 3]\n",
            " [4 5 6]] \n",
            " \n",
            " bias:  \n",
            " \n",
            " [1 1 1] \n",
            " \n",
            " 브로드 캐스팅 결과:  \n",
            " \n",
            " [[2 3 4]\n",
            " [5 6 7]]\n"
          ],
          "name": "stdout"
        }
      ]
    },
    {
      "cell_type": "code",
      "metadata": {
        "id": "xc3fJG2jdqrN",
        "colab_type": "code",
        "colab": {
          "base_uri": "https://localhost:8080/",
          "height": 119
        },
        "outputId": "fca7ecca-aa47-4465-ab61-b7fcfe8d038b"
      },
      "source": [
        "from builtins import range\n",
        "import numpy as np\n",
        "\n",
        "\n",
        "from cs231n.layers import *\n",
        "from cs231n.fast_layers import *\n",
        "\n",
        "class test(object):\n",
        "\n",
        "    def __init__(self, affine_relu_forward):\n",
        "        self.affine_relu_forward = affine_relu_forward\n",
        "    \n",
        "\n",
        "    def affine_forward(x, w, b):\n",
        "        out = None\n",
        "        ###########################################################################\n",
        "        N = x.shape[0]\n",
        "        out = x.reshape(N, -1).dot(w)+b\n",
        "        ###########################################################################\n",
        "        cache = (x, w, b)\n",
        "\n",
        "        return out, cache\n",
        "\n",
        "    def affine_backward(dout, cache):\n",
        "   \n",
        "        x, w, b = cache\n",
        "        dx, dw, db = None, None, None\n",
        "        ###########################################################################\n",
        "   \n",
        "        dx = np.dot(dout, w.T) #size 맞추기 (10,5) x (5, 6) = (10, 6)\n",
        "        dx = dx.reshape(x.shape) # (10, 6) -> (10, 2, 3)\n",
        "    \n",
        "        x = x.reshape(len(x),-1) #flattening 해주기 (10, 6)\n",
        "    \n",
        "        dw = np.dot(x.T, dout) # (6, 10) x (10, 5) = (6, 5)\n",
        "    \n",
        "        db = np.sum(dout, axis=0) #(5, ) // (6,5)인 dout의 각각의 열을 모두 더해줌\n",
        "     \n",
        "        ###########################################################################\n",
        "        return dx, dw, db\n",
        "\n",
        "\n",
        "\n",
        "    def affine_relu_forward(x, w, b):\n",
        "   \n",
        "        a, fc_cache = affine_forward(x, w, b)\n",
        "        out, relu_cache = relu_forward(a)\n",
        "        cache = (fc_cache, relu_cache)\n",
        "\n",
        "        return out, cache\n",
        "\n",
        "    def affine_relu_backward(dout, cache):\n",
        "    \n",
        "        fc_cache, relu_cache = cache\n",
        "        da = relu_backward(dout, relu_cache)\n",
        "        dx, dw, db = affine_backward(da, fc_cache)\n",
        "    \n",
        "        return dx, dw, db\n",
        "\n",
        "num_inputs = 2\n",
        "input_shape = (4, 5, 6)\n",
        "output_dim = 3\n",
        "\n",
        "input_size = num_inputs * np.prod(input_shape) #flattening process 1\n",
        "weight_size = output_dim * np.prod(input_shape)\n",
        "\n",
        "x = np.linspace(-0.1, 0.5, num=input_size).reshape(num_inputs, *input_shape) # (2,4,5,6)\n",
        "w = np.linspace(-0.2, 0.3, num=weight_size).reshape(np.prod(input_shape), output_dim)\n",
        "b = np.linspace(-0.3, 0.1, num=output_dim) # flattening process 2\n",
        "\n",
        "print('x의 shape: ', x.shape) # x(2,4,5,6)\n",
        "print('w의 shape: ',w.shape) # w(120, 3)\n",
        "print('b의 shape: ',b.shape) # b(3, )\n",
        "\n",
        "model = test(affine_relu_forward)\n",
        "\n",
        "aa = model.affine_relu_forward(x,w,b)\n",
        "#a = model.affine_relu_backward(aa[0],aa[1])\n",
        "\n",
        "list_aa = list(aa)\n",
        "\n",
        "print(list_aa[0].shape)\n",
        "print(list_aa[1][1])\n"
      ],
      "execution_count": 33,
      "outputs": [
        {
          "output_type": "stream",
          "text": [
            "x의 shape:  (2, 4, 5, 6)\n",
            "w의 shape:  (120, 3)\n",
            "b의 shape:  (3,)\n",
            "(2, 3)\n",
            "[[1.49834967 1.70660132 1.91485297]\n",
            " [3.25553199 3.5141327  3.77273342]]\n"
          ],
          "name": "stdout"
        }
      ]
    },
    {
      "cell_type": "code",
      "metadata": {
        "id": "dpVnRelWgw3T",
        "colab_type": "code",
        "colab": {
          "base_uri": "https://localhost:8080/",
          "height": 470
        },
        "outputId": "09583797-d790-4d1c-c6ae-f158e549976f"
      },
      "source": [
        "#My small lab test (not contained in assignment2)\n",
        "\n",
        "class TwoLayerNet(object):\n",
        "   \n",
        "\n",
        "    def __init__(\n",
        "        self,\n",
        "        input_dim=3 * 32 * 32,\n",
        "        hidden_dim=100,\n",
        "        num_classes=10,\n",
        "        weight_scale=1e-3,\n",
        "        reg=0.0,\n",
        "    ):\n",
        "        self.params = {}\n",
        "        self.reg = reg\n",
        "\n",
        "        self.params['W1'] = weight_scale*np.random.randn(input_dim,hidden_dim)\n",
        "        self.params['b1'] = np.zeros(hidden_dim)\n",
        "\n",
        "        self.params['W2'] = weight_scale*np.random.randn(hidden_dim, num_classes)\n",
        "        self.params['b2'] = np.zeros(num_classes)\n",
        "\n",
        "\n",
        "    def loss(self, X, y=None):\n",
        "        \n",
        "        scores = None\n",
        "        # X = 3, 5\n",
        "        W1 = self.params['W1'] # 5, 50\n",
        "        W2 = self.params['W2'] # 50, 7\n",
        "        b1 = self.params['b1'] # 50,\n",
        "        b2 = self.params['b2'] # 7,\n",
        "     \n",
        "############################# start ##########################################\n",
        "       \n",
        "        h, cache1 = affine_relu_forward(X, W1, b1)\n",
        "        scores, cache2 = affine_forward(h, W2, b2)  \n",
        "\n",
        "############################## end #############################################\n",
        "\n",
        "        # If y is None then we are in test mode so just return scores\n",
        "        if y is None:\n",
        "            return scores # 3,7\n",
        "\n",
        "            loss, grads = 0, {}\n",
        "        ########################################################################\n",
        "        # (1) grad 딕셔너리에 그래디언트를, 손실 변수에는 손실을 저장하라. \n",
        "        # (2) 소프트맥스를 사용하여 데이터 손실을 계산하라\n",
        "        # (3) grad[k]가 self.param[k]의 grad에 성립한다는 것을 확인하라.\n",
        "        # (4) 정규화 L2 하라\n",
        "        # (5) 0.5 인자를 포함하여 그래디언트 표현을 단순화 하라.                                                            \n",
        "        ########################################################################\n",
        "\n",
        "        loss, dout = softmax_loss(scores, y)\n",
        "        loss += 0.5 * self.reg * (np.sum(W1**2)+(np.sum(W2**2)))\n",
        "        dout = softmax_loss(scores, y)[1]\n",
        "        dh, dW2, db2 = affine_relu_backward(dout, cache2)\n",
        "        dx, dW1, db1 = affine_relu_backward(dh, cache1)\n",
        "        \n",
        "        grads['W2'] = dW2 + self.reg * W2\n",
        "        grads['b2'] = db2\n",
        "\n",
        "        grads['W1'] = dW + self.reg * W1\n",
        "        grads['b1'] = db1\n",
        "\n",
        "        return loss, grads\n",
        "        ########################################################################\n",
        "      \n",
        "    N, D, H, C = 3, 5, 50, 7\n",
        "    X = np.random.randn(N, D)\n",
        "    dout= None\n",
        "    cache2 = []\n",
        "    std = 1e-3\n",
        "\n",
        "    model = TwoLayerNet(input_dim=D, hidden_dim=H, num_classes=C, weight_scale=std)\n",
        "\n",
        "    print('W1: ',model.params['W1'].shape)\n",
        "    print('W2: ',model.params['W2'].shape)\n",
        "    print('b1: ',model.params['b1'].shape)\n",
        "    print('b2: ',model.params['b2'].shape)\n",
        "    print('X * W1 = ', np.dot(X, model.params['W1']).shape)\n",
        "    print('scores = ', scores.shape)\n",
        "    print('손실: ', softmax_loss(scores, y)[0])\n",
        "    print('dout: ' , softmax_loss(scores, y)[1].shape)\n",
        "    print('dW2: ', affine_relu_backward(dout, cache2))\n",
        "    print('grad dW2: ', grad['W2'])\n",
        "    \n",
        "    "
      ],
      "execution_count": 34,
      "outputs": [
        {
          "output_type": "stream",
          "text": [
            "W1:  (5, 50)\n",
            "W2:  (50, 7)\n",
            "b1:  (50,)\n",
            "b2:  (7,)\n",
            "X * W1 =  (3, 50)\n"
          ],
          "name": "stdout"
        },
        {
          "output_type": "error",
          "ename": "NameError",
          "evalue": "ignored",
          "traceback": [
            "\u001b[0;31m---------------------------------------------------------------------------\u001b[0m",
            "\u001b[0;31mNameError\u001b[0m                                 Traceback (most recent call last)",
            "\u001b[0;32m<ipython-input-34-8902e6fdf380>\u001b[0m in \u001b[0;36m<module>\u001b[0;34m()\u001b[0m\n\u001b[1;32m      1\u001b[0m \u001b[0;31m#My small lab test (not contained in assignment2)\u001b[0m\u001b[0;34m\u001b[0m\u001b[0;34m\u001b[0m\u001b[0;34m\u001b[0m\u001b[0m\n\u001b[1;32m      2\u001b[0m \u001b[0;34m\u001b[0m\u001b[0m\n\u001b[0;32m----> 3\u001b[0;31m \u001b[0;32mclass\u001b[0m \u001b[0mTwoLayerNet\u001b[0m\u001b[0;34m(\u001b[0m\u001b[0mobject\u001b[0m\u001b[0;34m)\u001b[0m\u001b[0;34m:\u001b[0m\u001b[0;34m\u001b[0m\u001b[0;34m\u001b[0m\u001b[0m\n\u001b[0m\u001b[1;32m      4\u001b[0m \u001b[0;34m\u001b[0m\u001b[0m\n\u001b[1;32m      5\u001b[0m \u001b[0;34m\u001b[0m\u001b[0m\n",
            "\u001b[0;32m<ipython-input-34-8902e6fdf380>\u001b[0m in \u001b[0;36mTwoLayerNet\u001b[0;34m()\u001b[0m\n\u001b[1;32m     79\u001b[0m     \u001b[0mprint\u001b[0m\u001b[0;34m(\u001b[0m\u001b[0;34m'b2: '\u001b[0m\u001b[0;34m,\u001b[0m\u001b[0mmodel\u001b[0m\u001b[0;34m.\u001b[0m\u001b[0mparams\u001b[0m\u001b[0;34m[\u001b[0m\u001b[0;34m'b2'\u001b[0m\u001b[0;34m]\u001b[0m\u001b[0;34m.\u001b[0m\u001b[0mshape\u001b[0m\u001b[0;34m)\u001b[0m\u001b[0;34m\u001b[0m\u001b[0;34m\u001b[0m\u001b[0m\n\u001b[1;32m     80\u001b[0m     \u001b[0mprint\u001b[0m\u001b[0;34m(\u001b[0m\u001b[0;34m'X * W1 = '\u001b[0m\u001b[0;34m,\u001b[0m \u001b[0mnp\u001b[0m\u001b[0;34m.\u001b[0m\u001b[0mdot\u001b[0m\u001b[0;34m(\u001b[0m\u001b[0mX\u001b[0m\u001b[0;34m,\u001b[0m \u001b[0mmodel\u001b[0m\u001b[0;34m.\u001b[0m\u001b[0mparams\u001b[0m\u001b[0;34m[\u001b[0m\u001b[0;34m'W1'\u001b[0m\u001b[0;34m]\u001b[0m\u001b[0;34m)\u001b[0m\u001b[0;34m.\u001b[0m\u001b[0mshape\u001b[0m\u001b[0;34m)\u001b[0m\u001b[0;34m\u001b[0m\u001b[0;34m\u001b[0m\u001b[0m\n\u001b[0;32m---> 81\u001b[0;31m     \u001b[0mprint\u001b[0m\u001b[0;34m(\u001b[0m\u001b[0;34m'scores = '\u001b[0m\u001b[0;34m,\u001b[0m \u001b[0mscores\u001b[0m\u001b[0;34m.\u001b[0m\u001b[0mshape\u001b[0m\u001b[0;34m)\u001b[0m\u001b[0;34m\u001b[0m\u001b[0;34m\u001b[0m\u001b[0m\n\u001b[0m\u001b[1;32m     82\u001b[0m     \u001b[0mprint\u001b[0m\u001b[0;34m(\u001b[0m\u001b[0;34m'손실: '\u001b[0m\u001b[0;34m,\u001b[0m \u001b[0msoftmax_loss\u001b[0m\u001b[0;34m(\u001b[0m\u001b[0mscores\u001b[0m\u001b[0;34m,\u001b[0m \u001b[0my\u001b[0m\u001b[0;34m)\u001b[0m\u001b[0;34m[\u001b[0m\u001b[0;36m0\u001b[0m\u001b[0;34m]\u001b[0m\u001b[0;34m)\u001b[0m\u001b[0;34m\u001b[0m\u001b[0;34m\u001b[0m\u001b[0m\n\u001b[1;32m     83\u001b[0m     \u001b[0mprint\u001b[0m\u001b[0;34m(\u001b[0m\u001b[0;34m'dout: '\u001b[0m \u001b[0;34m,\u001b[0m \u001b[0msoftmax_loss\u001b[0m\u001b[0;34m(\u001b[0m\u001b[0mscores\u001b[0m\u001b[0;34m,\u001b[0m \u001b[0my\u001b[0m\u001b[0;34m)\u001b[0m\u001b[0;34m[\u001b[0m\u001b[0;36m1\u001b[0m\u001b[0;34m]\u001b[0m\u001b[0;34m.\u001b[0m\u001b[0mshape\u001b[0m\u001b[0;34m)\u001b[0m\u001b[0;34m\u001b[0m\u001b[0;34m\u001b[0m\u001b[0m\n",
            "\u001b[0;31mNameError\u001b[0m: name 'scores' is not defined"
          ]
        }
      ]
    },
    {
      "cell_type": "markdown",
      "metadata": {
        "id": "lKT02Nwd5cuZ",
        "colab_type": "text"
      },
      "source": [
        "# Two-layer network\n",
        "In the previous assignment you implemented a two-layer neural network in a single monolithic class. Now that you have implemented modular versions of the necessary layers, you will reimplement the two layer network using these modular implementations.\n",
        "\n",
        "Open the file `cs231n/classifiers/fc_net.py` and complete the implementation of the `TwoLayerNet` class. This class will serve as a model for the other networks you will implement in this assignment, so read through it to make sure you understand the API. You can run the cell below to test your implementation.\n",
        "\n",
        "&nbsp;&nbsp; 이전 과제에서 우리는 하나의 획일적인monolithic 클래스 내에서 복층two-layer신경망을 실행해봤다. 우리는 이미 necessary layers의 모듈 버젼을 실행해봤기 때문에,  이 모듈을 사용하여 아래에서 복층 신경망을 다시 실행해볼 것이다.<br><br>`cs231n/classifiers/fc_net.py`를 열어서 TwoLayerNet class를 완성해 보자. 이 클래스는 우리가 이 과제 내에서 수행할 다른 신경망에 대한 모델을 제공할 것이다. 따라서 이 API를 확실히 이해하기 위해 이 클래스를 자세히 읽어보라. \n"
      ]
    },
    {
      "cell_type": "code",
      "metadata": {
        "id": "HRtVE7Oc5cua",
        "colab_type": "code",
        "colab": {}
      },
      "source": [
        "class TwoLayerNet(object):\n",
        "    \"\"\"\n",
        " \n",
        "      ReLU 비선형 함수와 모듈적 층 디자인을 사용하는 소프트맥스 손실을 가진 복층 전연결 신경망. 우리는\n",
        "    입력값 차원을 D, 은닉 차원을 H 개라고 하고, C 개의 클래스로 분류를 수행한다.\n",
        "\n",
        "    아키텍처는 affine -- 렐루 -- affine -- 소프트맥스로 구성된다.\n",
        "\n",
        "    이 클래스가 경사 하강법을 수행하지 않는 대신에 <최적화를 수행하는 별개의 solver 대상>과 상호작용\n",
        "    한다는 것에 주목하자.\n",
        "\n",
        "    이 모델의 학습 가능한 매개변수는 <모수 이름>에서 <배열>로 사상하는 self.params 딕셔너리에 저장된다\n",
        "    \"\"\"\n",
        "\n",
        "    def __init__(\n",
        "        self,\n",
        "        input_dim=3 * 32 * 32,\n",
        "        hidden_dim=100,\n",
        "        num_classes=10,\n",
        "        weight_scale=1e-3,\n",
        "        reg=0.0,\n",
        "    ):\n",
        "        \"\"\"\n",
        "        Initialize a new network.\n",
        "\n",
        "        Inputs:\n",
        "        - input_dim: An integer giving the size of the input\n",
        "        - hidden_dim: An integer giving the size of the hidden layer\n",
        "        - num_classes: An integer giving the number of classes to classify\n",
        "        - weight_scale: Scalar giving the standard deviation for random\n",
        "          initialization of the weights.\n",
        "        - reg: Scalar giving L2 regularization strength.\n",
        "        \"\"\"\n",
        "        self.params = {}\n",
        "        self.reg = reg\n",
        "\n",
        "        ############################################################################\n",
        "        # TODO: Initialize the weights and biases of the two-layer net. Weights    #\n",
        "        # should be initialized from a Gaussian centered at 0.0 with               #\n",
        "        # standard deviation equal to weight_scale, and biases should be           #\n",
        "        # initialized to zero. All weights and biases should be stored in the      #\n",
        "        # dictionary self.params, with first layer weights                         #\n",
        "        # and biases using the keys 'W1' and 'b1' and second layer                 #\n",
        "        # weights and biases using the keys 'W2' and 'b2'.                         #\n",
        "        ############################################################################\n",
        "        # *****START OF YOUR CODE (DO NOT DELETE/MODIFY THIS LINE)*****\n",
        "\n",
        "        self.params['W1'] = weight_scale*np.random.randn(input_dim,hidden_dim)\n",
        "        self.params['W2'] = weight_scale*np.random.randn(hidden_dim, num_classes)\n",
        "        self.params['b1'] = np.zeros(hidden_dim,) \n",
        "        self.params['b2'] = np.zeros(num_classes,)\n",
        "\n",
        "        # *****END OF YOUR CODE (DO NOT DELETE/MODIFY THIS LINE)*****\n",
        "        ############################################################################\n",
        "        #                             END OF YOUR CODE                             #\n",
        "        ############################################################################\n",
        "\n",
        "    def loss(self, X, y=None):\n",
        "        scores = None\n",
        "        ############################################################################\n",
        "        # TODO: Implement the forward pass for the two-layer net, computing the    #\n",
        "        # class scores for X and storing them in the scores variable.              #\n",
        "        ############################################################################\n",
        "        layer1_output, layer1_cache = affine_relu_forward(X, self.params[\"W1\"], self.params[\"b1\"])\n",
        "        scores, layer2_cache = affine_forward(layer1_output, self.params[\"W2\"], self.params[\"b2\"])\n",
        "        ############################################################################\n",
        "        #                             END OF YOUR CODE                             #\n",
        "        ############################################################################\n",
        "\n",
        "        # If y is None then we are in test mode so just return scores\n",
        "        if y is None:\n",
        "            return scores\n",
        "\n",
        "        loss, grads = 0, {}\n",
        "        ############################################################################\n",
        "        # TODO: Implement the backward pass for the two-layer net. Store the loss  #\n",
        "        # in the loss variable and gradients in the grads dictionary. Compute data #\n",
        "        # loss using softmax, and make sure that grads[k] holds the gradients for  #\n",
        "        # self.params[k]. Don't forget to add L2 regularization!                   #\n",
        "        #                                                                          #\n",
        "        # NOTE: To ensure that your implementation matches ours and you pass the   #\n",
        "        # automated tests, make sure that your L2 regularization includes a factor #\n",
        "        # of 0.5 to simplify the expression for the gradient.                      #\n",
        "        ############################################################################\n",
        "        loss, dscores = softmax_loss(scores, y)\n",
        "        dlayer1, grads[\"W2\"], grads[\"b2\"] = affine_backward(dscores, layer2_cache)\n",
        "        dx, grads[\"W1\"], grads[\"b1\"] = affine_relu_backward(dlayer1, layer1_cache)\n",
        "\n",
        "        loss += 0.5 * self.reg * np.sum(self.params[\"W1\"] * self.params[\"W1\"]) + 0.5 * self.reg * np.sum(self.params[\"W2\"] *  self.params[\"W2\"])\n",
        "        grads[\"W1\"] += self.reg * self.params[\"W1\"]\n",
        "        grads[\"W2\"] += self.reg * self.params[\"W2\"]\n",
        "        ############################################################################\n",
        "        #                             END OF YOUR CODE                             #\n",
        "        ############################################################################\n",
        "\n",
        "        return loss, grads\n",
        "\n",
        "      ###########################  main  #########################################\n",
        "\n",
        "\n",
        "np.random.seed(231)\n",
        "N, D, H, C = 3, 5, 50, 7\n",
        "X = np.random.randn(N, D)\n",
        "y = np.random.randint(C, size=N)\n",
        "\n",
        "std = 1e-3\n",
        "model = TwoLayerNet(input_dim=D, hidden_dim=H, num_classes=C, weight_scale=std)\n",
        "\n",
        "print('Testing initialization ... ')\n",
        "W1_std = abs(model.params['W1'].std() - std)\n",
        "b1 = model.params['b1']\n",
        "W2_std = abs(model.params['W2'].std() - std)\n",
        "b2 = model.params['b2']\n",
        "assert W1_std < std / 10, 'First layer weights do not seem right'\n",
        "assert np.all(b1 == 0), 'First layer biases do not seem right'\n",
        "assert W2_std < std / 10, 'Second layer weights do not seem right'\n",
        "assert np.all(b2 == 0), 'Second layer biases do not seem right'\n",
        "\n",
        "print('Testing test-time forward pass ... ')\n",
        "model.params['W1'] = np.linspace(-0.7, 0.3, num=D*H).reshape(D, H)\n",
        "model.params['b1'] = np.linspace(-0.1, 0.9, num=H)\n",
        "model.params['W2'] = np.linspace(-0.3, 0.4, num=H*C).reshape(H, C)\n",
        "model.params['b2'] = np.linspace(-0.9, 0.1, num=C)\n",
        "X = np.linspace(-5.5, 4.5, num=N*D).reshape(D, N).T\n",
        "scores = model.loss(X)\n",
        "correct_scores = np.asarray(\n",
        "  [[11.53165108,  12.2917344,   13.05181771,  13.81190102,  14.57198434, 15.33206765,  16.09215096],\n",
        "   [12.05769098,  12.74614105,  13.43459113,  14.1230412,   14.81149128, 15.49994135,  16.18839143],\n",
        "   [12.58373087,  13.20054771,  13.81736455,  14.43418138,  15.05099822, 15.66781506,  16.2846319 ]])\n",
        "scores_diff = np.abs(scores - correct_scores).sum()\n",
        "assert scores_diff < 1e-6, 'Problem with test-time forward pass'\n",
        "\n",
        "print('Testing training loss (no regularization)')\n",
        "y = np.asarray([0, 5, 1])\n",
        "loss, grads = model.loss(X, y)\n",
        "correct_loss = 3.4702243556\n",
        "assert abs(loss - correct_loss) < 1e-10, 'Problem with training-time loss'\n",
        "\n",
        "model.reg = 1.0\n",
        "loss, grads = model.loss(X, y)\n",
        "correct_loss = 26.5948426952\n",
        "assert abs(loss - correct_loss) < 1e-10, 'Problem with regularization loss'\n",
        "\n",
        "for reg in [0.0, 0.7]:\n",
        "  print('Running numeric gradient check with reg = ', reg)\n",
        "  model.reg = reg\n",
        "  loss, grads = model.loss(X, y)\n",
        "\n",
        "  for name in sorted(grads):\n",
        "    f = lambda _: model.loss(X, y)[0]\n",
        "    grad_num = eval_numerical_gradient(f, model.params[name], verbose=False)\n",
        "    print('%s relative error: %.2e' % (name, rel_error(grad_num, grads[name])))"
      ],
      "execution_count": null,
      "outputs": []
    },
    {
      "cell_type": "markdown",
      "metadata": {
        "id": "LoF2I5nj5cuc",
        "colab_type": "text"
      },
      "source": [
        "# Solver\n",
        "In the previous assignment, the logic for training models was coupled to the models themselves. Following a more modular design, for this assignment we have split the logic for training models into a separate class.\n",
        "\n",
        "Open the file `cs231n/solver.py` and read through it to familiarize yourself with the API. After doing so, use a `Solver` instance to train a `TwoLayerNet` that achieves at least `50%` accuracy on the validation set."
      ]
    },
    {
      "cell_type": "code",
      "metadata": {
        "id": "tln_solver_accuracy",
        "colab_type": "code",
        "colab": {}
      },
      "source": [
        "model = TwoLayerNet()\n",
        "solver = None\n",
        "\n",
        "##############################################################################\n",
        "# TODO: Use a Solver instance to train a TwoLayerNet that achieves at least  #\n",
        "# 50% accuracy on the validation set.                                        #\n",
        "##############################################################################\n",
        "# *****START OF YOUR CODE (DO NOT DELETE/MODIFY THIS LINE)*****\n",
        "\n",
        "solver = Solver(model, data,\n",
        "                update_rule='sgd',\n",
        "                optim_config={'learning_rate': 1e-3},\n",
        "                lr_decay=0.95,\n",
        "                num_epochs=10, batch_size=100,\n",
        "                print_every=100)\n",
        "solver.train()\n",
        "\n",
        "# *****END OF YOUR CODE (DO NOT DELETE/MODIFY THIS LINE)*****\n",
        "##############################################################################\n",
        "#                             END OF YOUR CODE                               #\n",
        "##############################################################################"
      ],
      "execution_count": null,
      "outputs": []
    },
    {
      "cell_type": "code",
      "metadata": {
        "id": "MUG9KALh5cue",
        "colab_type": "code",
        "colab": {}
      },
      "source": [
        "# Run this cell to visualize training loss and train / val accuracy\n",
        "\n",
        "plt.subplot(2, 1, 1)\n",
        "plt.title('Training loss')\n",
        "plt.plot(solver.loss_history, 'o')\n",
        "plt.xlabel('Iteration')\n",
        "\n",
        "plt.subplot(2, 1, 2)\n",
        "plt.title('Accuracy')\n",
        "plt.plot(solver.train_acc_history, '-o', label='train')\n",
        "plt.plot(solver.val_acc_history, '-o', label='val')\n",
        "plt.plot([0.5] * len(solver.val_acc_history), 'k--')\n",
        "plt.xlabel('Epoch')\n",
        "plt.legend(loc='lower right')\n",
        "plt.gcf().set_size_inches(15, 12)\n",
        "plt.show()\n",
        "\n",
        "# 두 그래프 간의 간격이 너무 크다 ==> overfitting ==> reg 높여줘야 함.\n",
        "# 반대로 너무 좁다 ==> 모델 capacity 를 증가시켜 줘야 해\n"
      ],
      "execution_count": null,
      "outputs": []
    },
    {
      "cell_type": "markdown",
      "metadata": {
        "id": "y2baNUI65cug",
        "colab_type": "text"
      },
      "source": [
        "# Multilayer network\n",
        "Next you will implement a fully-connected network with an arbitrary number of hidden layers.\n",
        "\n",
        "Read through the `FullyConnectedNet` class in the file `cs231n/classifiers/fc_net.py`.\n",
        "\n",
        "Implement the initialization, the forward pass, and the backward pass. For the moment don't worry about implementing dropout or batch/layer normalization; we will add those features soon."
      ]
    },
    {
      "cell_type": "code",
      "metadata": {
        "id": "WIAvQOUttqqN",
        "colab_type": "code",
        "colab": {}
      },
      "source": [
        "# Studying of the fc_net in my small lab\n",
        "\n",
        "from builtins import range\n",
        "from builtins import object\n",
        "import numpy as np\n",
        "\n",
        "from cs231n.layers import *\n",
        "from cs231n.layer_utils import *\n",
        "\n",
        "\n",
        "class FullyConnectedNet(object):\n",
        "    \"\"\"\n",
        "    A fully-connected neural network with an arbitrary number of hidden layers,\n",
        "    ReLU nonlinearities, and a softmax loss function. This will also implement\n",
        "    dropout and batch/layer normalization as options. For a network with L layers,\n",
        "    the architecture will be\n",
        "\n",
        "    {affine - [batch/layer norm] - relu - [dropout]} x (L - 1) - affine - softmax\n",
        "\n",
        "    where batch/layer normalization and dropout are optional, and the {...} block is\n",
        "    repeated L - 1 times.\n",
        "\n",
        "    Similar to the TwoLayerNet above, learnable parameters are stored in the\n",
        "    self.params dictionary and will be learned using the Solver class.\n",
        "    \"\"\"\n",
        "\n",
        "    def __init__(\n",
        "        self,\n",
        "        hidden_dims,\n",
        "        input_dim=3 * 32 * 32,\n",
        "        num_classes=10,\n",
        "        dropout=1,\n",
        "        normalization=None,\n",
        "        reg=0.0,\n",
        "        weight_scale=1e-2,\n",
        "        dtype=np.float32,\n",
        "        seed=None,\n",
        "        use_batchnorm=False\n",
        "    ):\n",
        "        \"\"\"\n",
        "        Initialize a new FullyConnectedNet.\n",
        "\n",
        "        Inputs:\n",
        "        - hidden_dims: A list of integers giving the size of each hidden layer.\n",
        "        - input_dim: An integer giving the size of the input.\n",
        "        - num_classes: An integer giving the number of classes to classify.\n",
        "\n",
        "        - dropout: giving dropout strength, 0~1의 스칼라. If dropout=1 then dropout 사용 x.\n",
        "\n",
        "        - normalization: What type of normalization the network should use. Valid values\n",
        "          are \"batchnorm\", \"layernorm\", or None for no normalization (the default).\n",
        "        - reg: Scalar giving L2 regularization strength.\n",
        "        - weight_scale: 가중치의 랜덤 초기화의 표준 편차를 제공해주는 스칼라\n",
        "        - dtype: A numpy datatype object; all computations will be performed using\n",
        "          this datatype. float32 is faster but less accurate, so you should use\n",
        "          float64 for numeric gradient checking.\n",
        "\n",
        "        - seed:\n",
        "        \n",
        "         If seed = None, then this random seed ==pass==> dropout layers.\n",
        "        \n",
        "         This will make the dropout layers deteriminstic, so we can gradient check the\n",
        "          model.\n",
        "        \"\"\"\n",
        "\n",
        "\n",
        "        self.normalization = normalization\n",
        "        self.use_dropout = dropout != 1\n",
        "        self.reg = reg\n",
        "        self.num_layers = 1 + len(hidden_dims)\n",
        "        self.dtype = dtype\n",
        "        self.params = {}\n",
        "\n",
        "        ############################################################################\n",
        "        # TODO: Initialize the parameters of the network, storing all values in    #\n",
        "        # the self.params dictionary. Store weights and biases for the first layer #\n",
        "        # in W1 and b1; for the second layer use W2 and b2, etc. Weights should be #\n",
        "        # initialized from a normal distribution centered at 0 with standard       #\n",
        "        # deviation equal to weight_scale. Biases should be initialized to zero.   #\n",
        "        #                                                                          #\n",
        "        # When using batch normalization, store scale and shift parameters for the #\n",
        "        # first layer in gamma1 and beta1; for the second layer use gamma2 and     #\n",
        "        # beta2, etc. Scale parameters should be initialized to ones and shift     #\n",
        "        # parameters should be initialized to zeros.        \n",
        "        ############################################################################\n",
        "        \"\"\" \n",
        "        모든 값을 self.params 딕셔너리에 저장하면서, 연결망의 모수를 초기화하라. 가중치는 표준 정구 분포로\n",
        "        초기화되어야 하고, bias는 0으로 초기화되어야 한다.\n",
        "\n",
        "        배치 정규화 사용 시, 스케일, 쉬프트 모수를 감마, 베타에 저장하라. 스케일 모수는 1로 쉬프트 모수는 0으로\n",
        "        초기화 하라.\n",
        "\n",
        "        \"\"\"\n",
        "\n",
        "        # *****START OF YOUR CODE (DO NOT DELETE/MODIFY THIS LINE)*****\n",
        "\n",
        "        dims = np.hstack((input_dim, hidden_dims, num_classes))\n",
        "\n",
        "        for i in range(self.num_layers):\n",
        "            self.params['W%d' % (i + 1)] = weight_scale * np.random.randn(dims[i], dims[i+1])\n",
        "            self.params['b%d' % (i + 1)] = np.zeros(dims[i+1])\n",
        "\n",
        "        # *****END OF YOUR CODE (DO NOT DELETE/MODIFY THIS LINE)*****\n",
        "        ############################################################################\n",
        "        #                             END OF YOUR CODE                             #\n",
        "        ############################################################################\n",
        "\n",
        "        # When using dropout we need to pass a dropout_param dictionary to each\n",
        "        # dropout layer so that the layer knows the dropout probability and the mode\n",
        "        # (train / test). You can pass the same dropout_param to each dropout layer.\n",
        "        \"\"\"\n",
        "        드롭아웃 사용 시, 우리는 layer가 드롭아웃_확률과 그 mode(학습/테스트)를 알게 하기 위해\n",
        "        <드롭아웃_모수 딕셔너리>를 --> <각 드롭아웃 레이어>로 보낼 필요가 있다.\n",
        "        \"\"\"\n",
        "        self.dropout_param = {} # dropout 모수 초기화.\n",
        "        if self.use_dropout:\n",
        "            self.dropout_param = {\"mode\": \"train\", \"p\": dropout}\n",
        "            if seed is not None:\n",
        "                self.dropout_param[\"seed\"] = seed\n",
        "\n",
        "        # With batch normalization we need to keep track of running means and\n",
        "        # variances, so we need to pass a special bn_param object to each batch\n",
        "        # normalization layer. You should pass self.bn_params[0] to the forward pass\n",
        "        # of the first batch normalization layer, self.bn_params[1] to the forward\n",
        "        # pass of the second batch normalization layer, etc.\n",
        "\n",
        "        \"\"\"\n",
        "        배치 정규화를 가지고서, 우리는 평균, 분산을 추적할 필요가 있고, 따라서 특별한 bn_param 객체를\n",
        "        각 배치 정규화 layer로 보낼 필요가 있다. 당싲은 self.bn_params[0]를 1st 배치 정규화 층의\n",
        "        순전파로 보낼 필요가 있고, self.bn_params[1]를 2nd 배치 정규화의 순전파로 보낼 필요가 있다.\n",
        "        \"\"\"\n",
        "\n",
        "        self.bn_params = []\n",
        "        if self.normalization == \"batchnorm\":\n",
        "            self.bn_params = [{\"mode\": \"train\"} for i in range(self.num_layers - 1)]\n",
        "        if self.normalization == \"layernorm\":\n",
        "            self.bn_params = [{} for i in range(self.num_layers - 1)]\n",
        "\n",
        "        # Cast all parameters to the correct datatype\n",
        "        for k, v in self.params.items():\n",
        "            self.params[k] = v.astype(dtype)\n",
        "\n",
        "    def loss(self, X, y=None):\n",
        "        \"\"\"\n",
        "        Compute loss and gradient for the fully-connected net.\n",
        "\n",
        "        Input / output: Same as TwoLayerNet above.\n",
        "        \"\"\"\n",
        "        X = X.astype(self.dtype)\n",
        "        mode = \"test\" if y is None else \"train\"\n",
        "\n",
        "        # Set train/test mode for batchnorm params and dropout param since they\n",
        "        # behave differently during training and testing.\n",
        "        if self.use_dropout:\n",
        "            self.dropout_param[\"mode\"] = mode\n",
        "        if self.normalization == \"batchnorm\":\n",
        "            for bn_param in self.bn_params:\n",
        "                bn_param[\"mode\"] = mode\n",
        "        scores = None\n",
        "        ############################################################################\n",
        "        # TODO: Implement the forward pass for the fully-connected net, computing  #\n",
        "        # the class scores for X and storing them in the scores variable.          #\n",
        "        #                                                                          #\n",
        "        # When using dropout, you'll need to pass self.dropout_param to each       #\n",
        "        # dropout forward pass.                                                    #\n",
        "        #                                                                          #\n",
        "        # When using batch normalization, you'll need to pass self.bn_params[0] to #\n",
        "        # the forward pass for the first batch normalization layer, pass           #\n",
        "        # self.bn_params[1] to the forward pass for the second batch normalization #\n",
        "        # layer, etc.                                                              #\n",
        "        ############################################################################\n",
        "        # *****START OF YOUR CODE (DO NOT DELETE/MODIFY THIS LINE)*****\n",
        "\n",
        "        hidden_num = self.num_layers - 1\n",
        "        scores = X\n",
        "        cache_history = []\n",
        "        L2reg = 0\n",
        "        for i in range(hidden_num):\n",
        "            if self.use_batchnorm:\n",
        "                scores, cache = affine_bn_relu_forward(scores,\n",
        "                                                      self.params['W%d' % (i + 1)],\n",
        "                                                      self.params['b%d' % (i + 1)],\n",
        "                                                      self.params['gamma%d' % (i + 1)],\n",
        "                                                      self.params['beta%d' % (i + 1)],\n",
        "                                                      self.bn_params[i])\n",
        "            else:\n",
        "                scores, cache = affine_relu_forward(scores, self.params['W%d' % (i + 1)],\n",
        "                                                            self.params['b%d' % (i + 1)])\n",
        "            cache_history.append(cache)\n",
        "            if self.use_dropout:\n",
        "                scores, cache = dropout_forward(scores, self.dropout_param)\n",
        "                cache_history.append(cache)\n",
        "            L2reg += np.sum(self.params['W%d' % (i + 1)] ** 2)\n",
        "        i += 1\n",
        "        scores, cache = affine_forward(scores, self.params['W%d' % (i + 1)],\n",
        "                                               self.params['b%d' % (i + 1)])\n",
        "        cache_history.append(cache)\n",
        "        L2reg += np.sum(self.params['W%d' % (i + 1)] ** 2)\n",
        "        L2reg *= 0.5 * self.reg\n",
        "\n",
        "        # *****END OF YOUR CODE (DO NOT DELETE/MODIFY THIS LINE)*****\n",
        "        ############################################################################\n",
        "        #                             END OF YOUR CODE                             #\n",
        "        ############################################################################\n",
        "\n",
        "        # If test mode return early\n",
        "        if mode == \"test\":\n",
        "            return scores\n",
        "\n",
        "        loss, grads = 0.0, {}\n",
        "        ############################################################################\n",
        "        # TODO: Implement the backward pass for the fully-connected net. Store the #\n",
        "        # loss in the loss variable and gradients in the grads dictionary. Compute #\n",
        "        # data loss using softmax, and make sure that grads[k] holds the gradients #\n",
        "        # for self.params[k]. Don't forget to add L2 regularization!               #\n",
        "        #                                                                          #\n",
        "        # When using batch/layer normalization, you don't need to regularize the scale   #\n",
        "        # and shift parameters.                                                    #\n",
        "        #                                                                          #\n",
        "        # NOTE: To ensure that your implementation matches ours and you pass the   #\n",
        "        # automated tests, make sure that your L2 regularization includes a factor #\n",
        "        # of 0.5 to simplify the expression for the gradient.                      #\n",
        "        ############################################################################\n",
        "        # *****START OF YOUR CODE (DO NOT DELETE/MODIFY THIS LINE)*****\n",
        "\n",
        "        loss, dout = softmax_loss(scores, y)\n",
        "        loss += L2reg\n",
        "\n",
        "        dout, grads['W%d' % (i + 1)], grads['b%d' % (i + 1)] = affine_backward(dout, cache_history.pop())\n",
        "        grads['W%d' % (i + 1)] += self.reg * self.params['W%d' % (i + 1)]\n",
        "        i -= 1\n",
        "        while i >= 0:\n",
        "            if self.use_dropout:\n",
        "                dout = dropout_backward(dout, cache_history.pop())\n",
        "            if self.use_batchnorm:\n",
        "                dout, grads['W%d' % (i + 1)], grads['b%d' % (i + 1)], grads['gamma%d' % (i + 1)], grads['beta%d' % (i + 1)] = affine_bn_relu_backward(dout, cache_history.pop())\n",
        "            else:\n",
        "                dout, grads['W%d' % (i + 1)], grads['b%d' % (i + 1)] = affine_relu_backward(dout, cache_history.pop())\n",
        "            grads['W%d' % (i + 1)] += self.reg * self.params['W%d' % (i + 1)]\n",
        "            i -= 1\n",
        "\n",
        "        # *****END OF YOUR CODE (DO NOT DELETE/MODIFY THIS LINE)*****\n",
        "        ############################################################################\n",
        "        #                             END OF YOUR CODE                             #\n",
        "        ############################################################################\n",
        "\n",
        "        return loss, grads"
      ],
      "execution_count": null,
      "outputs": []
    },
    {
      "cell_type": "markdown",
      "metadata": {
        "id": "88hubznI5cuh",
        "colab_type": "text"
      },
      "source": [
        "## Initial loss and gradient check\n",
        "\n",
        "As a sanity check, run the following to check the initial loss and to gradient check the network both with and without regularization. Do the initial losses seem reasonable?\n",
        "\n",
        "For gradient checking, you should expect to see errors around 1e-7 or less."
      ]
    },
    {
      "cell_type": "code",
      "metadata": {
        "id": "Zs_b3pid5cuh",
        "colab_type": "code",
        "colab": {
          "base_uri": "https://localhost:8080/",
          "height": 289
        },
        "outputId": "8cfcc947-eab2-4a10-a80b-12e7f72fc470"
      },
      "source": [
        "np.random.seed(231)\n",
        "N, D, H1, H2, C = 2, 15, 20, 30, 10\n",
        "X = np.random.randn(N, D)\n",
        "y = np.random.randint(C, size=(N,))\n",
        "\n",
        "for reg in [0, 3.14]:\n",
        "  print('Running check with reg = ', reg)\n",
        "  model = FullyConnectedNet([H1, H2], input_dim=D, num_classes=C,\n",
        "                            reg=reg, weight_scale=5e-2, dtype=np.float64)\n",
        "\n",
        "  loss, grads = model.loss(X, y)\n",
        "  print('Initial loss: ', loss)\n",
        "  \n",
        "  # Most of the errors should be on the order of e-7 or smaller.   \n",
        "  # NOTE: It is fine however to see an error for W2 on the order of e-5\n",
        "  # for the check when reg = 0.0\n",
        "  for name in sorted(grads):\n",
        "    f = lambda _: model.loss(X, y)[0]\n",
        "    grad_num = eval_numerical_gradient(f, model.params[name], verbose=False, h=1e-5)\n",
        "    print('%s relative error: %.2e' % (name, rel_error(grad_num, grads[name])))"
      ],
      "execution_count": 35,
      "outputs": [
        {
          "output_type": "stream",
          "text": [
            "Running check with reg =  0\n",
            "Initial loss:  2.3004790897684924\n",
            "W1 relative error: 1.48e-07\n",
            "W2 relative error: 2.21e-05\n",
            "W3 relative error: 3.53e-07\n",
            "b1 relative error: 5.38e-09\n",
            "b2 relative error: 2.09e-09\n",
            "b3 relative error: 5.80e-11\n",
            "Running check with reg =  3.14\n",
            "Initial loss:  7.052114776533016\n",
            "W1 relative error: 6.86e-09\n",
            "W2 relative error: 3.52e-08\n",
            "W3 relative error: 1.32e-08\n",
            "b1 relative error: 1.48e-08\n",
            "b2 relative error: 1.72e-09\n",
            "b3 relative error: 1.80e-10\n"
          ],
          "name": "stdout"
        }
      ]
    },
    {
      "cell_type": "markdown",
      "metadata": {
        "id": "8qL5Uxx-5cuj",
        "colab_type": "text"
      },
      "source": [
        "As another sanity check, make sure you can overfit a small dataset of 50 images. First we will try a three-layer network with 100 units in each hidden layer. In the following cell, tweak the **learning rate** and **weight initialization scale** to overfit and achieve 100% training accuracy within 20 epochs."
      ]
    },
    {
      "cell_type": "code",
      "metadata": {
        "scrolled": false,
        "id": "4LisWwTD5cuk",
        "colab_type": "code",
        "colab": {
          "base_uri": "https://localhost:8080/",
          "height": 938
        },
        "outputId": "5d38841e-49a8-49c7-a161-f11d16488b9b"
      },
      "source": [
        "# TODO: Use a three-layer Net to overfit 50 training examples by \n",
        "# tweaking just the learning rate and initialization scale.\n",
        "\n",
        "num_train = 50\n",
        "small_data = {\n",
        "  'X_train': data['X_train'][:num_train],\n",
        "  'y_train': data['y_train'][:num_train],\n",
        "  'X_val': data['X_val'],\n",
        "  'y_val': data['y_val'],\n",
        "}\n",
        "\n",
        "weight_scale = 1e-2   # Experiment with this!\n",
        "learning_rate = 1e-4  # Experiment with this!\n",
        "model = FullyConnectedNet([100, 100],\n",
        "              weight_scale=weight_scale, dtype=np.float64)\n",
        "solver = Solver(model, small_data,\n",
        "                print_every=10, num_epochs=20, batch_size=25,\n",
        "                update_rule='sgd',\n",
        "                optim_config={\n",
        "                  'learning_rate': learning_rate,\n",
        "                }\n",
        "         )\n",
        "solver.train()\n",
        "\n",
        "plt.plot(solver.loss_history, 'o')\n",
        "plt.title('Training loss history')\n",
        "plt.xlabel('Iteration')\n",
        "plt.ylabel('Training loss')\n",
        "plt.show()"
      ],
      "execution_count": 36,
      "outputs": [
        {
          "output_type": "stream",
          "text": [
            "(Iteration 1 / 40) loss: 2.363364\n",
            "(Epoch 0 / 20) train acc: 0.020000; val_acc: 0.105000\n",
            "(Epoch 1 / 20) train acc: 0.020000; val_acc: 0.106000\n",
            "(Epoch 2 / 20) train acc: 0.020000; val_acc: 0.110000\n",
            "(Epoch 3 / 20) train acc: 0.020000; val_acc: 0.110000\n",
            "(Epoch 4 / 20) train acc: 0.040000; val_acc: 0.109000\n",
            "(Epoch 5 / 20) train acc: 0.040000; val_acc: 0.111000\n",
            "(Iteration 11 / 40) loss: 2.270022\n",
            "(Epoch 6 / 20) train acc: 0.040000; val_acc: 0.111000\n",
            "(Epoch 7 / 20) train acc: 0.060000; val_acc: 0.112000\n",
            "(Epoch 8 / 20) train acc: 0.060000; val_acc: 0.111000\n",
            "(Epoch 9 / 20) train acc: 0.040000; val_acc: 0.110000\n",
            "(Epoch 10 / 20) train acc: 0.040000; val_acc: 0.109000\n",
            "(Iteration 21 / 40) loss: 2.309562\n",
            "(Epoch 11 / 20) train acc: 0.060000; val_acc: 0.110000\n",
            "(Epoch 12 / 20) train acc: 0.060000; val_acc: 0.110000\n",
            "(Epoch 13 / 20) train acc: 0.060000; val_acc: 0.110000\n",
            "(Epoch 14 / 20) train acc: 0.060000; val_acc: 0.110000\n",
            "(Epoch 15 / 20) train acc: 0.060000; val_acc: 0.113000\n",
            "(Iteration 31 / 40) loss: 2.285026\n",
            "(Epoch 16 / 20) train acc: 0.060000; val_acc: 0.117000\n",
            "(Epoch 17 / 20) train acc: 0.080000; val_acc: 0.113000\n",
            "(Epoch 18 / 20) train acc: 0.080000; val_acc: 0.118000\n",
            "(Epoch 19 / 20) train acc: 0.100000; val_acc: 0.118000\n",
            "(Epoch 20 / 20) train acc: 0.100000; val_acc: 0.120000\n"
          ],
          "name": "stdout"
        },
        {
          "output_type": "display_data",
          "data": {
            "image/png": "[encoded data removed]",
            "text/plain": [
              "<Figure size 720x576 with 1 Axes>"
            ]
          },
          "metadata": {
            "tags": [],
            "needs_background": "light"
          }
        }
      ]
    },
    {
      "cell_type": "markdown",
      "metadata": {
        "id": "yhgagdh95cum",
        "colab_type": "text"
      },
      "source": [
        "Now try to use a five-layer network with 100 units on each layer to overfit 50 training examples. Again, you will have to adjust the learning rate and weight initialization scale, but you should be able to achieve 100% training accuracy within 20 epochs."
      ]
    },
    {
      "cell_type": "code",
      "metadata": {
        "id": "C-CMz6Nl5cun",
        "colab_type": "code",
        "colab": {
          "base_uri": "https://localhost:8080/",
          "height": 933
        },
        "outputId": "be073a73-d893-4e8a-e7c0-95aa50298f15"
      },
      "source": [
        "# TODO: Use a five-layer Net to overfit 50 training examples by \n",
        "# tweaking just the learning rate and initialization scale.\n",
        "\n",
        "num_train = 50\n",
        "small_data = {\n",
        "  'X_train': data['X_train'][:num_train],\n",
        "  'y_train': data['y_train'][:num_train],\n",
        "  'X_val': data['X_val'],\n",
        "  'y_val': data['y_val'],\n",
        "}\n",
        "\n",
        "learning_rate = 2e-3  # Experiment with this!\n",
        "weight_scale = 1e-5   # Experiment with this!\n",
        "model = FullyConnectedNet([100, 100, 100, 100],\n",
        "                weight_scale=weight_scale, dtype=np.float64)\n",
        "solver = Solver(model, small_data,\n",
        "                print_every=10, num_epochs=20, batch_size=25,\n",
        "                update_rule='sgd',\n",
        "                optim_config={\n",
        "                  'learning_rate': learning_rate,\n",
        "                }\n",
        "         )\n",
        "solver.train()\n",
        "\n",
        "plt.plot(solver.loss_history, 'o')\n",
        "plt.title('Training loss history')\n",
        "plt.xlabel('Iteration')\n",
        "plt.ylabel('Training loss')\n",
        "plt.show()"
      ],
      "execution_count": 37,
      "outputs": [
        {
          "output_type": "stream",
          "text": [
            "(Iteration 1 / 40) loss: 2.302585\n",
            "(Epoch 0 / 20) train acc: 0.160000; val_acc: 0.079000\n",
            "(Epoch 1 / 20) train acc: 0.160000; val_acc: 0.079000\n",
            "(Epoch 2 / 20) train acc: 0.160000; val_acc: 0.079000\n",
            "(Epoch 3 / 20) train acc: 0.160000; val_acc: 0.079000\n",
            "(Epoch 4 / 20) train acc: 0.160000; val_acc: 0.079000\n",
            "(Epoch 5 / 20) train acc: 0.160000; val_acc: 0.079000\n",
            "(Iteration 11 / 40) loss: 2.301962\n",
            "(Epoch 6 / 20) train acc: 0.160000; val_acc: 0.079000\n",
            "(Epoch 7 / 20) train acc: 0.160000; val_acc: 0.079000\n",
            "(Epoch 8 / 20) train acc: 0.160000; val_acc: 0.079000\n",
            "(Epoch 9 / 20) train acc: 0.160000; val_acc: 0.079000\n",
            "(Epoch 10 / 20) train acc: 0.160000; val_acc: 0.079000\n",
            "(Iteration 21 / 40) loss: 2.301859\n",
            "(Epoch 11 / 20) train acc: 0.160000; val_acc: 0.079000\n",
            "(Epoch 12 / 20) train acc: 0.160000; val_acc: 0.079000\n",
            "(Epoch 13 / 20) train acc: 0.160000; val_acc: 0.079000\n",
            "(Epoch 14 / 20) train acc: 0.160000; val_acc: 0.079000\n",
            "(Epoch 15 / 20) train acc: 0.160000; val_acc: 0.079000\n",
            "(Iteration 31 / 40) loss: 2.301798\n",
            "(Epoch 16 / 20) train acc: 0.160000; val_acc: 0.079000\n",
            "(Epoch 17 / 20) train acc: 0.160000; val_acc: 0.079000\n",
            "(Epoch 18 / 20) train acc: 0.160000; val_acc: 0.079000\n",
            "(Epoch 19 / 20) train acc: 0.160000; val_acc: 0.079000\n",
            "(Epoch 20 / 20) train acc: 0.160000; val_acc: 0.079000\n"
          ],
          "name": "stdout"
        },
        {
          "output_type": "display_data",
          "data": {
            "image/png": "[encoded data removed]",
            "text/plain": [
              "<Figure size 720x576 with 1 Axes>"
            ]
          },
          "metadata": {
            "tags": [],
            "needs_background": "light"
          }
        }
      ]
    },
    {
      "cell_type": "markdown",
      "metadata": {
        "tags": [
          "pdf-inline"
        ],
        "id": "5pIASHEy5cup",
        "colab_type": "text"
      },
      "source": [
        "## Inline Question 2: \n",
        "Did you notice anything about the comparative difficulty of training the three-layer net vs training the five layer net? In particular, based on your experience, which network seemed more sensitive to the initialization scale? Why do you think that is the case?\n",
        "\n",
        "## Answer:\n",
        "[FILL THIS IN]\n"
      ]
    },
    {
      "cell_type": "markdown",
      "metadata": {
        "id": "xhv7rV2R5cuq",
        "colab_type": "text"
      },
      "source": [
        "# Update rules\n",
        "So far we have used vanilla stochastic gradient descent (SGD) as our update rule. More sophisticated update rules can make it easier to train deep networks. We will implement a few of the most commonly used update rules and compare them to vanilla SGD."
      ]
    },
    {
      "cell_type": "markdown",
      "metadata": {
        "id": "GYk49Wg05cuq",
        "colab_type": "text"
      },
      "source": [
        "# SGD+Momentum\n",
        "Stochastic gradient descent with momentum is a widely used update rule that tends to make deep networks converge faster than vanilla stochastic gradient descent. See the Momentum Update section at http://cs231n.github.io/neural-networks-3/#sgd for more information.\n",
        "\n",
        "Open the file `cs231n/optim.py` and read the documentation at the top of the file to make sure you understand the API. Implement the SGD+momentum update rule in the function `sgd_momentum` and run the following to check your implementation. You should see errors less than e-8."
      ]
    },
    {
      "cell_type": "code",
      "metadata": {
        "id": "8L8x7fo65cuq",
        "colab_type": "code",
        "colab": {
          "base_uri": "https://localhost:8080/",
          "height": 51
        },
        "outputId": "5e0bdfec-ade8-4610-c9a1-f97c9d52cd37"
      },
      "source": [
        "from cs231n.optim import sgd_momentum\n",
        "\n",
        "N, D = 4, 5\n",
        "w = np.linspace(-0.4, 0.6, num=N*D).reshape(N, D)\n",
        "dw = np.linspace(-0.6, 0.4, num=N*D).reshape(N, D)\n",
        "v = np.linspace(0.6, 0.9, num=N*D).reshape(N, D)\n",
        "\n",
        "config = {'learning_rate': 1e-3, 'velocity': v}\n",
        "next_w, _ = sgd_momentum(w, dw, config=config)\n",
        "\n",
        "expected_next_w = np.asarray([\n",
        "  [ 0.1406,      0.20738947,  0.27417895,  0.34096842,  0.40775789],\n",
        "  [ 0.47454737,  0.54133684,  0.60812632,  0.67491579,  0.74170526],\n",
        "  [ 0.80849474,  0.87528421,  0.94207368,  1.00886316,  1.07565263],\n",
        "  [ 1.14244211,  1.20923158,  1.27602105,  1.34281053,  1.4096    ]])\n",
        "expected_velocity = np.asarray([\n",
        "  [ 0.5406,      0.55475789,  0.56891579, 0.58307368,  0.59723158],\n",
        "  [ 0.61138947,  0.62554737,  0.63970526,  0.65386316,  0.66802105],\n",
        "  [ 0.68217895,  0.69633684,  0.71049474,  0.72465263,  0.73881053],\n",
        "  [ 0.75296842,  0.76712632,  0.78128421,  0.79544211,  0.8096    ]])\n",
        "\n",
        "# Should see relative errors around e-8 or less\n",
        "print('next_w error: ', rel_error(next_w, expected_next_w))\n",
        "print('velocity error: ', rel_error(expected_velocity, config['velocity']))"
      ],
      "execution_count": 43,
      "outputs": [
        {
          "output_type": "stream",
          "text": [
            "next_w error:  8.882347033505819e-09\n",
            "velocity error:  4.269287743278663e-09\n"
          ],
          "name": "stdout"
        }
      ]
    },
    {
      "cell_type": "markdown",
      "metadata": {
        "id": "2OzbUdgW5cus",
        "colab_type": "text"
      },
      "source": [
        "Once you have done so, run the following to train a six-layer network with both SGD and SGD+momentum. You should see the SGD+momentum update rule converge faster."
      ]
    },
    {
      "cell_type": "code",
      "metadata": {
        "scrolled": false,
        "id": "iBpWmjp45cut",
        "colab_type": "code",
        "colab": {
          "base_uri": "https://localhost:8080/",
          "height": 1000
        },
        "outputId": "8e12527e-92db-458c-e91e-c1cbbadcfd8d"
      },
      "source": [
        "num_train = 4000\n",
        "small_data = {\n",
        "  'X_train': data['X_train'][:num_train],\n",
        "  'y_train': data['y_train'][:num_train],\n",
        "  'X_val': data['X_val'],\n",
        "  'y_val': data['y_val'],\n",
        "}\n",
        "\n",
        "solvers = {}\n",
        "\n",
        "for update_rule in ['sgd', 'sgd_momentum']:\n",
        "  print('running with ', update_rule)\n",
        "  model = FullyConnectedNet([100, 100, 100, 100, 100], weight_scale=5e-2)\n",
        "\n",
        "  solver = Solver(model, small_data,\n",
        "                  num_epochs=5, batch_size=100,\n",
        "                  update_rule=update_rule,\n",
        "                  optim_config={\n",
        "                    'learning_rate': 5e-3,\n",
        "                  },\n",
        "                  verbose=True)\n",
        "  solvers[update_rule] = solver\n",
        "  solver.train()\n",
        "  print()\n",
        "\n",
        "plt.subplot(3, 1, 1)\n",
        "plt.title('Training loss')\n",
        "plt.xlabel('Iteration')\n",
        "\n",
        "plt.subplot(3, 1, 2)\n",
        "plt.title('Training accuracy')\n",
        "plt.xlabel('Epoch')\n",
        "\n",
        "plt.subplot(3, 1, 3)\n",
        "plt.title('Validation accuracy')\n",
        "plt.xlabel('Epoch')\n",
        "\n",
        "for update_rule, solver in solvers.items():\n",
        "  plt.subplot(3, 1, 1)\n",
        "  plt.plot(solver.loss_history, 'o', label=\"loss_%s\" % update_rule)\n",
        "  \n",
        "  plt.subplot(3, 1, 2)\n",
        "  plt.plot(solver.train_acc_history, '-o', label=\"train_acc_%s\" % update_rule)\n",
        "\n",
        "  plt.subplot(3, 1, 3)\n",
        "  plt.plot(solver.val_acc_history, '-o', label=\"val_acc_%s\" % update_rule)\n",
        "  \n",
        "for i in [1, 2, 3]:\n",
        "  plt.subplot(3, 1, i)\n",
        "  plt.legend(loc='upper center', ncol=4)\n",
        "plt.gcf().set_size_inches(15, 15)\n",
        "plt.show()"
      ],
      "execution_count": 44,
      "outputs": [
        {
          "output_type": "stream",
          "text": [
            "running with  sgd\n",
            "(Iteration 1 / 200) loss: 2.559978\n",
            "(Epoch 0 / 5) train acc: 0.104000; val_acc: 0.107000\n",
            "(Iteration 11 / 200) loss: 2.356069\n",
            "(Iteration 21 / 200) loss: 2.214091\n",
            "(Iteration 31 / 200) loss: 2.205928\n",
            "(Epoch 1 / 5) train acc: 0.225000; val_acc: 0.193000\n",
            "(Iteration 41 / 200) loss: 2.132095\n",
            "(Iteration 51 / 200) loss: 2.118950\n",
            "(Iteration 61 / 200) loss: 2.116443\n",
            "(Iteration 71 / 200) loss: 2.132549\n",
            "(Epoch 2 / 5) train acc: 0.298000; val_acc: 0.260000\n",
            "(Iteration 81 / 200) loss: 1.977227\n",
            "(Iteration 91 / 200) loss: 2.007528\n",
            "(Iteration 101 / 200) loss: 2.004762\n",
            "(Iteration 111 / 200) loss: 1.885342\n",
            "(Epoch 3 / 5) train acc: 0.343000; val_acc: 0.287000\n",
            "(Iteration 121 / 200) loss: 1.891517\n",
            "(Iteration 131 / 200) loss: 1.923677\n",
            "(Iteration 141 / 200) loss: 1.957743\n",
            "(Iteration 151 / 200) loss: 1.966736\n",
            "(Epoch 4 / 5) train acc: 0.322000; val_acc: 0.305000\n",
            "(Iteration 161 / 200) loss: 1.801483\n",
            "(Iteration 171 / 200) loss: 1.973779\n",
            "(Iteration 181 / 200) loss: 1.666572\n",
            "(Iteration 191 / 200) loss: 1.909494\n",
            "(Epoch 5 / 5) train acc: 0.372000; val_acc: 0.319000\n",
            "\n",
            "running with  sgd_momentum\n",
            "(Iteration 1 / 200) loss: 3.153777\n",
            "(Epoch 0 / 5) train acc: 0.099000; val_acc: 0.088000\n",
            "(Iteration 11 / 200) loss: 2.227203\n",
            "(Iteration 21 / 200) loss: 2.125706\n",
            "(Iteration 31 / 200) loss: 1.932679\n",
            "(Epoch 1 / 5) train acc: 0.308000; val_acc: 0.258000\n",
            "(Iteration 41 / 200) loss: 1.946330\n",
            "(Iteration 51 / 200) loss: 1.780463\n",
            "(Iteration 61 / 200) loss: 1.753502\n",
            "(Iteration 71 / 200) loss: 1.844626\n",
            "(Epoch 2 / 5) train acc: 0.377000; val_acc: 0.331000\n",
            "(Iteration 81 / 200) loss: 2.028390\n",
            "(Iteration 91 / 200) loss: 1.685415\n",
            "(Iteration 101 / 200) loss: 1.513205\n",
            "(Iteration 111 / 200) loss: 1.431671\n",
            "(Epoch 3 / 5) train acc: 0.469000; val_acc: 0.335000\n",
            "(Iteration 121 / 200) loss: 1.678510\n",
            "(Iteration 131 / 200) loss: 1.545243\n",
            "(Iteration 141 / 200) loss: 1.616405\n",
            "(Iteration 151 / 200) loss: 1.676435\n",
            "(Epoch 4 / 5) train acc: 0.489000; val_acc: 0.351000\n",
            "(Iteration 161 / 200) loss: 1.442014\n",
            "(Iteration 171 / 200) loss: 1.375687\n",
            "(Iteration 181 / 200) loss: 1.344824\n",
            "(Iteration 191 / 200) loss: 1.337178\n",
            "(Epoch 5 / 5) train acc: 0.513000; val_acc: 0.345000\n",
            "\n"
          ],
          "name": "stdout"
        },
        {
          "output_type": "stream",
          "text": [
            "/usr/local/lib/python3.6/dist-packages/ipykernel_launcher.py:39: MatplotlibDeprecationWarning: Adding an axes using the same arguments as a previous axes currently reuses the earlier instance.  In a future version, a new instance will always be created and returned.  Meanwhile, this warning can be suppressed, and the future behavior ensured, by passing a unique label to each axes instance.\n",
            "/usr/local/lib/python3.6/dist-packages/ipykernel_launcher.py:42: MatplotlibDeprecationWarning: Adding an axes using the same arguments as a previous axes currently reuses the earlier instance.  In a future version, a new instance will always be created and returned.  Meanwhile, this warning can be suppressed, and the future behavior ensured, by passing a unique label to each axes instance.\n",
            "/usr/local/lib/python3.6/dist-packages/ipykernel_launcher.py:45: MatplotlibDeprecationWarning: Adding an axes using the same arguments as a previous axes currently reuses the earlier instance.  In a future version, a new instance will always be created and returned.  Meanwhile, this warning can be suppressed, and the future behavior ensured, by passing a unique label to each axes instance.\n",
            "/usr/local/lib/python3.6/dist-packages/ipykernel_launcher.py:49: MatplotlibDeprecationWarning: Adding an axes using the same arguments as a previous axes currently reuses the earlier instance.  In a future version, a new instance will always be created and returned.  Meanwhile, this warning can be suppressed, and the future behavior ensured, by passing a unique label to each axes instance.\n"
          ],
          "name": "stderr"
        },
        {
          "output_type": "display_data",
          "data": {
            "image/png": "[encoded data removed]",
            "text/plain": [
              "<Figure size 1080x1080 with 3 Axes>"
            ]
          },
          "metadata": {
            "tags": [],
            "needs_background": "light"
          }
        }
      ]
    },
    {
      "cell_type": "markdown",
      "metadata": {
        "id": "TPgc5JhR5cuv",
        "colab_type": "text"
      },
      "source": [
        "# RMSProp and Adam\n",
        "RMSProp [1] and Adam [2] are update rules that set per-parameter learning rates by using a running average of the second moments of gradients.\n",
        "\n",
        "In the file `cs231n/optim.py`, implement the RMSProp update rule in the `rmsprop` function and implement the Adam update rule in the `adam` function, and check your implementations using the tests below.\n",
        "\n",
        "**NOTE:** Please implement the _complete_ Adam update rule (with the bias correction mechanism), not the first simplified version mentioned in the course notes. \n",
        "\n",
        "[1] Tijmen Tieleman and Geoffrey Hinton. \"Lecture 6.5-rmsprop: Divide the gradient by a running average of its recent magnitude.\" COURSERA: Neural Networks for Machine Learning 4 (2012).\n",
        "\n",
        "[2] Diederik Kingma and Jimmy Ba, \"Adam: A Method for Stochastic Optimization\", ICLR 2015."
      ]
    },
    {
      "cell_type": "code",
      "metadata": {
        "id": "wzzk9vUN5cuv",
        "colab_type": "code",
        "colab": {
          "base_uri": "https://localhost:8080/",
          "height": 51
        },
        "outputId": "91490310-99f1-4293-ceb5-cf8043681a57"
      },
      "source": [
        "# Test RMSProp implementation\n",
        "from cs231n.optim import rmsprop\n",
        "\n",
        "N, D = 4, 5\n",
        "w = np.linspace(-0.4, 0.6, num=N*D).reshape(N, D)\n",
        "dw = np.linspace(-0.6, 0.4, num=N*D).reshape(N, D)\n",
        "cache = np.linspace(0.6, 0.9, num=N*D).reshape(N, D)\n",
        "\n",
        "config = {'learning_rate': 1e-2, 'cache': cache}\n",
        "next_w, _ = rmsprop(w, dw, config=config)\n",
        "\n",
        "expected_next_w = np.asarray([\n",
        "  [-0.39223849, -0.34037513, -0.28849239, -0.23659121, -0.18467247],\n",
        "  [-0.132737,   -0.08078555, -0.02881884,  0.02316247,  0.07515774],\n",
        "  [ 0.12716641,  0.17918792,  0.23122175,  0.28326742,  0.33532447],\n",
        "  [ 0.38739248,  0.43947102,  0.49155973,  0.54365823,  0.59576619]])\n",
        "expected_cache = np.asarray([\n",
        "  [ 0.5976,      0.6126277,   0.6277108,   0.64284931,  0.65804321],\n",
        "  [ 0.67329252,  0.68859723,  0.70395734,  0.71937285,  0.73484377],\n",
        "  [ 0.75037008,  0.7659518,   0.78158892,  0.79728144,  0.81302936],\n",
        "  [ 0.82883269,  0.84469141,  0.86060554,  0.87657507,  0.8926    ]])\n",
        "\n",
        "# You should see relative errors around e-7 or less\n",
        "print('next_w error: ', rel_error(expected_next_w, next_w))\n",
        "print('cache error: ', rel_error(expected_cache, config['cache']))"
      ],
      "execution_count": 45,
      "outputs": [
        {
          "output_type": "stream",
          "text": [
            "next_w error:  9.524687511038133e-08\n",
            "cache error:  2.6477955807156126e-09\n"
          ],
          "name": "stdout"
        }
      ]
    },
    {
      "cell_type": "code",
      "metadata": {
        "id": "qFkfuFr-5cux",
        "colab_type": "code",
        "colab": {
          "base_uri": "https://localhost:8080/",
          "height": 68
        },
        "outputId": "86ee5dfa-faf9-4197-bdd6-1ac934d2280d"
      },
      "source": [
        "# Test Adam implementation\n",
        "from cs231n.optim import adam\n",
        "\n",
        "N, D = 4, 5\n",
        "w = np.linspace(-0.4, 0.6, num=N*D).reshape(N, D)\n",
        "dw = np.linspace(-0.6, 0.4, num=N*D).reshape(N, D)\n",
        "m = np.linspace(0.6, 0.9, num=N*D).reshape(N, D)\n",
        "v = np.linspace(0.7, 0.5, num=N*D).reshape(N, D)\n",
        "\n",
        "config = {'learning_rate': 1e-2, 'm': m, 'v': v, 't': 5}\n",
        "next_w, _ = adam(w, dw, config=config)\n",
        "\n",
        "expected_next_w = np.asarray([\n",
        "  [-0.40094747, -0.34836187, -0.29577703, -0.24319299, -0.19060977],\n",
        "  [-0.1380274,  -0.08544591, -0.03286534,  0.01971428,  0.0722929],\n",
        "  [ 0.1248705,   0.17744702,  0.23002243,  0.28259667,  0.33516969],\n",
        "  [ 0.38774145,  0.44031188,  0.49288093,  0.54544852,  0.59801459]])\n",
        "expected_v = np.asarray([\n",
        "  [ 0.69966,     0.68908382,  0.67851319,  0.66794809,  0.65738853,],\n",
        "  [ 0.64683452,  0.63628604,  0.6257431,   0.61520571,  0.60467385,],\n",
        "  [ 0.59414753,  0.58362676,  0.57311152,  0.56260183,  0.55209767,],\n",
        "  [ 0.54159906,  0.53110598,  0.52061845,  0.51013645,  0.49966,   ]])\n",
        "expected_m = np.asarray([\n",
        "  [ 0.48,        0.49947368,  0.51894737,  0.53842105,  0.55789474],\n",
        "  [ 0.57736842,  0.59684211,  0.61631579,  0.63578947,  0.65526316],\n",
        "  [ 0.67473684,  0.69421053,  0.71368421,  0.73315789,  0.75263158],\n",
        "  [ 0.77210526,  0.79157895,  0.81105263,  0.83052632,  0.85      ]])\n",
        "\n",
        "# You should see relative errors around e-7 or less\n",
        "print('next_w error: ', rel_error(expected_next_w, next_w))\n",
        "print('v error: ', rel_error(expected_v, config['v']))\n",
        "print('m error: ', rel_error(expected_m, config['m']))"
      ],
      "execution_count": 46,
      "outputs": [
        {
          "output_type": "stream",
          "text": [
            "next_w error:  1.1395691798535431e-07\n",
            "v error:  4.208314038113071e-09\n",
            "m error:  4.214963193114416e-09\n"
          ],
          "name": "stdout"
        }
      ]
    },
    {
      "cell_type": "markdown",
      "metadata": {
        "id": "jqhXJVhJ5cuz",
        "colab_type": "text"
      },
      "source": [
        "Once you have debugged your RMSProp and Adam implementations, run the following to train a pair of deep networks using these new update rules:"
      ]
    },
    {
      "cell_type": "code",
      "metadata": {
        "id": "zm9JjJxq5cuz",
        "colab_type": "code",
        "colab": {
          "base_uri": "https://localhost:8080/",
          "height": 1000
        },
        "outputId": "73a1adb3-7cc9-4b87-d318-54d07cae02dd"
      },
      "source": [
        "learning_rates = {'rmsprop': 1e-4, 'adam': 1e-3}\n",
        "for update_rule in ['adam', 'rmsprop']:\n",
        "  print('running with ', update_rule)\n",
        "  model = FullyConnectedNet([100, 100, 100, 100, 100], weight_scale=5e-2)\n",
        "\n",
        "  solver = Solver(model, small_data,\n",
        "                  num_epochs=5, batch_size=100,\n",
        "                  update_rule=update_rule,\n",
        "                  optim_config={\n",
        "                    'learning_rate': learning_rates[update_rule]\n",
        "                  },\n",
        "                  verbose=True)\n",
        "  solvers[update_rule] = solver\n",
        "  solver.train()\n",
        "  print()\n",
        "\n",
        "plt.subplot(3, 1, 1)\n",
        "plt.title('Training loss')\n",
        "plt.xlabel('Iteration')\n",
        "\n",
        "plt.subplot(3, 1, 2)\n",
        "plt.title('Training accuracy')\n",
        "plt.xlabel('Epoch')\n",
        "\n",
        "plt.subplot(3, 1, 3)\n",
        "plt.title('Validation accuracy')\n",
        "plt.xlabel('Epoch')\n",
        "\n",
        "for update_rule, solver in list(solvers.items()):\n",
        "  plt.subplot(3, 1, 1)\n",
        "  plt.plot(solver.loss_history, 'o', label=update_rule)\n",
        "  \n",
        "  plt.subplot(3, 1, 2)\n",
        "  plt.plot(solver.train_acc_history, '-o', label=update_rule)\n",
        "\n",
        "  plt.subplot(3, 1, 3)\n",
        "  plt.plot(solver.val_acc_history, '-o', label=update_rule)\n",
        "  \n",
        "for i in [1, 2, 3]:\n",
        "  plt.subplot(3, 1, i)\n",
        "  plt.legend(loc='upper center', ncol=4)\n",
        "plt.gcf().set_size_inches(15, 15)\n",
        "plt.show()"
      ],
      "execution_count": 47,
      "outputs": [
        {
          "output_type": "stream",
          "text": [
            "running with  adam\n",
            "(Iteration 1 / 200) loss: 3.476928\n",
            "(Epoch 0 / 5) train acc: 0.143000; val_acc: 0.114000\n",
            "(Iteration 11 / 200) loss: 2.089203\n",
            "(Iteration 21 / 200) loss: 2.211850\n",
            "(Iteration 31 / 200) loss: 1.786014\n",
            "(Epoch 1 / 5) train acc: 0.393000; val_acc: 0.340000\n",
            "(Iteration 41 / 200) loss: 1.743813\n",
            "(Iteration 51 / 200) loss: 1.752165\n",
            "(Iteration 61 / 200) loss: 2.095686\n",
            "(Iteration 71 / 200) loss: 1.489003\n",
            "(Epoch 2 / 5) train acc: 0.411000; val_acc: 0.357000\n",
            "(Iteration 81 / 200) loss: 1.546641\n",
            "(Iteration 91 / 200) loss: 1.412223\n",
            "(Iteration 101 / 200) loss: 1.401821\n",
            "(Iteration 111 / 200) loss: 1.521807\n",
            "(Epoch 3 / 5) train acc: 0.494000; val_acc: 0.368000\n",
            "(Iteration 121 / 200) loss: 1.237183\n",
            "(Iteration 131 / 200) loss: 1.466022\n",
            "(Iteration 141 / 200) loss: 1.284994\n",
            "(Iteration 151 / 200) loss: 1.466689\n",
            "(Epoch 4 / 5) train acc: 0.529000; val_acc: 0.383000\n",
            "(Iteration 161 / 200) loss: 1.405442\n",
            "(Iteration 171 / 200) loss: 1.270961\n",
            "(Iteration 181 / 200) loss: 1.271557\n",
            "(Iteration 191 / 200) loss: 1.187507\n",
            "(Epoch 5 / 5) train acc: 0.587000; val_acc: 0.375000\n",
            "\n",
            "running with  rmsprop\n",
            "(Iteration 1 / 200) loss: 2.589166\n",
            "(Epoch 0 / 5) train acc: 0.119000; val_acc: 0.146000\n",
            "(Iteration 11 / 200) loss: 2.032921\n",
            "(Iteration 21 / 200) loss: 1.897277\n",
            "(Iteration 31 / 200) loss: 1.770793\n",
            "(Epoch 1 / 5) train acc: 0.381000; val_acc: 0.320000\n",
            "(Iteration 41 / 200) loss: 1.895732\n",
            "(Iteration 51 / 200) loss: 1.681091\n",
            "(Iteration 61 / 200) loss: 1.487204\n",
            "(Iteration 71 / 200) loss: 1.629973\n",
            "(Epoch 2 / 5) train acc: 0.429000; val_acc: 0.350000\n",
            "(Iteration 81 / 200) loss: 1.506686\n",
            "(Iteration 91 / 200) loss: 1.610742\n",
            "(Iteration 101 / 200) loss: 1.486124\n",
            "(Iteration 111 / 200) loss: 1.559454\n",
            "(Epoch 3 / 5) train acc: 0.492000; val_acc: 0.359000\n",
            "(Iteration 121 / 200) loss: 1.496859\n",
            "(Iteration 131 / 200) loss: 1.531552\n",
            "(Iteration 141 / 200) loss: 1.550195\n",
            "(Iteration 151 / 200) loss: 1.657838\n",
            "(Epoch 4 / 5) train acc: 0.533000; val_acc: 0.354000\n",
            "(Iteration 161 / 200) loss: 1.603105\n",
            "(Iteration 171 / 200) loss: 1.408064\n",
            "(Iteration 181 / 200) loss: 1.504707\n",
            "(Iteration 191 / 200) loss: 1.385212\n",
            "(Epoch 5 / 5) train acc: 0.528000; val_acc: 0.370000\n",
            "\n"
          ],
          "name": "stdout"
        },
        {
          "output_type": "stream",
          "text": [
            "/usr/local/lib/python3.6/dist-packages/ipykernel_launcher.py:30: MatplotlibDeprecationWarning: Adding an axes using the same arguments as a previous axes currently reuses the earlier instance.  In a future version, a new instance will always be created and returned.  Meanwhile, this warning can be suppressed, and the future behavior ensured, by passing a unique label to each axes instance.\n",
            "/usr/local/lib/python3.6/dist-packages/ipykernel_launcher.py:33: MatplotlibDeprecationWarning: Adding an axes using the same arguments as a previous axes currently reuses the earlier instance.  In a future version, a new instance will always be created and returned.  Meanwhile, this warning can be suppressed, and the future behavior ensured, by passing a unique label to each axes instance.\n",
            "/usr/local/lib/python3.6/dist-packages/ipykernel_launcher.py:36: MatplotlibDeprecationWarning: Adding an axes using the same arguments as a previous axes currently reuses the earlier instance.  In a future version, a new instance will always be created and returned.  Meanwhile, this warning can be suppressed, and the future behavior ensured, by passing a unique label to each axes instance.\n",
            "/usr/local/lib/python3.6/dist-packages/ipykernel_launcher.py:40: MatplotlibDeprecationWarning: Adding an axes using the same arguments as a previous axes currently reuses the earlier instance.  In a future version, a new instance will always be created and returned.  Meanwhile, this warning can be suppressed, and the future behavior ensured, by passing a unique label to each axes instance.\n"
          ],
          "name": "stderr"
        },
        {
          "output_type": "display_data",
          "data": {
            "image/png": "[encoded data removed]",
            "text/plain": [
              "<Figure size 1080x1080 with 3 Axes>"
            ]
          },
          "metadata": {
            "tags": [],
            "needs_background": "light"
          }
        }
      ]
    },
    {
      "cell_type": "markdown",
      "metadata": {
        "tags": [
          "pdf-inline"
        ],
        "id": "trixdiTr5cu1",
        "colab_type": "text"
      },
      "source": [
        "## Inline Question 3:\n",
        "\n",
        "AdaGrad, like Adam, is a per-parameter optimization method that uses the following update rule:\n",
        "\n",
        "```\n",
        "cache += dw**2\n",
        "w += - learning_rate * dw / (np.sqrt(cache) + eps)\n",
        "```\n",
        "\n",
        "John notices that when he was training a network with AdaGrad that the updates became very small, and that his network was learning slowly. Using your knowledge of the AdaGrad update rule, why do you think the updates would become very small? Would Adam have the same issue?\n",
        "\n",
        "\n",
        "## Answer: \n",
        "[FILL THIS IN]\n"
      ]
    },
    {
      "cell_type": "markdown",
      "metadata": {
        "id": "wwZ-QXRd5cu1",
        "colab_type": "text"
      },
      "source": [
        "# Train a good model!\n",
        "Train the best fully-connected model that you can on CIFAR-10, storing your best model in the `best_model` variable. We require you to get at least 50% accuracy on the validation set using a fully-connected net.\n",
        "\n",
        "If you are careful it should be possible to get accuracies above 55%, but we don't require it for this part and won't assign extra credit for doing so. Later in the assignment we will ask you to train the best convolutional network that you can on CIFAR-10, and we would prefer that you spend your effort working on convolutional nets rather than fully-connected nets.\n",
        "\n",
        "You might find it useful to complete the `BatchNormalization.ipynb` and `Dropout.ipynb` notebooks before completing this part, since those techniques can help you train powerful models."
      ]
    },
    {
      "cell_type": "code",
      "metadata": {
        "scrolled": false,
        "id": "Rbk15f9u5cu2",
        "colab_type": "code",
        "colab": {}
      },
      "source": [
        "best_model = None\n",
        "################################################################################\n",
        "# TODO: Train the best FullyConnectedNet that you can on CIFAR-10. You might   #\n",
        "# find batch/layer normalization and dropout useful. Store your best model in  #\n",
        "# the best_model variable.                                                     #\n",
        "################################################################################\n",
        "# *****START OF YOUR CODE (DO NOT DELETE/MODIFY THIS LINE)*****\n",
        "\n",
        "pass\n",
        "\n",
        "# *****END OF YOUR CODE (DO NOT DELETE/MODIFY THIS LINE)*****\n",
        "################################################################################\n",
        "#                              END OF YOUR CODE                                #\n",
        "################################################################################"
      ],
      "execution_count": null,
      "outputs": []
    },
    {
      "cell_type": "markdown",
      "metadata": {
        "id": "Hb_lVl2b5cu5",
        "colab_type": "text"
      },
      "source": [
        "# Test your model!\n",
        "Run your best model on the validation and test sets. You should achieve above 50% accuracy on the validation set."
      ]
    },
    {
      "cell_type": "code",
      "metadata": {
        "id": "nG6NluuI5cu5",
        "colab_type": "code",
        "colab": {}
      },
      "source": [
        "y_test_pred = np.argmax(best_model.loss(data['X_test']), axis=1)\n",
        "y_val_pred = np.argmax(best_model.loss(data['X_val']), axis=1)\n",
        "print('Validation set accuracy: ', (y_val_pred == data['y_val']).mean())\n",
        "print('Test set accuracy: ', (y_test_pred == data['y_test']).mean())"
      ],
      "execution_count": null,
      "outputs": []
    }
  ]
}