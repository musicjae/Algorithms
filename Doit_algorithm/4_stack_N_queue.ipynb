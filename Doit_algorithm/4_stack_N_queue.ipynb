{
  "nbformat": 4,
  "nbformat_minor": 0,
  "metadata": {
    "colab": {
      "name": "4 stack N queue.ipynb",
      "provenance": [],
      "authorship_tag": "ABX9TyPn+hQ0wp3pKlYroQGH+AnE",
      "include_colab_link": true
    },
    "kernelspec": {
      "name": "python3",
      "display_name": "Python 3"
    }
  },
  "cells": [
    {
      "cell_type": "markdown",
      "metadata": {
        "id": "view-in-github",
        "colab_type": "text"
      },
      "source": [
        "<a href=\"https://colab.research.google.com/github/musicjae/Algorithms/blob/master/Doit_algorithm/4_stack_N_queue.ipynb\" target=\"_parent\"><img src=\"https://colab.research.google.com/assets/colab-badge.svg\" alt=\"Open In Colab\"/></a>"
      ]
    },
    {
      "cell_type": "markdown",
      "metadata": {
        "id": "bBkcURRHnd1e"
      },
      "source": [
        ""
      ]
    },
    {
      "cell_type": "markdown",
      "metadata": {
        "id": "26nbb7sinegv"
      },
      "source": [
        "# 1 스택"
      ]
    },
    {
      "cell_type": "markdown",
      "metadata": {
        "id": "ugewHtzyngKP"
      },
      "source": [
        "- 후입선출  \n",
        "- 데이터를 임시 저장할 때 사용"
      ]
    },
    {
      "cell_type": "markdown",
      "metadata": {
        "id": "IHL3rdrHnkxH"
      },
      "source": [
        "### Terms  \n",
        "  \n",
        "- Bottom: 스택의 0번째 Idx. \n",
        "- Top: 스택의 맨 마지막 Idx. 여기서 push, pop이 일어난다.  \n",
        "- 스택 포인터: 스택 내에 쌓여 있는 데이터 개수  \n",
        "  - $ptr>=0$\n",
        "- Capacity: 스택의 최대 저장 용량  \n"
      ]
    },
    {
      "cell_type": "code",
      "metadata": {
        "id": "ZImAZQuAnaEy"
      },
      "source": [
        "from typing import Any\n",
        "\n",
        "class FixedStack: # 고정길이 스택\n",
        "    class Empty(Exception): # 비어있는 스택에 팝, peek 시 예외 처리  \n",
        "        pass\n",
        "    class Full(Exception):\n",
        "        pass\n",
        "    \n",
        "    def __init__(self, capacity: int = 256) ->None:\n",
        "        self.stk=[None]*capacity # 스택 본체 초기화 \n",
        "        self.capacity=capacity\n",
        "        self.ptr=0\n",
        "\n",
        "    def __len__(self)->int:\n",
        "        return self.ptr # 스택에 쌓인 데이터 개수 반환\n",
        "\n",
        "    def is_empty(self)->bool:\n",
        "        return self.ptr <= 0\n",
        "\n",
        "    def is_full(self)->bool:\n",
        "        return self.ptr >= capacity\n",
        "\n",
        "    ########## push ##########\n",
        "\n",
        "    def push(self, value: Any) -> None: \n",
        "        # 스택에 데이터 넣음, 만약 full 이라면, FixedStack.Full로 예외처리\n",
        "        if self.is_full():\n",
        "            raise FixedStack.Full # Full 시에 예외 처리\n",
        "        self.stk[self.ptr] = value # 해당 포인터에 대한 스택 값 \n",
        "        self.ptr += 1 # 포인터(인덱스) 하나 증가\n",
        "\n",
        "    ########## pop ##########\n",
        "\n",
        "    def pop(self)->Any: # 스택에서 꼭대기 data를 꺼내어 반환\n",
        "        if is_empty():\n",
        "            raise FixedStack.Empty\n",
        "        self.ptr -= 1\n",
        "        return self.stk[self.ptr]\n",
        "\n",
        "    ########## peek ##########\n",
        "\n",
        "    def peek(self)->Any:\n",
        "        \"스택 내의 top data를 들여다봄\"\n",
        "        if self.is_empty():\n",
        "            raise FixedStack.Empty # 여기서도 비어있다면 들여다 볼 data가 없으므로 예외처리가 요구돼\n",
        "        return self.stk[self.ptr-1] # 0부터 시작하니까 -1\n",
        "\n",
        "    ########## clear ##########\n",
        "    \n",
        "    def clear(self)->None:\n",
        "        self.ptr=0\n",
        "        \n",
        "    def find(self, value: Any)->Any:\n",
        "\n",
        "        \"특정 값이 stk 내에 있는지를 검색. 이것은 top->bottom으로 선형 검색을 수행(없으면 -1반환)\"\n",
        "        \n",
        "        for i in range(self.ptr,-1,-1): #top->bottom으로 선형 검색\n",
        "            if self.stk[i]==value:\n",
        "                return i # 검색 성공 시 해당 인덱스 반환\n",
        "            return -1 #실패시 -1\n",
        "\n",
        "    def count(self, value:Any)->bool:#stack에 있는 해당 값의 개수를 반환\n",
        "        countn=0\n",
        "        for i in range(self.ptr):# bottom-->top으로 검색\n",
        "            if self.stk[i]==value:\n",
        "                countn+=1\n",
        "        return countn\n",
        "\n",
        "    def __contain__(Self,vaule:Any)->bool:\n",
        "        #stack 내에 해당 값이 있는지 여부 판단\n",
        "        return self.count(value)\n",
        "\n",
        "    def dump(self)->None:\n",
        "        \"data를 bottom-->top으로 출력\"\n",
        "        if self.is_empty():\n",
        "            print('The stack is empty')\n",
        "        else:\n",
        "            print(stk[:self.ptr:])\n"
      ],
      "execution_count": 6,
      "outputs": []
    },
    {
      "cell_type": "markdown",
      "metadata": {
        "id": "Zc7-RJhewMMt"
      },
      "source": [
        "# 2 큐 Queue"
      ]
    },
    {
      "cell_type": "markdown",
      "metadata": {
        "id": "_vKNQ_quyGjG"
      },
      "source": [
        "- 데이터 임시 저장 시 사용  \n",
        "- 선입선출  \n",
        "- 우선순위 큐: Enqueue(데이터를 큐에 넣음) 시에, data에 우선순위를 부여하고, Dequeue(데이터를 큐에서 뺌) 시에, 그 순위에 따라 데이터를 꺼낸다. (heapq 함수 사용)  \n",
        "- Ring buffer: \n",
        "  - 큐 내의 맨 앞의 데이터 뒤에 맨 뒤의 데이터가 연결된다.  \n",
        "  - 원소를 옮기지 않아도 되고, 단지 front(큐의 맨 앞 원소), rear(맨 끝 원소) 값만 수정해주면 된다.\n",
        "  "
      ]
    },
    {
      "cell_type": "code",
      "metadata": {
        "id": "VT1I_IA3zCIq"
      },
      "source": [
        "from typing import Any\n",
        "\n",
        "class FixedQueue:\n",
        "    class Empty(Exception):\n",
        "        pass\n",
        "    class Full(Exception):\n",
        "        pass\n",
        "    \n",
        "    def __init__(self, capacity: int) -> None:\n",
        "        self.no=0 # 현재 데이터 개수\n",
        "        self.front=0\n",
        "        self.rear=0\n",
        "        self.capacity=capacity\n",
        "        self.que=[None]*capacity\n",
        "\n",
        "    def __len__(self)->int:\n",
        "        return self.no # 큐의 모든 데이터 개수 반환\n",
        "    \n",
        "    def is_empty(self)->bool:\n",
        "        return self.no ==0\n",
        "    def is_full(self)->bool:\n",
        "        return self.no == self.capacity\n",
        "\n",
        "    ########## enqueue #############\n",
        "\n",
        "    def enqueue(self, x: Any)->None:\n",
        "        if self.is_full():\n",
        "            return FixedQueue.Full\n",
        "        \n",
        "        self.que[self.rear]=x # 방금 인큐된 데이터는 맨 뒤에 있으니 rear\n",
        "        self.rear += 1 #rear는 하나씩 뒤로 밀려남\n",
        "        self.no += 1 # 총 데이터 개수 1 개 증가\n",
        "        if self.rear == self.capacity:\n",
        "            self.rear = 0 # rear값이 capacity와 같은, 즉 큐가 full인 경우에는 rear을 다시 front와 연결시켜준다는 의미에서 0으로 설정해줍니다.\n",
        "\n",
        "    def deque(self)->Any:\n",
        "        if self.is_empty():\n",
        "            raise FixedQueue.Empty # 큐가 비어있는 경우 디큐를 못하니까 예외처리\n",
        "        x = self.que[self.front] # 선입선출에 따라, 큐의 맨 앞에 있는 data를  x에 저장 후 반환\n",
        "        self.front += 1 # 하나가 빠졌으니 front를 1 증가\n",
        "        self.no -= 1 # 데이터 개수는 1 감소\n",
        "        if self.front == self.capacity: \n",
        "            self.front=0 # 위 조건인 경우에, front를 1 증가시켜, 다시 0으로 오게끔 한다.\n",
        "\n",
        "    def peek(self)->Any: # 맨 앞의 데이터만 들여다봄\n",
        "        if self.is_empty():\n",
        "            raise FixedQueue.Empty\n",
        "        return self.que[self.front] # 다음 디큐 때 꺼낼 데이터(front)를 들여다 봄\n",
        "\n",
        "    def find(self, value: Any) -> Any:\n",
        "        \"value 찾기에 실패 시 -1 반환\"\n",
        "        for i in range(self.no):\n",
        "            idx = (i+self.front) % self.capacity # 스캔은 i(0,1,...)이 아니라 idx(front, front+1, ..., rear)순으로 하기에 이와 같이 사용한다.\n",
        "            if self.que[idx]==value:\n",
        "                return idx\n",
        "        return -1\n",
        "\n",
        "    def count(self, value: Any)->int:\n",
        "        countn=0\n",
        "        for i in range(self.no):\n",
        "            idx=(i+self.front)%self.capacity\n",
        "            if self.que[idx]==value:\n",
        "                countn += 1\n",
        "        return countn\n",
        "\n",
        "    def __contain__(self, value: Any)->bool:\n",
        "        return self.count(value) # 해당 값이 들어있으면 T/F 반환\n",
        "\n",
        "    def clear(self)->None:\n",
        "        self.no=self.front=self.rear=0 # 모두 0으로 삭제\n",
        "    \n",
        "    def dump(self)->None:\n",
        "        \"front->rear 순으로 출력\"\n",
        "        if self.is_empty():\n",
        "            print('It is empty')\n",
        "        else:\n",
        "            for i in range(self.no):\n",
        "                print(self.que[(i+self.front)%self.capacity],end='')\n",
        "            print()\n"
      ],
      "execution_count": 9,
      "outputs": []
    }
  ]
}