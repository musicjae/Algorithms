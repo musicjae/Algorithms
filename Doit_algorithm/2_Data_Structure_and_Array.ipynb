{
  "nbformat": 4,
  "nbformat_minor": 0,
  "metadata": {
    "colab": {
      "name": "2 Data Structure and Array.ipynb",
      "provenance": [],
      "collapsed_sections": [],
      "authorship_tag": "ABX9TyMRln6qsHhfheho8CuVM9vr",
      "include_colab_link": true
    },
    "kernelspec": {
      "name": "python3",
      "display_name": "Python 3"
    }
  },
  "cells": [
    {
      "cell_type": "markdown",
      "metadata": {
        "id": "view-in-github",
        "colab_type": "text"
      },
      "source": [
        "<a href=\"https://colab.research.google.com/github/musicjae/Algorithms/blob/master/Doit_algorithm/2_Data_Structure_and_Array.ipynb\" target=\"_parent\"><img src=\"https://colab.research.google.com/assets/colab-badge.svg\" alt=\"Open In Colab\"/></a>"
      ]
    },
    {
      "cell_type": "markdown",
      "metadata": {
        "id": "ZlWw54By43ae"
      },
      "source": [
        "이번 장에서는 기본적인 자료구조와 배열에 대해 공부한다."
      ]
    },
    {
      "cell_type": "markdown",
      "metadata": {
        "id": "RJruqWbq5D1h"
      },
      "source": [
        "# 1. 개념 정리"
      ]
    },
    {
      "cell_type": "markdown",
      "metadata": {
        "id": "SMbV5EHb5GXP"
      },
      "source": [
        "- **배열을 사용할 때 얻는 이점**  \n",
        "  \n",
        "  - 배열 내의 특정 수(또는 data) 변경/확인  \n",
        "  - min, max 구하기 편하다  \n",
        "  - 정렬"
      ]
    },
    {
      "cell_type": "markdown",
      "metadata": {
        "id": "etAqmW0V86JJ"
      },
      "source": [
        "- **자료구조란?**  \n",
        "  \n",
        "> 데이터 단위와 데이터 자체 간의 물리적, 논리적 관계를 가진 구조"
      ]
    },
    {
      "cell_type": "markdown",
      "metadata": {
        "id": "4PpeVTzf9FCd"
      },
      "source": [
        "- **등가성Equality vs 동일성Identity**  \n",
        "  \n",
        " - 등가성: 두 객체의 값이 동일  \n",
        " - 동일성: 두 객체의 값,ID 모두 동일"
      ]
    },
    {
      "cell_type": "markdown",
      "metadata": {
        "id": "Qq_64clD9Z0C"
      },
      "source": [
        "- **Mutables vs Immutables**  \n",
        "  \n",
        " - Mutable data: list, dic, set  \n",
        " - Immutable data: Number, String, Tuple"
      ]
    },
    {
      "cell_type": "markdown",
      "metadata": {
        "id": "tD_CVcyd9XeE"
      },
      "source": [
        "- **파이썬에서 = 는 연산자가 아니다. 반면에, +, - 등은 연산자이다.**  \n",
        "  \n",
        "    - 연산자 미포함 문장: Expresstion(문장)  \n",
        "    - 연산자 포함 문장: Statement(식)\n",
        "\n"
      ]
    },
    {
      "cell_type": "code",
      "metadata": {
        "id": "W8xUpqGu-DdU",
        "outputId": "91e8517f-0118-4b25-e8c6-41b6865cec84",
        "colab": {
          "base_uri": "https://localhost:8080/",
          "height": 33
        }
      },
      "source": [
        "x=0\n",
        "type(x+2)"
      ],
      "execution_count": null,
      "outputs": [
        {
          "output_type": "execute_result",
          "data": {
            "text/plain": [
              "int"
            ]
          },
          "metadata": {
            "tags": []
          },
          "execution_count": 15
        }
      ]
    },
    {
      "cell_type": "code",
      "metadata": {
        "id": "7I_h7N13-WbC",
        "outputId": "c4a84fa6-a169-4e72-ac48-555fe654b801",
        "colab": {
          "base_uri": "https://localhost:8080/",
          "height": 162
        }
      },
      "source": [
        "type(x=1) # 아래 같이 오류가 발생한다. 그 이유는 이것은 Expression이기 때문이다. "
      ],
      "execution_count": null,
      "outputs": [
        {
          "output_type": "error",
          "ename": "TypeError",
          "evalue": "ignored",
          "traceback": [
            "\u001b[0;31m---------------------------------------------------------------------------\u001b[0m",
            "\u001b[0;31mTypeError\u001b[0m                                 Traceback (most recent call last)",
            "\u001b[0;32m<ipython-input-16-fc1874ad1f35>\u001b[0m in \u001b[0;36m<module>\u001b[0;34m()\u001b[0m\n\u001b[0;32m----> 1\u001b[0;31m \u001b[0mtype\u001b[0m\u001b[0;34m(\u001b[0m\u001b[0mx\u001b[0m\u001b[0;34m=\u001b[0m\u001b[0;36m1\u001b[0m\u001b[0;34m)\u001b[0m\u001b[0;34m\u001b[0m\u001b[0;34m\u001b[0m\u001b[0m\n\u001b[0m",
            "\u001b[0;31mTypeError\u001b[0m: type() takes 1 or 3 arguments"
          ]
        }
      ]
    },
    {
      "cell_type": "markdown",
      "metadata": {
        "id": "AmnuiGevCc45"
      },
      "source": [
        "- **Iterable(반복자)**  \n",
        "\n",
        "    - 문자열,튜플,집합,딕셔너리 모두 반복 가능하다는 공통점이 있다. 이들은 모두 원소를 하나씩 꺼내는 구조이다.  \n",
        "  \n"
      ]
    },
    {
      "cell_type": "markdown",
      "metadata": {
        "id": "GvUE9oWt6Po3"
      },
      "source": [
        "## 1.1 List와 Tuple로 만드는 Array  \n",
        "  \n",
        "파이썬에서 배열은 리스트와 튜플로 만들 수 있다. 아래는 이들에 대한 예이다."
      ]
    },
    {
      "cell_type": "code",
      "metadata": {
        "id": "eG--mSzw4yxm",
        "outputId": "49bb23ae-07e0-49e2-851f-df5988c1ebf3",
        "colab": {
          "base_uri": "https://localhost:8080/",
          "height": 33
        }
      },
      "source": [
        "lista=[]\n",
        "listb=[1,2]\n",
        "listc=list()\n",
        "listd=list(range(5))\n",
        "\n",
        "print(type(lista),type(listb),type(listc),type(listd))"
      ],
      "execution_count": null,
      "outputs": [
        {
          "output_type": "stream",
          "text": [
            "<class 'list'> <class 'list'> <class 'list'> <class 'list'>\n"
          ],
          "name": "stdout"
        }
      ]
    },
    {
      "cell_type": "code",
      "metadata": {
        "id": "V1OcEPdF6rcj",
        "outputId": "16945f45-fafb-4081-e319-118397ae971a",
        "colab": {
          "base_uri": "https://localhost:8080/",
          "height": 33
        }
      },
      "source": [
        "tuplea=()\n",
        "tupleb=1, # comma를 넣어주는 것이 중요! 이것이 그냥 정수임과 튜플임을 구분해줘\n",
        "tuplec=(1,)\n",
        "tupled=1,2,3 # 이것도 튜플임에 주목!\n",
        "\n",
        "print(type(tuplea),type(tupleb),type(tuplec),type(tupled))"
      ],
      "execution_count": null,
      "outputs": [
        {
          "output_type": "stream",
          "text": [
            "<class 'tuple'> <class 'tuple'> <class 'tuple'> <class 'tuple'>\n"
          ],
          "name": "stdout"
        }
      ]
    },
    {
      "cell_type": "markdown",
      "metadata": {
        "id": "iT0OD7t17nxD"
      },
      "source": [
        "## 1.2 Unpack  \n",
        "  \n",
        "리스트와 튜플로 쌓인 데이터들을 풀어내는unpack 방법에 대해 공부해보자. 이것은 우리가 특정 값만을 고려하고자 할 때, 출력하고자 할 때 요구되는 기법이다."
      ]
    },
    {
      "cell_type": "code",
      "metadata": {
        "id": "sFO5ySOF70kF",
        "outputId": "0f266e8b-7685-4b2c-ed3a-66d52b063f0c",
        "colab": {
          "base_uri": "https://localhost:8080/",
          "height": 33
        }
      },
      "source": [
        "lista = [1,2,3]\n",
        "\n",
        "a,b,c=lista\n",
        "print(a,b,c) # 매우 흔히 사용된다."
      ],
      "execution_count": null,
      "outputs": [
        {
          "output_type": "stream",
          "text": [
            "1 2 3\n"
          ],
          "name": "stdout"
        }
      ]
    },
    {
      "cell_type": "code",
      "metadata": {
        "id": "Y-JGCZqX7-uO",
        "outputId": "b415f62e-fcc8-4d50-8c8a-163dc122a9f3",
        "colab": {
          "base_uri": "https://localhost:8080/",
          "height": 33
        }
      },
      "source": [
        "a = lista[0]\n",
        "b= lista[1]\n",
        "c = lista[2]\n",
        "\n",
        "print(a,b,c) # 머신러닝에서 많이 사용되는 기법 다른 데서도 많이 사용됨"
      ],
      "execution_count": null,
      "outputs": [
        {
          "output_type": "stream",
          "text": [
            "1 2 3\n"
          ],
          "name": "stdout"
        }
      ]
    },
    {
      "cell_type": "markdown",
      "metadata": {
        "id": "ncRpvKjB8IUu"
      },
      "source": [
        "슬라이스"
      ]
    },
    {
      "cell_type": "code",
      "metadata": {
        "id": "EMlt55Uf8Jlg",
        "outputId": "7c508bf1-40e3-4c8d-b24a-fcda9a85277d",
        "colab": {
          "base_uri": "https://localhost:8080/",
          "height": 66
        }
      },
      "source": [
        "listb=list(range(7))\n",
        "a = listb[2:5] # 슬라이싱\n",
        "b = listb[1:6:2] # 2칸씩 건너뛰기 \n",
        "\n",
        "print(listb)\n",
        "print(a) \n",
        "print(b)"
      ],
      "execution_count": null,
      "outputs": [
        {
          "output_type": "stream",
          "text": [
            "[0, 1, 2, 3, 4, 5, 6]\n",
            "[2, 3, 4]\n",
            "[1, 3, 5]\n"
          ],
          "name": "stdout"
        }
      ]
    },
    {
      "cell_type": "markdown",
      "metadata": {
        "id": "QAQbKVnC8kPa"
      },
      "source": [
        "슬라이스 식 심화"
      ]
    },
    {
      "cell_type": "code",
      "metadata": {
        "id": "cslnu8rw8mXH",
        "outputId": "cfc15519-7c9e-4c26-9b2a-72d17aaedd06",
        "colab": {
          "base_uri": "https://localhost:8080/",
          "height": 50
        }
      },
      "source": [
        "s=listb\n",
        "\n",
        "skip=s[::2] # 리스트 원소 중 맨 앞부터 2 씩 건너뜀\n",
        "rev=s[::-1] # 맨 뒤부터 역순 출력\n",
        "\n",
        "print(skip)\n",
        "print(rev)"
      ],
      "execution_count": null,
      "outputs": [
        {
          "output_type": "stream",
          "text": [
            "[0, 2, 4, 6]\n",
            "[6, 5, 4, 3, 2, 1, 0]\n"
          ],
          "name": "stdout"
        }
      ]
    },
    {
      "cell_type": "markdown",
      "metadata": {
        "id": "Z9Vig9w9_EVP"
      },
      "source": [
        "# 2 배열"
      ]
    },
    {
      "cell_type": "markdown",
      "metadata": {
        "id": "aOTF7gEw_HGs"
      },
      "source": [
        "## 2.1 max"
      ]
    },
    {
      "cell_type": "code",
      "metadata": {
        "id": "iznhWYGA_IeQ",
        "outputId": "0a4a800c-e316-4c8d-d7c3-9b7a03f2d92b",
        "colab": {
          "base_uri": "https://localhost:8080/",
          "height": 66
        }
      },
      "source": [
        "def get_max(x):\n",
        "\n",
        "    maximum = x[0]\n",
        "\n",
        "    for i in range(0,len(x)):\n",
        "        if x[i] > maximum:\n",
        "\n",
        "            maximum = x[i]\n",
        "\n",
        "    return maximum\n",
        "\n",
        "if __name__ == '__main__':\n",
        "\n",
        "    print('배열 원소 중 최댓값 구하기')\n",
        "    num = int(input())\n",
        "    lista = list(range(num)) # 초기화 작업. 책에서는 [None]*num으로 초기화\n",
        "\n",
        "    get_maxv = get_max(lista)\n",
        "    print(get_maxv)"
      ],
      "execution_count": null,
      "outputs": [
        {
          "output_type": "stream",
          "text": [
            "배열 원소 중 최댓값 구하기\n",
            "78\n",
            "77\n"
          ],
          "name": "stdout"
        }
      ]
    },
    {
      "cell_type": "markdown",
      "metadata": {
        "id": "gAD__KjGAu2B"
      },
      "source": [
        "## 2.2 Literal(고정된 값)에 대하여"
      ]
    },
    {
      "cell_type": "code",
      "metadata": {
        "id": "J2QTDsC9Augh",
        "outputId": "2e5f1188-1510-424a-f95f-6461723db170",
        "colab": {
          "base_uri": "https://localhost:8080/",
          "height": 33
        }
      },
      "source": [
        "a=[1,2,3]\n",
        "b=[1,2,3]\n",
        "\n",
        "print(a is b)"
      ],
      "execution_count": null,
      "outputs": [
        {
          "output_type": "stream",
          "text": [
            "False\n"
          ],
          "name": "stdout"
        }
      ]
    },
    {
      "cell_type": "markdown",
      "metadata": {
        "id": "KDREoEMpA2pG"
      },
      "source": [
        "위 출력 결과와 같이 이들은 동일한 데이터를 리스트 내에 포함하고 있지만 is 관계에 있지 않다. 그 이유는 이들은 Literal이 아니기 때문이다. 반면에, 아래는 다른 결과를 보여준다."
      ]
    },
    {
      "cell_type": "code",
      "metadata": {
        "id": "o26fo0fEBDGS",
        "outputId": "e14091dd-db92-48e3-f30b-0acc45abe6b7",
        "colab": {
          "base_uri": "https://localhost:8080/",
          "height": 33
        }
      },
      "source": [
        "a = [1,2]\n",
        "b=a\n",
        "\n",
        "print(a is b)"
      ],
      "execution_count": null,
      "outputs": [
        {
          "output_type": "stream",
          "text": [
            "True\n"
          ],
          "name": "stdout"
        }
      ]
    },
    {
      "cell_type": "markdown",
      "metadata": {
        "id": "hd4ROoL_BR-p"
      },
      "source": [
        "아래는 신기한 결과가 도출된다."
      ]
    },
    {
      "cell_type": "code",
      "metadata": {
        "id": "ixYSpVoaBIQ7",
        "outputId": "f1fade4c-25bb-4669-8063-17a519808f65",
        "colab": {
          "base_uri": "https://localhost:8080/",
          "height": 33
        }
      },
      "source": [
        "a= a.append(3)\n",
        "print(b)"
      ],
      "execution_count": null,
      "outputs": [
        {
          "output_type": "stream",
          "text": [
            "[1, 2, 3]\n"
          ],
          "name": "stdout"
        }
      ]
    },
    {
      "cell_type": "markdown",
      "metadata": {
        "id": "ABM0pZoGBVB5"
      },
      "source": [
        "위에서 분명 a에 리스트 원소를 첨가했는데, b에서도 그 원소가 첨가되었다. 이유는 단순하다. 변수 'a'와 변수 'b'는 **동일한** 리스트를 **참조**하고 있기 때문이다. "
      ]
    },
    {
      "cell_type": "markdown",
      "metadata": {
        "id": "klhkFZ0IBwLW"
      },
      "source": [
        "## 2.3 Practices"
      ]
    },
    {
      "cell_type": "markdown",
      "metadata": {
        "id": "VnvSD_q9Cv-G"
      },
      "source": [
        "### 배열 역순 정렬"
      ]
    },
    {
      "cell_type": "markdown",
      "metadata": {
        "id": "A64koMRFCy2r"
      },
      "source": [
        "- 원소 간 교환 횟수: $\\frac{원소 개수}{2}$의 정수 몫  \n",
        "    - 원소가 홀수면 가운데에 있는 수는 교환을 안해도 되니까 위 식은 valid  \n",
        "      \n",
        "- tip:  \n",
        "    - Left $\\to$: Use $i$. (e.g. 0, 1, ...)  \n",
        "    - <-- Right: Use $n-i-1$ (e.g. 6,5,4, ...)\n",
        "      \n",
        "\n"
      ]
    }
  ]
}