{
  "nbformat": 4,
  "nbformat_minor": 0,
  "metadata": {
    "colab": {
      "name": "1. Intro to algorithm.ipynb",
      "provenance": [],
      "collapsed_sections": [],
      "toc_visible": true,
      "authorship_tag": "ABX9TyN5TG6jGn08tTYopaB8e9Tl",
      "include_colab_link": true
    },
    "kernelspec": {
      "name": "python3",
      "display_name": "Python 3"
    }
  },
  "cells": [
    {
      "cell_type": "markdown",
      "metadata": {
        "id": "view-in-github",
        "colab_type": "text"
      },
      "source": [
        "<a href=\"https://colab.research.google.com/github/musicjae/Algorithms/blob/master/Doit_algorithm/1_Intro_to_algorithm.ipynb\" target=\"_parent\"><img src=\"https://colab.research.google.com/assets/colab-badge.svg\" alt=\"Open In Colab\"/></a>"
      ]
    },
    {
      "cell_type": "markdown",
      "metadata": {
        "id": "aKVkLZIh0O7y"
      },
      "source": [
        "# 알고리즘 기초"
      ]
    },
    {
      "cell_type": "markdown",
      "metadata": {
        "id": "-4nuCsQ1aaW3"
      },
      "source": [
        "알고리즘: 어떤 문제를 해결하기 위해 정해 놓은 일련의 절차"
      ]
    },
    {
      "cell_type": "markdown",
      "metadata": {
        "id": "uHi9gky00RWE"
      },
      "source": [
        "#### 실행 구조의 종류  \n",
        " - sequential structure  \n",
        "  > 한 문장씩 **순서대로** 처리 \n",
        " - select structuce  \n",
        "  > 조건식으로 평가한 결과에 따라 실행되는 구조"
      ]
    },
    {
      "cell_type": "markdown",
      "metadata": {
        "id": "BxZMBp4gESUQ"
      },
      "source": [
        "#### Structured Programming  \n",
        " > 입력,출력 계층을 구성 요소로 배치하고, 순차, 선택, 반복을 이용하여 프로그램 흐름을 제어하는 구조."
      ]
    },
    {
      "cell_type": "code",
      "metadata": {
        "id": "plaaxTb20crB",
        "outputId": "081cf0be-dd9b-49b8-b13e-0dfa683335b7",
        "colab": {
          "base_uri": "https://localhost:8080/",
          "height": 51
        }
      },
      "source": [
        "print('이름을 입력하세요: ',end='')\n",
        "name = input()\n",
        "print(f'안녕하세요? {name} 님.')"
      ],
      "execution_count": null,
      "outputs": [
        {
          "output_type": "stream",
          "text": [
            "이름을 입력하세요: 제임스\n",
            "안녕하세요? 제임스 님.\n"
          ],
          "name": "stdout"
        }
      ]
    },
    {
      "cell_type": "code",
      "metadata": {
        "id": "nAdsdObY0HiK",
        "outputId": "28ce611e-2874-422d-9bb8-45938ae0a9b7",
        "colab": {
          "base_uri": "https://localhost:8080/",
          "height": 51
        }
      },
      "source": [
        "name=input('이름을 입력하세요: ')\n",
        "print(f'안녕하세요? {name} 님.')"
      ],
      "execution_count": null,
      "outputs": [
        {
          "output_type": "stream",
          "text": [
            "이름을 입력하세요: 제임스\n",
            "안녕하세요? 제임스 님.\n"
          ],
          "name": "stdout"
        }
      ]
    },
    {
      "cell_type": "markdown",
      "metadata": {
        "id": "R6rmjMMG1VQf"
      },
      "source": [
        "## 1.2 Type Conversion"
      ]
    },
    {
      "cell_type": "markdown",
      "metadata": {
        "id": "eds5xyQODOe3"
      },
      "source": [
        "형변환이라고 번역되는 듯 하다. 가령, 2 진수를 10 진수로, 16 진수를 10 진수로 바꿀 때 사용된다. 도착진수는 항상 10진수."
      ]
    },
    {
      "cell_type": "code",
      "metadata": {
        "id": "Ve0JpyLx1ZHT",
        "outputId": "0f9f4594-c2e4-4f68-b96f-10aea7887086",
        "colab": {
          "base_uri": "https://localhost:8080/",
          "height": 34
        }
      },
      "source": [
        "int('0b110',2) # 2진수 문자열 --> 10진수 정수열\n"
      ],
      "execution_count": null,
      "outputs": [
        {
          "output_type": "execute_result",
          "data": {
            "text/plain": [
              "6"
            ]
          },
          "metadata": {
            "tags": []
          },
          "execution_count": 5
        }
      ]
    },
    {
      "cell_type": "code",
      "metadata": {
        "id": "M09VSmAu1uM2",
        "outputId": "7ef1a2f7-063f-4b93-adba-b732e2519ccf",
        "colab": {
          "base_uri": "https://localhost:8080/",
          "height": 34
        }
      },
      "source": [
        "int('0x3F',16)"
      ],
      "execution_count": null,
      "outputs": [
        {
          "output_type": "execute_result",
          "data": {
            "text/plain": [
              "63"
            ]
          },
          "metadata": {
            "tags": []
          },
          "execution_count": 6
        }
      ]
    },
    {
      "cell_type": "markdown",
      "metadata": {
        "id": "nLYqWZzxZsnZ"
      },
      "source": [
        "## 1.3 최대값 구하기"
      ]
    },
    {
      "cell_type": "markdown",
      "metadata": {
        "id": "OvDQZc4P4bUO"
      },
      "source": [
        "최대값을 구할 때는 먼저 비교 대상들 중 어느 하나를 최대라고 둔다."
      ]
    },
    {
      "cell_type": "code",
      "metadata": {
        "id": "FU6G6UcEZuWu",
        "outputId": "de7b2dfe-7652-438d-d3ca-d64ea14ba83e",
        "colab": {
          "base_uri": "https://localhost:8080/",
          "height": 34
        }
      },
      "source": [
        "def max_value(a,b,c):\n",
        "\n",
        "    maxv = a # 일단 셋 중 하나를 최댓값이라고 설정\n",
        "    if b > maxv:\n",
        "        maxv = b\n",
        "    elif c > maxv: maxv = c\n",
        "\n",
        "    return maxv\n",
        "\n",
        "print(max_value(3,2,1))\n"
      ],
      "execution_count": null,
      "outputs": [
        {
          "output_type": "stream",
          "text": [
            "3\n"
          ],
          "name": "stdout"
        }
      ]
    },
    {
      "cell_type": "markdown",
      "metadata": {
        "id": "Lg8uErObasPB"
      },
      "source": [
        "## 1.4 중앙값median 구하기"
      ]
    },
    {
      "cell_type": "code",
      "metadata": {
        "id": "ztFoc-uuavHS",
        "outputId": "59329828-df4d-45ed-a964-fa3f20bc6327",
        "colab": {
          "base_uri": "https://localhost:8080/",
          "height": 34
        }
      },
      "source": [
        "def median_value(a,b,c):\n",
        "    if (a >= b) or (b <= c):\n",
        "        return b\n",
        "    elif (b >= c) or (a <= c):\n",
        "        return c\n",
        "    elif (b >= a) or (c <= a):\n",
        "        return a\n",
        "\n",
        "print(median_value(3,2,1))"
      ],
      "execution_count": null,
      "outputs": [
        {
          "output_type": "stream",
          "text": [
            "2\n"
          ],
          "name": "stdout"
        }
      ]
    },
    {
      "cell_type": "markdown",
      "metadata": {
        "id": "rZfcWqQIgO5S"
      },
      "source": [
        "## 1.5 부호 출력하기"
      ]
    },
    {
      "cell_type": "code",
      "metadata": {
        "id": "D8fY7hNFgQ4G",
        "outputId": "a6b74c25-dffe-40c8-de0b-5fa0e1c4dca7",
        "colab": {
          "base_uri": "https://localhost:8080/",
          "height": 51
        }
      },
      "source": [
        "n = int(input())\n",
        "\n",
        "if n>0:\n",
        "    print('양수입니다')\n",
        "elif n<0:\n",
        "    print('음수입니다')\n",
        "elif n==0:\n",
        "    print('0입니다.')"
      ],
      "execution_count": null,
      "outputs": [
        {
          "output_type": "stream",
          "text": [
            "-3\n",
            "음수입니다\n"
          ],
          "name": "stdout"
        }
      ]
    },
    {
      "cell_type": "markdown",
      "metadata": {
        "id": "xLPYVmM0hWxO"
      },
      "source": [
        "## 1.6 반복 알고리즘"
      ]
    },
    {
      "cell_type": "code",
      "metadata": {
        "id": "DzKxaL-FwDJ7",
        "outputId": "e9b066ec-6a49-49cc-e2f9-bdb906c533f6",
        "colab": {
          "base_uri": "https://localhost:8080/",
          "height": 85
        }
      },
      "source": [
        "import time.time\n",
        "\n",
        "\n",
        "print('숫자를 입력하세요: ')\n",
        "\n",
        "a = int(input())\n",
        "b = int(input())\n",
        "\n",
        "if a>b:\n",
        "    a,b = b,a\n",
        "\n",
        "sum = 0\n",
        "\n",
        "for i in range(a,b+1):\n",
        "\n",
        "    if i < b:\n",
        "        print(f'{i}+',end='')\n",
        "    else:\n",
        "        print(f'{i}=',end='')\n",
        "    sum += i\n",
        "\n",
        "print(sum)"
      ],
      "execution_count": null,
      "outputs": [
        {
          "output_type": "stream",
          "text": [
            "숫자를 입력하세요: \n",
            "3\n",
            "9\n",
            "3+4+5+6+7+8+9=42\n"
          ],
          "name": "stdout"
        }
      ]
    },
    {
      "cell_type": "markdown",
      "metadata": {
        "id": "ME37V3mAwCGD"
      },
      "source": [
        "위는 비효율적. else문은 단 한 번 실행되는데 for문이 돌 때 마다 실행돼. 대안을 알아보자:"
      ]
    },
    {
      "cell_type": "code",
      "metadata": {
        "id": "oNO2l9vw2w_Y",
        "outputId": "f36325f4-6ca9-4dc6-c302-6faaef88f1d9",
        "colab": {
          "base_uri": "https://localhost:8080/",
          "height": 85
        }
      },
      "source": [
        "print('숫자를 입력하세요: ')\n",
        "\n",
        "a = int(input())\n",
        "b = int(input())\n",
        "\n",
        "if a>b:\n",
        "    a,b = b,a\n",
        "\n",
        "sum = 0\n",
        "\n",
        "for i in range(a,b+1):\n",
        "\n",
        "    if i<b:\n",
        "        print(f'{i}+',end='')\n",
        "    sum += i\n",
        "\n",
        "print(f'{b}=',end='')\n",
        "print(sum)"
      ],
      "execution_count": null,
      "outputs": [
        {
          "output_type": "stream",
          "text": [
            "숫자를 입력하세요: \n",
            "3\n",
            "9\n",
            "3+4+5+6+7+8+9=42\n"
          ],
          "name": "stdout"
        }
      ]
    },
    {
      "cell_type": "code",
      "metadata": {
        "id": "xW7wCOKA5qR6",
        "outputId": "da92156f-e91a-4aad-a3f6-30ec88407841",
        "colab": {
          "base_uri": "https://localhost:8080/",
          "height": 34
        }
      },
      "source": [
        "# 두 값 교환\n",
        "\n",
        "a=32\n",
        "b=64\n",
        "\n",
        "t=a\n",
        "a=b\n",
        "b=t\n",
        "\n",
        "print(a,b)"
      ],
      "execution_count": null,
      "outputs": [
        {
          "output_type": "stream",
          "text": [
            "64 32\n"
          ],
          "name": "stdout"
        }
      ]
    },
    {
      "cell_type": "markdown",
      "metadata": {
        "id": "EkGaLUat47FH"
      },
      "source": [
        "#### 홀수인가, 짝수인가"
      ]
    },
    {
      "cell_type": "code",
      "metadata": {
        "id": "B2wIzxzK5ADf",
        "outputId": "cb8dba15-51c1-4e72-bca3-01efe88af13d",
        "colab": {
          "base_uri": "https://localhost:8080/",
          "height": 66
        }
      },
      "source": [
        "print('홀수와 짝수를 판별해보자')\n",
        "\n",
        "N = int(input('출력 개수 입력: '))\n",
        "\n",
        "for i in range(1,N+1):\n",
        "\n",
        "    if i%2 ==0:\n",
        "        print('짝수 ',end='')\n",
        "    else:\n",
        "        print('홀수 ',end='')\n",
        "\n"
      ],
      "execution_count": 9,
      "outputs": [
        {
          "output_type": "stream",
          "text": [
            "홀수와 짝수를 판별해보자\n",
            "출력 개수 입력: 9\n",
            "홀수 짝수 홀수 짝수 홀수 짝수 홀수 짝수 홀수 "
          ],
          "name": "stdout"
        }
      ]
    },
    {
      "cell_type": "code",
      "metadata": {
        "id": "HbqHi7yx6d_I",
        "outputId": "b21a844c-e1cb-406a-d3fd-3a2ce4ed7eb9",
        "colab": {
          "base_uri": "https://localhost:8080/",
          "height": 66
        }
      },
      "source": [
        "# 연산량 줄이기! \n",
        "\n",
        "print('홀수와 짝수를 판별해보자')\n",
        "\n",
        "N = int(input('출력 개수 입력: '))\n",
        "\n",
        "for i in range(N//2):\n",
        "        print('홀수 짝수 ',end='')\n",
        "if N%2:\n",
        "    print('홀수 ',end='')\n"
      ],
      "execution_count": 11,
      "outputs": [
        {
          "output_type": "stream",
          "text": [
            "홀수와 짝수를 판별해보자\n",
            "출력 개수 입력: 9\n",
            "홀수 짝수 홀수 짝수 홀수 짝수 홀수 짝수 홀수 "
          ],
          "name": "stdout"
        }
      ]
    },
    {
      "cell_type": "markdown",
      "metadata": {
        "id": "BmgPkN097Vu5"
      },
      "source": [
        "#### 공포의 * 출력!"
      ]
    },
    {
      "cell_type": "code",
      "metadata": {
        "id": "Oza1aRJW7cEA",
        "outputId": "5552245e-62d6-432e-8eec-6702d1928e34",
        "colab": {
          "base_uri": "https://localhost:8080/",
          "height": 100
        }
      },
      "source": [
        "n=int(input('몇 개 입력?'))\n",
        "changing_lines = int(input('몇 개마다 줄 바꿈?'))\n",
        "\n",
        "for i in range(n):\n",
        "    print('*',end='')\n",
        "\n",
        "    if i % changing_lines == changing_lines - 1:\n",
        "        print()\n",
        "\n",
        "if n % changing_lines:\n",
        "    print()"
      ],
      "execution_count": 12,
      "outputs": [
        {
          "output_type": "stream",
          "text": [
            "몇 개 입력?14\n",
            "몇 개마다 줄 바꿈?5\n",
            "*****\n",
            "*****\n",
            "****\n"
          ],
          "name": "stdout"
        }
      ]
    },
    {
      "cell_type": "code",
      "metadata": {
        "id": "ny1T6BZT86YS",
        "outputId": "443d1d10-9503-441a-fb11-63acc46be83c",
        "colab": {
          "base_uri": "https://localhost:8080/",
          "height": 100
        }
      },
      "source": [
        "# 줄바꾸기 2\n",
        "\n",
        "n=int(input('몇 개 입력?'))\n",
        "changing_lines = int(input('몇 개마다 줄 바꿈?'))\n",
        "\n",
        "for i in range(n//changing_lines):\n",
        "\n",
        "    print('*'*changing_lines)\n",
        "\n",
        "print('*'*(n%changing_lines))\n",
        "\n"
      ],
      "execution_count": 16,
      "outputs": [
        {
          "output_type": "stream",
          "text": [
            "몇 개 입력?14\n",
            "몇 개마다 줄 바꿈?5\n",
            "*****\n",
            "*****\n",
            "****\n"
          ],
          "name": "stdout"
        }
      ]
    },
    {
      "cell_type": "markdown",
      "metadata": {
        "id": "-ilqRjhs9dLj"
      },
      "source": [
        "### 1.6.2 무한 루프 while과 긴급 탈출 break!\n"
      ]
    },
    {
      "cell_type": "markdown",
      "metadata": {
        "id": "3axIhyxL9toN"
      },
      "source": [
        "사실 긴급 탈출까진 아니고ㅋㅋ  \n",
        "\n",
        "while을 사용하면 무한히 도는 루프를 만들 수 있다. 그런데 이 루프를 어떻게 빠져나갈 것인가? (1) while에 조건을 달거나, (2) break을 써서 빠져나가면 된다. 아래서 자세히 보자."
      ]
    },
    {
      "cell_type": "code",
      "metadata": {
        "id": "XEOfcwMi97qj",
        "outputId": "7e68663d-5aec-4aad-b35f-dd88497dd5d4",
        "colab": {
          "base_uri": "https://localhost:8080/",
          "height": 50
        }
      },
      "source": [
        "x = int(input('최대의 수를 써보시오.'))\n",
        "count=1\n",
        "while(count<x+1):\n",
        "    print(count, end='')\n",
        "    count += 1\n",
        "    "
      ],
      "execution_count": 19,
      "outputs": [
        {
          "output_type": "stream",
          "text": [
            "최대의 수를 써보시오.9\n",
            "123456789"
          ],
          "name": "stdout"
        }
      ]
    },
    {
      "cell_type": "code",
      "metadata": {
        "id": "g4q3vZ_q-ofh",
        "outputId": "117342d8-b34c-4e70-c04f-5eaaf65f9fe1",
        "colab": {
          "base_uri": "https://localhost:8080/",
          "height": 50
        }
      },
      "source": [
        "x = int(input('최대의 수를 써보시오.'))\n",
        "\n",
        "for count in range(1,x+1):\n",
        "    print(count, end='')\n",
        "    count += 1"
      ],
      "execution_count": 22,
      "outputs": [
        {
          "output_type": "stream",
          "text": [
            "최대의 수를 써보시오.9\n",
            "123456789"
          ],
          "name": "stdout"
        }
      ]
    },
    {
      "cell_type": "markdown",
      "metadata": {
        "id": "Mz19t-vy_Kwg"
      },
      "source": [
        "#### 직사각형 넓이로부터 두 변의 길이 구하기"
      ]
    },
    {
      "cell_type": "code",
      "metadata": {
        "id": "o2ekVVmJ_QaQ",
        "outputId": "a1b5dc4c-0cc8-44e0-b340-c99d2becc4a6",
        "colab": {
          "base_uri": "https://localhost:8080/",
          "height": 83
        }
      },
      "source": [
        "area = int(input('직사각형의 넓이를 입력하세요: '))\n",
        "\n",
        "for i in range(1,area+1):\n",
        "\n",
        "    if i**2 > area: break # magic code\n",
        "    if area % i ==0:\n",
        "        line1 = i\n",
        "        \n",
        "        line2 = area//line1\n",
        "\n",
        "        if line1 > line2:\n",
        "            print(f'긴 변:{line1} 짧은 변: {line2}')\n",
        "        elif line1 == line2:\n",
        "            print(f'정사각형. 한 변의 길이: {line1}')\n",
        "        else:\n",
        "            print(f'긴 변:{line2} 짧은 변: {line1}')\n"
      ],
      "execution_count": 27,
      "outputs": [
        {
          "output_type": "stream",
          "text": [
            "직사각형의 넓이를 입력하세요: 32\n",
            "긴 변:32 짧은 변: 1\n",
            "긴 변:16 짧은 변: 2\n",
            "긴 변:8 짧은 변: 4\n"
          ],
          "name": "stdout"
        }
      ]
    },
    {
      "cell_type": "markdown",
      "metadata": {
        "id": "yVJPJLVlA28K"
      },
      "source": [
        "위의 매직 코드를 보라. 이것이 중요한 이유는 만약 이것이 없다면, 동일한 쌍의 두 변의 길이를 한번 더 구할 것이기 때문이다. 이것은 증가하는 인덱스 i가 정사각형 넓이로 계산되는 경우에, 우리가 입력한 Area 값보다 크지 않게 만들어준다."
      ]
    },
    {
      "cell_type": "markdown",
      "metadata": {
        "id": "3hBOGfkvBIS3"
      },
      "source": [
        "### 1.6.3 스킵인가 패스인가  \n",
        "  \n",
        "반복문 내에서 특정 조건을 만족하는 경우 그것을 출력 또는 고려 하에 포함하지 않고 스킵~ 하는 경우가 있다. 이럴 땐 아래같이 코딩하라."
      ]
    },
    {
      "cell_type": "code",
      "metadata": {
        "id": "g9Kqba6QCh7F",
        "outputId": "7db5d7d1-c3bc-43e9-b854-b06d693c7a90",
        "colab": {
          "base_uri": "https://localhost:8080/",
          "height": 33
        }
      },
      "source": [
        "for i in range(10):\n",
        "\n",
        "    if i%2==0: continue\n",
        "    print(i ,end='')\n",
        "    "
      ],
      "execution_count": 33,
      "outputs": [
        {
          "output_type": "stream",
          "text": [
            "13579"
          ],
          "name": "stdout"
        }
      ]
    },
    {
      "cell_type": "markdown",
      "metadata": {
        "id": "x9wM2qAoDf6K"
      },
      "source": [
        "재밌는 또 다른 방법. 파이썬의 리스트 처리 덕분에 이런 것이 가능한 듯 하다."
      ]
    },
    {
      "cell_type": "code",
      "metadata": {
        "id": "_ofL0_oWDkJL",
        "outputId": "e007156b-ed8e-422c-ea27-7ea4f8d51f47",
        "colab": {
          "base_uri": "https://localhost:8080/",
          "height": 50
        }
      },
      "source": [
        "# 7을 생략해보자!\n",
        "\n",
        "n = int(input('무슨 수를 입력?'))\n",
        "\n",
        "for i in list(range(1,7)) + list(range(8,n+1)):\n",
        "    print(i,' ',end='')"
      ],
      "execution_count": 37,
      "outputs": [
        {
          "output_type": "stream",
          "text": [
            "무슨 수를 입력?12\n",
            "1  2  3  4  5  6  8  9  10  11  12  "
          ],
          "name": "stdout"
        }
      ]
    },
    {
      "cell_type": "markdown",
      "metadata": {
        "id": "8bnOMb2MEueK"
      },
      "source": [
        "### 1.6.4 다중 루프  \n",
        "  \n",
        "다중 루프는 루프문을 2 개 이상 사용하는 경우이다. 머리 아픈 경우인가? 흥미로운 경우인가? ㅎㅎㅎ  \n",
        "  \n",
        "하지만 이것을 사용하는 것에 주의하는게 좋다. 이것은 연산량을 폭발적으로 증가시키기 때문이다."
      ]
    },
    {
      "cell_type": "code",
      "metadata": {
        "id": "hjhu41S0EuH5",
        "outputId": "7c8c3ee7-3b42-4108-d838-03b83f17f5ae",
        "colab": {
          "base_uri": "https://localhost:8080/",
          "height": 166
        }
      },
      "source": [
        "for i in range(1,10):\n",
        "    for j in range(1,10):\n",
        "        print(f'{i*j:3}',end='') # :3은 i와 j를 3 자리로 가지런히 출력하게 해줘. 신기..\n",
        "    print()"
      ],
      "execution_count": 40,
      "outputs": [
        {
          "output_type": "stream",
          "text": [
            "  1  2  3  4  5  6  7  8  9\n",
            "  2  4  6  8 10 12 14 16 18\n",
            "  3  6  9 12 15 18 21 24 27\n",
            "  4  8 12 16 20 24 28 32 36\n",
            "  5 10 15 20 25 30 35 40 45\n",
            "  6 12 18 24 30 36 42 48 54\n",
            "  7 14 21 28 35 42 49 56 63\n",
            "  8 16 24 32 40 48 56 64 72\n",
            "  9 18 27 36 45 54 63 72 81\n"
          ],
          "name": "stdout"
        }
      ]
    },
    {
      "cell_type": "markdown",
      "metadata": {
        "id": "dlE14rDcFyH8"
      },
      "source": [
        "#### *로 직각이등변삼각형 만들기!  \n",
        "  \n",
        "다중루프를 사용해서 구해보자!"
      ]
    },
    {
      "cell_type": "code",
      "metadata": {
        "id": "ylUPhKouF4MR",
        "outputId": "d4643ebd-659c-497d-ca84-0f1cdcfb5ce6",
        "colab": {
          "base_uri": "https://localhost:8080/",
          "height": 150
        }
      },
      "source": [
        "N = int(input('짧은 변의 길이를 입력하라: '))\n",
        "\n",
        "for i in range(N): # i가 하나씩 증가할 때마다 아래 j에서 출력하는 별의 개수가 늘어난다.\n",
        "    for _ in range(i+1): #i는 0부터 시작하니까 1을 더해줘야 1부터 시작. \n",
        "        print('*',end='')\n",
        "    print() # 행 변경"
      ],
      "execution_count": 43,
      "outputs": [
        {
          "output_type": "stream",
          "text": [
            "짧은 변의 길이를 입력하라: 7\n",
            "*\n",
            "**\n",
            "***\n",
            "****\n",
            "*****\n",
            "******\n",
            "*******\n"
          ],
          "name": "stdout"
        }
      ]
    },
    {
      "cell_type": "markdown",
      "metadata": {
        "id": "KeNGCK1bG1_0"
      },
      "source": [
        "위 삼각형과 좌우대칭인 삼각형을 출력해보자! 이것은 공백 출력을 고려해주면 된다."
      ]
    },
    {
      "cell_type": "code",
      "metadata": {
        "id": "u4NkkNnrG61j",
        "outputId": "0ea67735-7409-4324-a7a2-b7985a5fc172",
        "colab": {
          "base_uri": "https://localhost:8080/",
          "height": 150
        }
      },
      "source": [
        "N = int(input('짧은 변의 길이를 입력하라: '))\n",
        "\n",
        "for i in range(N): \n",
        "    for _ in range(N-i-1): # -1을 해주지 않으면 1 만큼 x축으로 이동한 삼각형이 출력된다.\n",
        "        print(' ',end='')\n",
        "    for _ in range(i+1):\n",
        "        print('*',end='')\n",
        "    print()"
      ],
      "execution_count": 52,
      "outputs": [
        {
          "output_type": "stream",
          "text": [
            "짧은 변의 길이를 입력하라: 7\n",
            "      *\n",
            "     **\n",
            "    ***\n",
            "   ****\n",
            "  *****\n",
            " ******\n",
            "*******\n"
          ],
          "name": "stdout"
        }
      ]
    },
    {
      "cell_type": "markdown",
      "metadata": {
        "id": "6bSDMPM7Hy54"
      },
      "source": [
        "## 1.7 ID  \n",
        "  \n",
        "변수는 값을 저장하는 것이 아니라 단순히 그 값에 대한 이름을 부착하는 것일 뿐이다. "
      ]
    },
    {
      "cell_type": "markdown",
      "metadata": {
        "id": "s6AM9mAbIj52"
      },
      "source": [
        "동일 값 다른 아이디"
      ]
    },
    {
      "cell_type": "code",
      "metadata": {
        "id": "UN5SYU-4ImVK",
        "outputId": "41b436b2-c268-41c3-c839-0f8dd36a5bca",
        "colab": {
          "base_uri": "https://localhost:8080/",
          "height": 33
        }
      },
      "source": [
        "def one(a,b):\n",
        "    return 1\n",
        "\n",
        "n=1\n",
        "a = one(3,2)\n",
        "\n",
        "print(f'n의 아이디: {id(n)}, a의 ID: {id(a)}')"
      ],
      "execution_count": 59,
      "outputs": [
        {
          "output_type": "stream",
          "text": [
            "n의 아이디: 10914496, a의 ID: 10914496\n"
          ],
          "name": "stdout"
        }
      ]
    },
    {
      "cell_type": "markdown",
      "metadata": {
        "id": "Q0Sa3dFGI_zM"
      },
      "source": [
        "위는 전역변수 n이 객체 1을 지칭하고, 함수 내부의 지역변수에서 1을 지칭하는 값이 a라는 이름을 부착한 것이다. 둘다 동일한 ID를 갖고 있는 1을 지칭하고 있다. 여기서 말하고자 하는 것은 변수는 단지 값에 대한 **이름의 부착**이라는 것 뿐이다."
      ]
    }
  ]
}