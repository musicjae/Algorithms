{
  "nbformat": 4,
  "nbformat_minor": 0,
  "metadata": {
    "colab": {
      "name": "baekjoon_stepbystep.ipynb",
      "provenance": [],
      "private_outputs": true,
      "authorship_tag": "ABX9TyMicNGGec4Xo4pYly6aM9UI",
      "include_colab_link": true
    },
    "kernelspec": {
      "name": "python3",
      "display_name": "Python 3"
    }
  },
  "cells": [
    {
      "cell_type": "markdown",
      "metadata": {
        "id": "view-in-github",
        "colab_type": "text"
      },
      "source": [
        "<a href=\"https://colab.research.google.com/github/musicjae/Algorithms/blob/master/baekjoon_stepbystep/array.ipynb\" target=\"_parent\"><img src=\"https://colab.research.google.com/assets/colab-badge.svg\" alt=\"Open In Colab\"/></a>"
      ]
    },
    {
      "cell_type": "code",
      "metadata": {
        "id": "OyJZyukX-WLC",
        "colab_type": "code",
        "colab": {}
      },
      "source": [
        "#2562\n",
        "\"\"\"\n",
        "9개의 서로 다른 자연수가 주어질 때, 이들 중 최댓값을 찾고 그 최댓값이 몇 번째 수인지를 구하는 프로그램을 작성하시오.\n",
        "\n",
        "예를 들어, 서로 다른 9개의 자연수\n",
        "\n",
        "3, 29, 38, 12, 57, 74, 40, 85, 61\n",
        "\n",
        "이 주어지면, 이들 중 최댓값은 85이고, 이 값은 8번째 수이다.\n",
        "\"\"\"\n",
        "\n",
        "maxn = 0\n",
        "maxid = 0\n",
        "for i in range(9):\n",
        "\n",
        "    cache = int(input())\n",
        "    \n",
        "    if cache > maxn:\n",
        "\n",
        "        maxn = cache\n",
        "        maxid = i+1\n",
        "     \n",
        "print(maxn, maxid)\n",
        "\n",
        "\n"
      ],
      "execution_count": null,
      "outputs": []
    },
    {
      "cell_type": "code",
      "metadata": {
        "id": "7xdxdP6HIiGD",
        "colab_type": "code",
        "colab": {}
      },
      "source": [
        "#2577\n",
        "\"\"\"\n",
        "세 개의 자연수 A, B, C가 주어질 때 A×B×C를 계산한 결과에 0부터 9까지 각각의 숫자가 몇 번씩 쓰였는지를 구하는 프로그램을 작성하시오.\n",
        "\n",
        "예를 들어 A = 150, B = 266, C = 427 이라면 \n",
        "\n",
        "A × B × C = 150 × 266 × 427 = 17037300 이 되고, \n",
        "\n",
        "계산한 결과 17037300 에는 0이 3번, 1이 1번, 3이 2번, 7이 2번 쓰였다.\n",
        "\n",
        "첫째 줄에 A, 둘째 줄에 B, 셋째 줄에 C가 주어진다. A, B, C는 모두 100보다 같거나 크고, 1,000보다 작은 자연수이다.\n",
        "\n",
        "\n",
        "\"\"\"\n",
        "\n",
        "a=int(input())\n",
        "b=int(input())\n",
        "c=int(input())\n",
        "\n",
        "value = str(value)\n",
        "\n",
        "length = len(str(value))\n",
        "\n",
        "for i in range(10): # 마지막 0, 0 도 출력하려면 10으로 해야 해. length 쓸 필요 x\n",
        "\n",
        "    print(value.count(str(i)))\n",
        "\n"
      ],
      "execution_count": null,
      "outputs": []
    },
    {
      "cell_type": "code",
      "metadata": {
        "id": "p0SFZlOoRsSh",
        "colab_type": "code",
        "colab": {}
      },
      "source": [
        "#8958\n",
        "\n",
        "\n",
        "\"\"\"\n",
        "\"OOXXOXXOOO\"와 같은 OX퀴즈의 결과가 있다. O는 문제를 맞은 것이고, X는 문제를 틀린 것이다. 문제를 맞은 경우 그 문제의 점수는 그 문제까지 연속된 O의 개수가 된다. 예를 들어, 10번 문제의 점수는 3이 된다.\n",
        "\n",
        "\"OOXXOXXOOO\"의 점수는 1+2+0+0+1+0+0+1+2+3 = 10점이다.\n",
        "\n",
        "OX퀴즈의 결과가 주어졌을 때, 점수를 구하는 프로그램을 작성하시오.\n",
        "\n",
        "첫째 줄에 테스트 케이스의 개수가 주어진다. 각 테스트 케이스는 한 줄로 이루어져 있고, 길이가 0보다 크고 80보다 작은 문자열이 주어진다. 문자열은 O와 X만으로 이루어져 있다.\n",
        "\n",
        "input: \n",
        "5\n",
        "OOXXOXXOOO\n",
        "OOXXOOXXOO\n",
        "OXOXOXOXOXOXOX\n",
        "OOOOOOOOOO\n",
        "OOOOXOOOOXOOOOX\n",
        "\n",
        "output:\n",
        "\n",
        "10\n",
        "9\n",
        "7\n",
        "55\n",
        "30\n",
        "\"\"\"\n",
        "\n",
        "\n",
        "\n",
        "\n",
        "n = int(input())\n",
        "\n",
        "for i in range(n):\n",
        "    sum = 0\n",
        "    count = 1 # 처음 추가될 때 count가 더해지는데, 그때 이것은 0번째가 아니라 1번째니까\n",
        "    score = input()\n",
        "\n",
        "    for j in range(len(score)):\n",
        "        \n",
        "        if score[j] == 'O':\n",
        "\n",
        "            sum += count\n",
        "            count += 1\n",
        "\n",
        "        elif score[j] =='X':\n",
        "            count = 1 # 카운트가 다시 1로 초기화. 그래서 다음 번 'O'가 나올 시, 더해줄 때 count가 1로 세진다.\n",
        "            \n",
        "    print(sum)\n",
        "    "
      ],
      "execution_count": null,
      "outputs": []
    },
    {
      "cell_type": "code",
      "metadata": {
        "id": "A9sPPeJrfh-X",
        "colab_type": "code",
        "colab": {}
      },
      "source": [
        "#4344\n",
        "\n",
        "\"\"\"\n",
        "첫째 줄에는 테스트 케이스의 개수 C가 주어진다.\n",
        "\n",
        "둘째 줄부터 각 테스트 케이스마다 학생의 수 N(1 ≤ N ≤ 1000, N은 정수)이 첫 수로 주어지고, 이어서 N명의 점수가 주어진다. 점수는 0보다 크거나 같고, 100보다 작거나 같은 정수이다.\n",
        "\n",
        "입력:\n",
        "5\n",
        "5 50 50 70 80 100\n",
        "7 100 95 90 80 70 60 50\n",
        "3 70 90 80\n",
        "3 70 90 81\n",
        "9 100 99 98 97 96 95 94 93 91\n",
        "\n",
        "출력:\n",
        "\n",
        "40.000%\n",
        "57.143%\n",
        "33.333%\n",
        "66.667%\n",
        "55.556%\n",
        "\"\"\"\n",
        "\n",
        "def avg_beyond(avg, scores=[]):\n",
        "    count = 0\n",
        "\n",
        "    for i in range(len(scores)):\n",
        "\n",
        "        if scores[i] > avg: # 하나의 점수가 전체 평균보다 큰가?\n",
        "\n",
        "            count += 1 # 그렇다면, count 하나 업\n",
        "\n",
        "    answer = count/len(scores)*100 # % 구하기\n",
        "    return answer\n",
        "\n",
        "\n",
        "case = int(input())\n",
        "for i in range(case): # 사례 수 입력\n",
        "    avg = 0\n",
        "    sumn = 0\n",
        "    s = 0\n",
        "    scores=[]\n",
        "    person_n = int(input()) #하나의 사례 내에서 사람은 몇 명?\n",
        "    \n",
        "    for j in range(person_n):\n",
        "        \n",
        "        s = int(input()) # 하나의 사례 내에서 각 사람의 점수 입력\n",
        "        scores.insert(j, s) # 그 점수를 리스트로 하나씩 추가해줘\n",
        "    \n",
        "        \n",
        "    sumn = sum(scores) # 합\n",
        "    avg = sumn/person_n # 평균\n",
        "    answer = avg_beyond(avg, scores) # 하나의 사례 내에서 평균을 넘는 사람은 전체의 몇 %?\n",
        "    print('%.03f %%' % answer) # %를 출력하고 싶다면 %%라고 쳐야 한다. 아니면 형식 불완전함 오류가 뜬다.\n",
        "    \n",
        "    "
      ],
      "execution_count": null,
      "outputs": []
    },
    {
      "cell_type": "code",
      "metadata": {
        "id": "OqeyNV0JDMnk",
        "colab_type": "code",
        "colab": {}
      },
      "source": [
        "#scores=[1,2,3,4,5]\n",
        "avg=3\n",
        "count = 0\n",
        "\n",
        "for i in range(len(scores)):\n",
        "\n",
        "    if scores[i] > avg:\n",
        "\n",
        "        count += 1\n",
        "\n",
        "answer = count/len(scores)*100\n",
        "print(answer)\n",
        "    \n"
      ],
      "execution_count": null,
      "outputs": []
    },
    {
      "cell_type": "code",
      "metadata": {
        "id": "gRHpC6P5GQQX",
        "colab_type": "code",
        "colab": {}
      },
      "source": [
        ""
      ],
      "execution_count": null,
      "outputs": []
    },
    {
      "cell_type": "code",
      "metadata": {
        "id": "7-fBReCKDHph",
        "colab_type": "code",
        "colab": {}
      },
      "source": [
        "a=0.3123123\n",
        "print('%.03f' % a)"
      ],
      "execution_count": null,
      "outputs": []
    },
    {
      "cell_type": "code",
      "metadata": {
        "id": "a0IggddCCwSg",
        "colab_type": "code",
        "colab": {}
      },
      "source": [
        ""
      ],
      "execution_count": null,
      "outputs": []
    },
    {
      "cell_type": "code",
      "metadata": {
        "id": "GvkK_AwYCs6X",
        "colab_type": "code",
        "colab": {}
      },
      "source": [
        ""
      ],
      "execution_count": null,
      "outputs": []
    },
    {
      "cell_type": "code",
      "metadata": {
        "id": "FvEyyN4-Cofb",
        "colab_type": "code",
        "colab": {}
      },
      "source": [
        ""
      ],
      "execution_count": null,
      "outputs": []
    },
    {
      "cell_type": "code",
      "metadata": {
        "id": "eEJQx77DBP7Y",
        "colab_type": "code",
        "colab": {}
      },
      "source": [
        "result = []\n",
        "for i in range(5):\n",
        "\n",
        "    s = [1,2,3,4,5]\n",
        "    result.insert(i, s[i])\n",
        "\n",
        "sumn = sum(result)\n",
        "print(sumn)"
      ],
      "execution_count": null,
      "outputs": []
    }
  ]
}