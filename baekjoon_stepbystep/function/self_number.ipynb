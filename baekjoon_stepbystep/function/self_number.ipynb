{
  "nbformat": 4,
  "nbformat_minor": 0,
  "metadata": {
    "colab": {
      "name": "baekjoon_stepbystep.ipynb",
      "provenance": [],
      "private_outputs": true,
      "authorship_tag": "ABX9TyOtVSJSxdUKIvzEbj6P3yvH",
      "include_colab_link": true
    },
    "kernelspec": {
      "name": "python3",
      "display_name": "Python 3"
    }
  },
  "cells": [
    {
      "cell_type": "markdown",
      "metadata": {
        "id": "view-in-github",
        "colab_type": "text"
      },
      "source": [
        "<a href=\"https://colab.research.google.com/github/musicjae/Algorithms/blob/master/baekjoon_stepbystep/function/self_number.ipynb\" target=\"_parent\"><img src=\"https://colab.research.google.com/assets/colab-badge.svg\" alt=\"Open In Colab\"/></a>"
      ]
    },
    {
      "cell_type": "code",
      "metadata": {
        "id": "BpzkZ3bJj_2K",
        "colab_type": "code",
        "colab": {}
      },
      "source": [
        "#몫구하기:\n",
        "print(70//7)\n",
        "print(0//7)\n"
      ],
      "execution_count": null,
      "outputs": []
    },
    {
      "cell_type": "code",
      "metadata": {
        "id": "yEnoIbihcLi8",
        "colab_type": "code",
        "colab": {}
      },
      "source": [
        "# 4673\n",
        "\"\"\"\n",
        "셀프 넘버는 1949년 인도 수학자 D.R. Kaprekar가 이름 붙였다. 양의 정수 n에 대해서 d(n)을 n과 n의 각 자리수를 더하는 함수라고 정의하자. 예를 들어, d(75) = 75+7+5 = 87이다.\n",
        "\n",
        "양의 정수 n이 주어졌을 때, 이 수를 시작해서 n, d(n), d(d(n)), d(d(d(n))), ...과 같은 무한 수열을 만들 수 있다. \n",
        "\n",
        "예를 들어, 33으로 시작한다면 다음 수는 33 + 3 + 3 = 39이고, 그 다음 수는 39 + 3 + 9 = 51, 다음 수는 51 + 5 + 1 = 57이다. 이런식으로 다음과 같은 수열을 만들 수 있다.\n",
        "\n",
        "33, 39, 51, 57, 69, 84, 96, 111, 114, 120, 123, 129, 141, ...\n",
        "\n",
        "n을 d(n)의 생성자라고 한다. 위의 수열에서 33은 39의 생성자이고, 39는 51의 생성자, 51은 57의 생성자이다. 생성자가 한 개보다 많은 경우도 있다. 예를 들어, 101은 생성자가 2개(91과 100) 있다. \n",
        "\n",
        "생성자가 없는 숫자를 셀프 넘버라고 한다. 100보다 작은 셀프 넘버는 총 13개가 있다. 1, 3, 5, 7, 9, 20, 31, 42, 53, 64, 75, 86, 97\n",
        "\n",
        "10000보다 작거나 같은 셀프 넘버를 한 줄에 하나씩 출력하는 프로그램을 작성하시오.\n",
        "\"\"\"\n",
        "\n",
        "# 전략: 생성자가 있는 숫자들 만드는 함수 작성 --> 그 함수 출력값의 여집합에 속하는 정수들 출력\n",
        "\n",
        "def dn(x: list)->int:\n",
        "\n",
        "    n=[]\n",
        "    for i in range(10000):\n",
        "\n",
        "        if 0 < x[i] & x[i] < 10:\n",
        "\n",
        "            n.append(x[i]+x[i])\n",
        "\n",
        "        elif 9 < x[i] & x[i] < 100:\n",
        "\n",
        "            n.append(x[i]+x[i]//10+x[i]%10)\n",
        "\n",
        "        elif 99< x[i] & x[i] <1000:\n",
        "\n",
        "            n.append(x[i]+(x[i]//100)+((x[i]%100)//10)+x[i]%10)\n",
        "\n",
        "        elif 999< x[i] & x[i] < 10000:\n",
        "\n",
        "            n.append(x[i]+(x[i]//1000)+((x[i]//100)%10)+((x[i]//10)%10)+x[i]%10)\n",
        "\n",
        "        elif x[i] == 10000:\n",
        "            \n",
        "            n.append(10001)\n",
        "            \n",
        "    return n       \n",
        "\n",
        "\n",
        "insertn=list(range(10000))\n",
        "for i in insertn:\n",
        "\n",
        "    if insertn[i] not in dn(insertn):\n",
        "        if insertn[i] is not 0:\n",
        "            print(insertn[i])\n",
        "  "
      ],
      "execution_count": null,
      "outputs": []
    },
    {
      "cell_type": "code",
      "metadata": {
        "id": "flRQS9kkmoB1",
        "colab_type": "code",
        "colab": {}
      },
      "source": [
        "x=[]\n",
        "for j in range(1000):\n",
        "    x.append(j+1)\n",
        "n=[]\n",
        "for i in range(1000):\n",
        "\n",
        "    if 0 < x[i] & x[i] < 10:\n",
        "\n",
        "        n.append(x[i]+x[i])\n",
        "\n",
        "    if 9 < x[i] & x[i] < 100:\n",
        "\n",
        "        n.append(x[i]+x[i]//10+x[i]%10)\n",
        "\n",
        "    if 99< x[i] & x[i] <1000:\n",
        "\n",
        "        n.append(x[i]+x[i]//100+((x[i]//10)%10)+x[i]%10)\n",
        "\n",
        "    if x[i] == 1000:\n",
        "\n",
        "        n.append(1001)\n",
        "\n",
        "out=[]\n",
        "\n",
        "for i in list(range(1000)):\n",
        "    if i not in n:\n",
        "        out.append(i)\n",
        "\n",
        "\n",
        "for answer in out:\n",
        "    if answer is not 0:\n",
        "        print(answer)\n",
        "\n"
      ],
      "execution_count": null,
      "outputs": []
    },
    {
      "cell_type": "code",
      "metadata": {
        "id": "fI4OZJtobWWd",
        "colab_type": "code",
        "colab": {}
      },
      "source": [
        "# 대안 풀이에 대한 분석.\n",
        "\n",
        "num = set(range(1,21))\n",
        "generated_num = set()\n",
        "for i in range(1,21):\n",
        "    print('\\n')\n",
        "    print('i = ', i)\n",
        "\n",
        "    for j in str(i): # str(i)에서 반복문을 돌릴 시에는 i=10일 때마다 j가 0으로 초기화된다. 반면에, [i] 내에서 반복문을 돌리면 j는 계속 커지기만 한다.\n",
        "        i += int(j)\n",
        "    print('j =', j )\n",
        "    print('[i + j = i2] = ', i)\n",
        "    \n",
        "\n"
      ],
      "execution_count": null,
      "outputs": []
    },
    {
      "cell_type": "markdown",
      "metadata": {
        "id": "3bM5d-JmiM5e",
        "colab_type": "text"
      },
      "source": [
        "# Reference  \n",
        "\n",
        "[1]https://whereami80.tistory.com/83 리스트 관련  \n",
        "[2] https://ksw626.tistory.com/37  \n",
        "[3] https://pacific-ocean.tistory.com/37  \n",
        "\n",
        "[4] https://woogong2.tistory.com/77 깔끔"
      ]
    }
  ]
}