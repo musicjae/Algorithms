{
  "nbformat": 4,
  "nbformat_minor": 0,
  "metadata": {
    "colab": {
      "name": "hansoo.ipynb",
      "provenance": [],
      "authorship_tag": "ABX9TyOpkGzb8rsYQw03vf8qmcww",
      "include_colab_link": true
    },
    "kernelspec": {
      "name": "python3",
      "display_name": "Python 3"
    }
  },
  "cells": [
    {
      "cell_type": "markdown",
      "metadata": {
        "id": "view-in-github",
        "colab_type": "text"
      },
      "source": [
        "<a href=\"https://colab.research.google.com/github/musicjae/Algorithms/blob/master/baekjoon_stepbystep/function/hansoo.ipynb\" target=\"_parent\"><img src=\"https://colab.research.google.com/assets/colab-badge.svg\" alt=\"Open In Colab\"/></a>"
      ]
    },
    {
      "cell_type": "markdown",
      "metadata": {
        "id": "h5W9bWpP7oAz",
        "colab_type": "text"
      },
      "source": [
        "## 1065  \n",
        "\n",
        "  어떤 양의 정수 X의 각 자리가 등차수열을 이룬다면, 그 수를 한수라고 한다. 등차수열은 연속된 두 개의 수의 차이가 일정한 수열을 말한다. N이 주어졌을 때, 1보다 크거나 같고, N보다 작거나 같은 한수의 개수를 출력하는 프로그램을 작성하시오.  \n",
        "  \n",
        "  첫째 줄에 1,000보다 작거나 같은 자연수 N이 주어진다.  \n",
        "    \n",
        "      \n",
        "        \n",
        "        110 -> 99\n",
        "        1 -> 1\n",
        "        210 -> 105\n",
        "        1000 -> 144"
      ]
    },
    {
      "cell_type": "markdown",
      "metadata": {
        "id": "1-reFjTT7-d6",
        "colab_type": "text"
      },
      "source": [
        "\n",
        "* 1~ 99 는 모두 한수이다."
      ]
    },
    {
      "cell_type": "code",
      "metadata": {
        "id": "5a7O67fI7gRh",
        "colab_type": "code",
        "colab": {
          "base_uri": "https://localhost:8080/",
          "height": 51
        },
        "outputId": "d4ddd05a-a339-4758-a199-71018c7bd938"
      },
      "source": [
        "\n",
        "def hansoo(x):\n",
        "    count = 0\n",
        "    \n",
        "    if 0 < x & x < 100:\n",
        "\n",
        "        return x # 1~ 99까지 모두 한수\n",
        "\n",
        "    else:\n",
        "        \n",
        "        for i in range(100, x+1):\n",
        "            \n",
        "            if ((i//100 - (i//10)%10)) == ((i//10)%10 - (i%100)%10):\n",
        "                \n",
        "                count += 1\n",
        "\n",
        "        return count+99\n",
        "\n",
        "\n",
        "n = int(input())\n",
        "print(hansoo(n))\n",
        "\n"
      ],
      "execution_count": 100,
      "outputs": [
        {
          "output_type": "stream",
          "text": [
            "1000\n",
            "144\n"
          ],
          "name": "stdout"
        }
      ]
    }
  ]
}