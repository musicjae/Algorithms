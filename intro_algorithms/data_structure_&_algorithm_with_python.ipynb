{
  "nbformat": 4,
  "nbformat_minor": 0,
  "metadata": {
    "colab": {
      "name": "data structure & algorithm with python.ipynb",
      "provenance": [],
      "private_outputs": true,
      "authorship_tag": "ABX9TyPgJOYrpWaRE1gqOHgAuuC0",
      "include_colab_link": true
    },
    "kernelspec": {
      "name": "python3",
      "display_name": "Python 3"
    },
    "accelerator": "GPU"
  },
  "cells": [
    {
      "cell_type": "markdown",
      "metadata": {
        "id": "view-in-github",
        "colab_type": "text"
      },
      "source": [
        "<a href=\"https://colab.research.google.com/github/musicjae/Algorithms/blob/master/intro_algorithms/data_structure_%26_algorithm_with_python.ipynb\" target=\"_parent\"><img src=\"https://colab.research.google.com/assets/colab-badge.svg\" alt=\"Open In Colab\"/></a>"
      ]
    },
    {
      "cell_type": "markdown",
      "metadata": {
        "id": "iaH0GHpJdEWE",
        "colab_type": "text"
      },
      "source": [
        "# 1. 예비단계"
      ]
    },
    {
      "cell_type": "markdown",
      "metadata": {
        "id": "s2QHkcCxb9HH",
        "colab_type": "text"
      },
      "source": [
        "**1.1 프로파일링**<br>\n",
        "&nbsp;&nbsp;프로그램이 느릴 때, 메모리 소비 많을 때 사용. 그 이유는 자료구조 및 알고리즘을 잘못 선택했을 가능성이 있기 때문이다. 이때 다음 성능을 검토하라:<br><br>\n",
        "\n",
        "&nbsp;&nbsp; - 읽기 전용 데이터: 리스트 --> 튜플<br>\n",
        "&nbsp;&nbsp; - 반복문에서, 항목이 많은 리스트, 튜플 대신 generator 사용\n",
        "&nbsp;&nbsp; - 문자열 연결 시, + 대신에 append로 추가하고, 마지막에 리스트 항목을 **모두 하나로** 연결"
      ]
    },
    {
      "cell_type": "markdown",
      "metadata": {
        "id": "2r_NNEydd3Zr",
        "colab_type": "text"
      },
      "source": [
        "&nbsp;&nbsp;**1.1.1 cProfile 모듈**<br><br>\n",
        "호출 시간에 대한 세부 분석, 병목 현상bottleneck을 찾는 데 사용된다."
      ]
    },
    {
      "cell_type": "code",
      "metadata": {
        "id": "VfQpKh9VeGIO",
        "colab_type": "code",
        "colab": {}
      },
      "source": [
        "import cProfile\n",
        "import time\n",
        "\n",
        "def sleep():\n",
        "    time.sleep(5)\n",
        "\n",
        "def hw():\n",
        "    print(\"테스트 중입니다\")\n",
        "\n",
        "def main():\n",
        "    sleep()\n",
        "    hw()\n",
        "\n",
        "cProfile.run('main()')"
      ],
      "execution_count": null,
      "outputs": []
    },
    {
      "cell_type": "markdown",
      "metadata": {
        "id": "jcT9lJ2YehoJ",
        "colab_type": "text"
      },
      "source": [
        "&nbsp;&nbsp;**1.1.2 timeit 모듈**<br><br>\n",
        "일부분의 코드의 실행 시간 확인 시 사용"
      ]
    },
    {
      "cell_type": "code",
      "metadata": {
        "id": "TJjMYEiBfu9v",
        "colab_type": "code",
        "colab": {}
      },
      "source": [
        "import timeit\n",
        "\n",
        "a = timeit.timeit(\"x = sum(range(100))\")\n",
        "b = timeit.timeit(\"x = sum(range(10))\")\n",
        "\n",
        "print(' a: ',a,'\\n','b: ', b)\n",
        "\n",
        "a= float(a)\n",
        "b=float(b)\n",
        "\n",
        "if a > b:\n",
        "    print('a가 %f만큼 더 소요된다' % (a-b))\n",
        "\n",
        "else:\n",
        "    print('b 가 더 소요')"
      ],
      "execution_count": null,
      "outputs": []
    },
    {
      "cell_type": "code",
      "metadata": {
        "id": "r8D1XzKxhtak",
        "colab_type": "code",
        "colab": {}
      },
      "source": [
        "# time 모듈 이용해보기\n",
        "\n",
        "import time\n",
        "\n",
        "def sum_of_n2(n):\n",
        "\n",
        "    start = time.time()\n",
        "\n",
        "    summ = 0\n",
        "    \n",
        "    for i in range(1,n+1):\n",
        "\n",
        "        summ += i\n",
        "\n",
        "    end = time.time()\n",
        "\n",
        "    return summ, (end-start)\n",
        "\n",
        "if __name__ == \"__main__\":\n",
        "\n",
        "    n = 10\n",
        "    print(\"총 합:%d\\t, 시간:%f 초\" % sum_of_n2(n)) \n",
        "\n",
        "    n = 100\n",
        "    print(\"총 합:%d\\t, 시간:%f 초\" % sum_of_n2(n))\n",
        "\n",
        "    n = 10000\n",
        "    print(\"총 합:%d\\t, 시간:%f 초\" % sum_of_n2(n))\n",
        "\n",
        "    n = 100000000\n",
        "    print(\"총 합:%d\\t, 시간:%f 초\" % sum_of_n2(n)) "
      ],
      "execution_count": null,
      "outputs": []
    },
    {
      "cell_type": "code",
      "metadata": {
        "id": "lm28LdATg9nt",
        "colab_type": "code",
        "colab": {}
      },
      "source": [
        ""
      ],
      "execution_count": null,
      "outputs": []
    },
    {
      "cell_type": "code",
      "metadata": {
        "id": "pw-usLHdfsdx",
        "colab_type": "code",
        "colab": {}
      },
      "source": [
        ""
      ],
      "execution_count": null,
      "outputs": []
    },
    {
      "cell_type": "code",
      "metadata": {
        "id": "MaZzEQRJfqlG",
        "colab_type": "code",
        "colab": {}
      },
      "source": [
        ""
      ],
      "execution_count": null,
      "outputs": []
    }
  ]
}