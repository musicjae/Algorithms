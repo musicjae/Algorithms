{
  "nbformat": 4,
  "nbformat_minor": 0,
  "metadata": {
    "colab": {
      "name": "data structure & algorithm with python.ipynb",
      "provenance": [],
      "private_outputs": true,
      "authorship_tag": "ABX9TyPm5IeECtjOXiO6gtKwYn9c",
      "include_colab_link": true
    },
    "kernelspec": {
      "name": "python3",
      "display_name": "Python 3"
    },
    "accelerator": "GPU"
  },
  "cells": [
    {
      "cell_type": "markdown",
      "metadata": {
        "id": "view-in-github",
        "colab_type": "text"
      },
      "source": [
        "<a href=\"https://colab.research.google.com/github/musicjae/Algorithms/blob/master/intro_algorithms/data_structure_%26_algorithm_with_python.ipynb\" target=\"_parent\"><img src=\"https://colab.research.google.com/assets/colab-badge.svg\" alt=\"Open In Colab\"/></a>"
      ]
    },
    {
      "cell_type": "markdown",
      "metadata": {
        "id": "iaH0GHpJdEWE",
        "colab_type": "text"
      },
      "source": [
        "# 1. 예비단계"
      ]
    },
    {
      "cell_type": "markdown",
      "metadata": {
        "id": "s2QHkcCxb9HH",
        "colab_type": "text"
      },
      "source": [
        "**1.1 프로파일링**<br>\n",
        "&nbsp;&nbsp;프로그램이 느릴 때, 메모리 소비 많을 때 사용. 그 이유는 자료구조 및 알고리즘을 잘못 선택했을 가능성이 있기 때문이다. 이때 다음 성능을 검토하라:<br><br>\n",
        "\n",
        "&nbsp;&nbsp; - 읽기 전용 데이터: 리스트 --> 튜플<br>\n",
        "&nbsp;&nbsp; - 반복문에서, 항목이 많은 리스트, 튜플 대신 generator 사용\n",
        "&nbsp;&nbsp; - 문자열 연결 시, + 대신에 append로 추가하고, 마지막에 리스트 항목을 **모두 하나로** 연결"
      ]
    },
    {
      "cell_type": "markdown",
      "metadata": {
        "id": "2r_NNEydd3Zr",
        "colab_type": "text"
      },
      "source": [
        "&nbsp;&nbsp;**1.1.1 cProfile 모듈**<br><br>\n",
        "호출 시간에 대한 세부 분석, 병목 현상bottleneck을 찾는 데 사용된다."
      ]
    },
    {
      "cell_type": "code",
      "metadata": {
        "id": "VfQpKh9VeGIO",
        "colab_type": "code",
        "colab": {}
      },
      "source": [
        "import cProfile\n",
        "import time\n",
        "\n",
        "def sleep():\n",
        "    time.sleep(5)\n",
        "\n",
        "def hw():\n",
        "    print(\"테스트 중입니다\")\n",
        "\n",
        "def main():\n",
        "    sleep()\n",
        "    hw()\n",
        "\n",
        "cProfile.run('main()')"
      ],
      "execution_count": null,
      "outputs": []
    },
    {
      "cell_type": "markdown",
      "metadata": {
        "id": "jcT9lJ2YehoJ",
        "colab_type": "text"
      },
      "source": [
        "&nbsp;&nbsp;**1.1.2 timeit 모듈**<br><br>\n",
        "일부분의 코드의 실행 시간 확인 시 사용"
      ]
    },
    {
      "cell_type": "code",
      "metadata": {
        "id": "TJjMYEiBfu9v",
        "colab_type": "code",
        "colab": {}
      },
      "source": [
        "import timeit\n",
        "\n",
        "a = timeit.timeit(\"x = sum(range(100))\")\n",
        "b = timeit.timeit(\"x = sum(range(10))\")\n",
        "\n",
        "print(' a: ',a,'\\n','b: ', b)\n",
        "\n",
        "a= float(a)\n",
        "b=float(b)\n",
        "\n",
        "if a > b:\n",
        "    print('a가 %f만큼 더 소요된다' % (a-b))\n",
        "\n",
        "else:\n",
        "    print('b 가 더 소요')"
      ],
      "execution_count": null,
      "outputs": []
    },
    {
      "cell_type": "code",
      "metadata": {
        "id": "r8D1XzKxhtak",
        "colab_type": "code",
        "colab": {}
      },
      "source": [
        "# time 모듈 이용해보기\n",
        "\n",
        "import time\n",
        "\n",
        "def sum_of_n2(n):\n",
        "\n",
        "    start = time.time()\n",
        "\n",
        "    summ = 0\n",
        "    \n",
        "    for i in range(1,n+1):\n",
        "\n",
        "        summ += i\n",
        "\n",
        "    end = time.time()\n",
        "\n",
        "    return summ, (end-start)\n",
        "\n",
        "if __name__ == \"__main__\":\n",
        "\n",
        "    n = 10\n",
        "    print(\"총 합:%d\\t, 시간:%f 초\" % sum_of_n2(n)) \n",
        "\n",
        "    n = 100\n",
        "    print(\"총 합:%d\\t, 시간:%f 초\" % sum_of_n2(n))\n",
        "\n",
        "    n = 10000\n",
        "    print(\"총 합:%d\\t, 시간:%f 초\" % sum_of_n2(n))\n",
        "\n",
        "    n = 100000000\n",
        "    print(\"총 합:%d\\t, 시간:%f 초\" % sum_of_n2(n)) "
      ],
      "execution_count": null,
      "outputs": []
    },
    {
      "cell_type": "code",
      "metadata": {
        "id": "lm28LdATg9nt",
        "colab_type": "code",
        "colab": {}
      },
      "source": [
        ""
      ],
      "execution_count": null,
      "outputs": []
    },
    {
      "cell_type": "markdown",
      "metadata": {
        "id": "FMrFmw1Ac_6G",
        "colab_type": "text"
      },
      "source": [
        "**1.2 단위 테스트**<br><br>\n",
        "&nbsp;&nbsp;특정 함수, 클래스, 메서드에 대해 작성할 때, 예상한 값이 맞게 나왔는지 확인하는 것. 단위 테스트는 표준 라이브러리에서 doctest, unittest 모듈을 제공하고, 외부 라이브러리에서는 pytest가 있다."
      ]
    },
    {
      "cell_type": "code",
      "metadata": {
        "id": "G6P-iSr3eJe0",
        "colab_type": "code",
        "colab": {}
      },
      "source": [
        "\n",
        "import doctest\n",
        "import unittest\n",
        "\n",
        "class CustomTests(unittest.TestCase): \n",
        "    def factorial(self, n):\n",
        "        result = 1\n",
        "\n",
        "        for i in range(n-1):\n",
        "            result *= n\n",
        "            n = n-1\n",
        "\n",
        "        return result\n",
        "\n",
        "if __name__ == '__main__':  \n",
        "    unittest.main()\n",
        "    doctest.testmod()\n"
      ],
      "execution_count": null,
      "outputs": []
    },
    {
      "cell_type": "code",
      "metadata": {
        "id": "bM3GvUO4eHz5",
        "colab_type": "code",
        "colab": {}
      },
      "source": [
        "\n",
        "import doctest\n",
        "import unittest\n",
        "\n",
        "class CustomTests(unittest.TestCase): \n",
        "    def factorial(self, n):\n",
        "        result = 1\n",
        "\n",
        "        for i in range(n-1):\n",
        "            result *= n\n",
        "            n = n-1\n",
        "\n",
        "        return result\n",
        "\n",
        "if __name__ == '__main__':  \n",
        "    unittest.main(argv=['first-arg-is-ignored'], exit=False) # 위 문제 해결 시도\n",
        "    doctest.testmod()\n",
        "\n"
      ],
      "execution_count": null,
      "outputs": []
    },
    {
      "cell_type": "code",
      "metadata": {
        "id": "xW7lSTjAfwkg",
        "colab_type": "code",
        "colab": {}
      },
      "source": [
        "# pytest\n",
        "import pytest\n",
        "\n",
        " def factorial(self, n):\n",
        "    result = 1\n",
        "\n",
        "    for i in range(n-1):\n",
        "        result *= n\n",
        "        n = n-1\n",
        "\n",
        "    return result\n",
        "\n",
        "def test_answer():\n",
        "\n",
        "    assert factorial(5) == 120\n",
        "\n",
        "#명령창에서 테스트 실시"
      ],
      "execution_count": null,
      "outputs": []
    },
    {
      "cell_type": "markdown",
      "metadata": {
        "id": "nM7AUTxtjFVj",
        "colab_type": "text"
      },
      "source": [
        "## **2장. 추상 데이터 타입**<br><br>\n",
        "\n",
        "#### &nbsp;&nbsp;2.1 스택<br>\n",
        "#### &nbsp;&nbsp;2.2 큐<br>\n",
        "#### &nbsp;&nbsp;2.3 데크<br>\n",
        "#### &nbsp;&nbsp;2.4 우선순위 큐/ 힙<br>\n",
        "#### &nbsp;&nbsp;2.5 연결 리스트<br>\n",
        "#### &nbsp;&nbsp;2.6 해시 테이블<br><br><br>\n",
        "\n",
        "##### &nbsp;&nbsp;&nbsp;&nbsp; 2.1 스택<br><br>\n",
        "**추상데이터 타입(ADT)**: (각기 클래스가 다를 수 있지만) 기능적으로 유사한 동작을 가진 자료구조의 클래스에 대한 수학적 모델. <br><br>\n",
        "자료 구조는 크게 2 가지 방식으로 나뉠 수 있다:<br><br>\n",
        "&nbsp;&nbsp;배열 기반 연속 continuation 방식<br>\n",
        "&nbsp;&nbsp;&nbsp;&nbsp; 단일 메모리 slab로 구성된 구조. 문자열, 리스트, 튜플, 딕셔너리 등이 있다. <br><br>\n",
        "&nbsp;&nbsp;포인터 기반 link 방식<br>\n",
        "&nbsp;&nbsp;&nbsp;&nbsp;포인터에 연결된 메모리 chunk<br><br>\n",
        "\n",
        "**stack**이란 \"배열 끝에서만 데이터에 접근할 수 있는 linear 자료구조이다.<br>&nbsp;&nbsp;특징<br><br>\n",
        "&nbsp;&nbsp;&nbsp;&nbsp;(1) 배열에서 인덱스 접근이 제한됨<br>\n",
        "&nbsp;&nbsp;&nbsp;&nbsp;(2) 후입선출LIFO<br>\n",
        "&nbsp;&nbsp;&nbsp;&nbsp;(3) 시간복잡도 O(1)<br><br>\n",
        "**Terms**<br><br>\n",
        "push: 스택 맨 끝(위)에 항목 삽입<br>\n",
        "pop: 스택 맨 끝 항목 반환 & 제거\n",
        "top/peek 맨 끝 항목 조회<br>\n",
        "empty: 비어있는지 확인<br>\n",
        "size: 크기 확인<br>\n",
        "<br>\n",
        "**applicaton**\n",
        "In python, append()와 pop() 메서드로 스택 구현\n",
        "\n",
        "\n"
      ]
    },
    {
      "cell_type": "code",
      "metadata": {
        "id": "9SQn377wmtW1",
        "colab_type": "code",
        "colab": {}
      },
      "source": [
        ""
      ],
      "execution_count": null,
      "outputs": []
    },
    {
      "cell_type": "code",
      "metadata": {
        "id": "MaZzEQRJfqlG",
        "colab_type": "code",
        "colab": {}
      },
      "source": [
        ""
      ],
      "execution_count": null,
      "outputs": []
    }
  ]
}